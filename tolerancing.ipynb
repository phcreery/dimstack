{
 "cells": [
  {
   "cell_type": "code",
   "execution_count": 22,
   "metadata": {},
   "outputs": [],
   "source": [
    "import dimstack\n",
    "import latexify\n",
    "import importlib"
   ]
  },
  {
   "cell_type": "code",
   "execution_count": 40,
   "metadata": {},
   "outputs": [
    {
     "data": {
      "text/latex": [
       "$\\displaystyle \\begin{align}\\mathrm{C_p}(UL, LL, {\\sigma}) = \\frac{UL - LL}{{6} {\\sigma}}\\end{align}$"
      ],
      "text/plain": [
       "<IPython.core.display.Math object>"
      ]
     },
     "execution_count": 40,
     "metadata": {},
     "output_type": "execute_result"
    }
   ],
   "source": [
    "import math\n",
    "importlib.reload(dimstack)\n",
    "# Function names, arguments, variables can be replaced.\n",
    "identifiers = {\n",
    "    \"solve\": \"f\",\n",
    "    \"stdev\": \"sigma\",\n",
    "    \"mean\": \"mu\",\n",
    "}\n",
    "\n",
    "def center(expr):\n",
    "    return \"\\\\begin{align}\" + expr + \"\\\\end{align}\"\n",
    "\n",
    "\n",
    "def C_p(UL: float, LL: float, stdev: float) -> float:\n",
    "    return (UL - LL) / (6 * stdev)\n",
    "\n",
    "from IPython.display import display, Math, Latex\n",
    "# C_p = dimstack.stats.C_p\n",
    "Math(center(latexify.get_latex(C_p, identifiers=identifiers, use_math_symbols=True)))"
   ]
  }
 ],
 "metadata": {
  "kernelspec": {
   "display_name": ".venv",
   "language": "python",
   "name": "python3"
  },
  "language_info": {
   "codemirror_mode": {
    "name": "ipython",
    "version": 3
   },
   "file_extension": ".py",
   "mimetype": "text/x-python",
   "name": "python",
   "nbconvert_exporter": "python",
   "pygments_lexer": "ipython3",
   "version": "3.8.3"
  },
  "orig_nbformat": 4,
  "vscode": {
   "interpreter": {
    "hash": "5bfb56689b638d8d30b38bea412290d873fd42bedb5432d9308bdce226930289"
   }
  }
 },
 "nbformat": 4,
 "nbformat_minor": 2
}
