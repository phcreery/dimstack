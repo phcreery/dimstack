{
  "cells": [
    {
      "cell_type": "code",
      "execution_count": 3,
      "metadata": {},
      "outputs": [
        {
          "name": "stdout",
          "output_type": "stream",
          "text": [
            "Note: you may need to restart the kernel to use updated packages.\n"
          ]
        },
        {
          "name": "stderr",
          "output_type": "stream",
          "text": [
            "c:\\Users\\phcre\\Documents\\Python\\dimstack\\.venv\\Scripts\\python.exe: No module named pip\n"
          ]
        }
      ],
      "source": [
        "%pip install -q dimstack"
      ]
    },
    {
      "cell_type": "code",
      "execution_count": 1,
      "metadata": {},
      "outputs": [
        {
          "data": {
            "text/html": [
              "<style type=\"text/css\">\n",
              "</style>\n",
              "<table id=\"T_af801\">\n",
              "  <caption>Stack: stacks on stacks</caption>\n",
              "  <thead>\n",
              "    <tr>\n",
              "      <th id=\"T_af801_level0_col0\" class=\"col_heading level0 col0\" >ID</th>\n",
              "      <th id=\"T_af801_level0_col1\" class=\"col_heading level0 col1\" >Name</th>\n",
              "      <th id=\"T_af801_level0_col2\" class=\"col_heading level0 col2\" >Description</th>\n",
              "      <th id=\"T_af801_level0_col3\" class=\"col_heading level0 col3\" >dir</th>\n",
              "      <th id=\"T_af801_level0_col4\" class=\"col_heading level0 col4\" >Nom.</th>\n",
              "      <th id=\"T_af801_level0_col5\" class=\"col_heading level0 col5\" >Tol.</th>\n",
              "      <th id=\"T_af801_level0_col6\" class=\"col_heading level0 col6\" >Sen.</th>\n",
              "      <th id=\"T_af801_level0_col7\" class=\"col_heading level0 col7\" >Relative Bounds</th>\n",
              "      <th id=\"T_af801_level0_col8\" class=\"col_heading level0 col8\" >Dist.</th>\n",
              "      <th id=\"T_af801_level0_col9\" class=\"col_heading level0 col9\" >Process Sigma</th>\n",
              "      <th id=\"T_af801_level0_col10\" class=\"col_heading level0 col10\" >k</th>\n",
              "      <th id=\"T_af801_level0_col11\" class=\"col_heading level0 col11\" >C_p</th>\n",
              "      <th id=\"T_af801_level0_col12\" class=\"col_heading level0 col12\" >C_pk</th>\n",
              "      <th id=\"T_af801_level0_col13\" class=\"col_heading level0 col13\" >μ</th>\n",
              "      <th id=\"T_af801_level0_col14\" class=\"col_heading level0 col14\" >σ</th>\n",
              "      <th id=\"T_af801_level0_col15\" class=\"col_heading level0 col15\" >μ_eff</th>\n",
              "      <th id=\"T_af801_level0_col16\" class=\"col_heading level0 col16\" >σ_eff</th>\n",
              "      <th id=\"T_af801_level0_col17\" class=\"col_heading level0 col17\" >Yield Probability</th>\n",
              "      <th id=\"T_af801_level0_col18\" class=\"col_heading level0 col18\" >Reject PPM</th>\n",
              "    </tr>\n",
              "  </thead>\n",
              "  <tbody>\n",
              "    <tr>\n",
              "      <td id=\"T_af801_row0_col0\" class=\"data row0 col0\" >0</td>\n",
              "      <td id=\"T_af801_row0_col1\" class=\"data row0 col1\" >a</td>\n",
              "      <td id=\"T_af801_row0_col2\" class=\"data row0 col2\" >Shaft</td>\n",
              "      <td id=\"T_af801_row0_col3\" class=\"data row0 col3\" >+</td>\n",
              "      <td id=\"T_af801_row0_col4\" class=\"data row0 col4\" >208.0</td>\n",
              "      <td id=\"T_af801_row0_col5\" class=\"data row0 col5\" >± 0.036       </td>\n",
              "      <td id=\"T_af801_row0_col6\" class=\"data row0 col6\" >1</td>\n",
              "      <td id=\"T_af801_row0_col7\" class=\"data row0 col7\" >[207.964, 208.036]</td>\n",
              "      <td id=\"T_af801_row0_col8\" class=\"data row0 col8\" >Normal</td>\n",
              "      <td id=\"T_af801_row0_col9\" class=\"data row0 col9\" >± 6σ</td>\n",
              "      <td id=\"T_af801_row0_col10\" class=\"data row0 col10\" >0.25</td>\n",
              "      <td id=\"T_af801_row0_col11\" class=\"data row0 col11\" >2.0</td>\n",
              "      <td id=\"T_af801_row0_col12\" class=\"data row0 col12\" >1.5</td>\n",
              "      <td id=\"T_af801_row0_col13\" class=\"data row0 col13\" >208.009</td>\n",
              "      <td id=\"T_af801_row0_col14\" class=\"data row0 col14\" >0.006</td>\n",
              "      <td id=\"T_af801_row0_col15\" class=\"data row0 col15\" >208.0</td>\n",
              "      <td id=\"T_af801_row0_col16\" class=\"data row0 col16\" >0.008</td>\n",
              "      <td id=\"T_af801_row0_col17\" class=\"data row0 col17\" >99.99932047</td>\n",
              "      <td id=\"T_af801_row0_col18\" class=\"data row0 col18\" >6.8</td>\n",
              "    </tr>\n",
              "    <tr>\n",
              "      <td id=\"T_af801_row1_col0\" class=\"data row1 col0\" >1</td>\n",
              "      <td id=\"T_af801_row1_col1\" class=\"data row1 col1\" >b</td>\n",
              "      <td id=\"T_af801_row1_col2\" class=\"data row1 col2\" >Retainer ring</td>\n",
              "      <td id=\"T_af801_row1_col3\" class=\"data row1 col3\" >-</td>\n",
              "      <td id=\"T_af801_row1_col4\" class=\"data row1 col4\" >1.75</td>\n",
              "      <td id=\"T_af801_row1_col5\" class=\"data row1 col5\" >+ 0 / - 0.06  </td>\n",
              "      <td id=\"T_af801_row1_col6\" class=\"data row1 col6\" >1</td>\n",
              "      <td id=\"T_af801_row1_col7\" class=\"data row1 col7\" >[1.69, 1.75]</td>\n",
              "      <td id=\"T_af801_row1_col8\" class=\"data row1 col8\" >Normal</td>\n",
              "      <td id=\"T_af801_row1_col9\" class=\"data row1 col9\" >± 3σ</td>\n",
              "      <td id=\"T_af801_row1_col10\" class=\"data row1 col10\" >0</td>\n",
              "      <td id=\"T_af801_row1_col11\" class=\"data row1 col11\" >1.0</td>\n",
              "      <td id=\"T_af801_row1_col12\" class=\"data row1 col12\" >1.0</td>\n",
              "      <td id=\"T_af801_row1_col13\" class=\"data row1 col13\" >1.72</td>\n",
              "      <td id=\"T_af801_row1_col14\" class=\"data row1 col14\" >0.01</td>\n",
              "      <td id=\"T_af801_row1_col15\" class=\"data row1 col15\" >1.72</td>\n",
              "      <td id=\"T_af801_row1_col16\" class=\"data row1 col16\" >0.01</td>\n",
              "      <td id=\"T_af801_row1_col17\" class=\"data row1 col17\" >99.73002039</td>\n",
              "      <td id=\"T_af801_row1_col18\" class=\"data row1 col18\" >2699.8</td>\n",
              "    </tr>\n",
              "    <tr>\n",
              "      <td id=\"T_af801_row2_col0\" class=\"data row2 col0\" >2</td>\n",
              "      <td id=\"T_af801_row2_col1\" class=\"data row2 col1\" >c</td>\n",
              "      <td id=\"T_af801_row2_col2\" class=\"data row2 col2\" >Bearing</td>\n",
              "      <td id=\"T_af801_row2_col3\" class=\"data row2 col3\" >-</td>\n",
              "      <td id=\"T_af801_row2_col4\" class=\"data row2 col4\" >23.0</td>\n",
              "      <td id=\"T_af801_row2_col5\" class=\"data row2 col5\" >+ 0 / - 0.12  </td>\n",
              "      <td id=\"T_af801_row2_col6\" class=\"data row2 col6\" >1</td>\n",
              "      <td id=\"T_af801_row2_col7\" class=\"data row2 col7\" >[22.88, 23]</td>\n",
              "      <td id=\"T_af801_row2_col8\" class=\"data row2 col8\" >Normal</td>\n",
              "      <td id=\"T_af801_row2_col9\" class=\"data row2 col9\" >± 3σ</td>\n",
              "      <td id=\"T_af801_row2_col10\" class=\"data row2 col10\" >0</td>\n",
              "      <td id=\"T_af801_row2_col11\" class=\"data row2 col11\" >1.0</td>\n",
              "      <td id=\"T_af801_row2_col12\" class=\"data row2 col12\" >1.0</td>\n",
              "      <td id=\"T_af801_row2_col13\" class=\"data row2 col13\" >22.94</td>\n",
              "      <td id=\"T_af801_row2_col14\" class=\"data row2 col14\" >0.02</td>\n",
              "      <td id=\"T_af801_row2_col15\" class=\"data row2 col15\" >22.94</td>\n",
              "      <td id=\"T_af801_row2_col16\" class=\"data row2 col16\" >0.02</td>\n",
              "      <td id=\"T_af801_row2_col17\" class=\"data row2 col17\" >99.73002039</td>\n",
              "      <td id=\"T_af801_row2_col18\" class=\"data row2 col18\" >2699.8</td>\n",
              "    </tr>\n",
              "    <tr>\n",
              "      <td id=\"T_af801_row3_col0\" class=\"data row3 col0\" >3</td>\n",
              "      <td id=\"T_af801_row3_col1\" class=\"data row3 col1\" >d</td>\n",
              "      <td id=\"T_af801_row3_col2\" class=\"data row3 col2\" >Bearing Sleeve</td>\n",
              "      <td id=\"T_af801_row3_col3\" class=\"data row3 col3\" >+</td>\n",
              "      <td id=\"T_af801_row3_col4\" class=\"data row3 col4\" >20.0</td>\n",
              "      <td id=\"T_af801_row3_col5\" class=\"data row3 col5\" >± 0.026       </td>\n",
              "      <td id=\"T_af801_row3_col6\" class=\"data row3 col6\" >1</td>\n",
              "      <td id=\"T_af801_row3_col7\" class=\"data row3 col7\" >[19.974, 20.026]</td>\n",
              "      <td id=\"T_af801_row3_col8\" class=\"data row3 col8\" >Normal</td>\n",
              "      <td id=\"T_af801_row3_col9\" class=\"data row3 col9\" >± 3σ</td>\n",
              "      <td id=\"T_af801_row3_col10\" class=\"data row3 col10\" >0</td>\n",
              "      <td id=\"T_af801_row3_col11\" class=\"data row3 col11\" >1.0</td>\n",
              "      <td id=\"T_af801_row3_col12\" class=\"data row3 col12\" >1.0</td>\n",
              "      <td id=\"T_af801_row3_col13\" class=\"data row3 col13\" >20.0</td>\n",
              "      <td id=\"T_af801_row3_col14\" class=\"data row3 col14\" >0.00867</td>\n",
              "      <td id=\"T_af801_row3_col15\" class=\"data row3 col15\" >20.0</td>\n",
              "      <td id=\"T_af801_row3_col16\" class=\"data row3 col16\" >0.00867</td>\n",
              "      <td id=\"T_af801_row3_col17\" class=\"data row3 col17\" >99.73002039</td>\n",
              "      <td id=\"T_af801_row3_col18\" class=\"data row3 col18\" >2699.8</td>\n",
              "    </tr>\n",
              "    <tr>\n",
              "      <td id=\"T_af801_row4_col0\" class=\"data row4 col0\" >4</td>\n",
              "      <td id=\"T_af801_row4_col1\" class=\"data row4 col1\" >e</td>\n",
              "      <td id=\"T_af801_row4_col2\" class=\"data row4 col2\" >Case</td>\n",
              "      <td id=\"T_af801_row4_col3\" class=\"data row4 col3\" >-</td>\n",
              "      <td id=\"T_af801_row4_col4\" class=\"data row4 col4\" >200.0</td>\n",
              "      <td id=\"T_af801_row4_col5\" class=\"data row4 col5\" >± 0.145       </td>\n",
              "      <td id=\"T_af801_row4_col6\" class=\"data row4 col6\" >1</td>\n",
              "      <td id=\"T_af801_row4_col7\" class=\"data row4 col7\" >[199.855, 200.145]</td>\n",
              "      <td id=\"T_af801_row4_col8\" class=\"data row4 col8\" >Normal</td>\n",
              "      <td id=\"T_af801_row4_col9\" class=\"data row4 col9\" >± 3σ</td>\n",
              "      <td id=\"T_af801_row4_col10\" class=\"data row4 col10\" >0</td>\n",
              "      <td id=\"T_af801_row4_col11\" class=\"data row4 col11\" >1.0</td>\n",
              "      <td id=\"T_af801_row4_col12\" class=\"data row4 col12\" >1.0</td>\n",
              "      <td id=\"T_af801_row4_col13\" class=\"data row4 col13\" >200.0</td>\n",
              "      <td id=\"T_af801_row4_col14\" class=\"data row4 col14\" >0.04833</td>\n",
              "      <td id=\"T_af801_row4_col15\" class=\"data row4 col15\" >200.0</td>\n",
              "      <td id=\"T_af801_row4_col16\" class=\"data row4 col16\" >0.04833</td>\n",
              "      <td id=\"T_af801_row4_col17\" class=\"data row4 col17\" >99.73002039</td>\n",
              "      <td id=\"T_af801_row4_col18\" class=\"data row4 col18\" >2699.8</td>\n",
              "    </tr>\n",
              "    <tr>\n",
              "      <td id=\"T_af801_row5_col0\" class=\"data row5 col0\" >5</td>\n",
              "      <td id=\"T_af801_row5_col1\" class=\"data row5 col1\" >f</td>\n",
              "      <td id=\"T_af801_row5_col2\" class=\"data row5 col2\" >Bearing Sleeve</td>\n",
              "      <td id=\"T_af801_row5_col3\" class=\"data row5 col3\" >+</td>\n",
              "      <td id=\"T_af801_row5_col4\" class=\"data row5 col4\" >20.0</td>\n",
              "      <td id=\"T_af801_row5_col5\" class=\"data row5 col5\" >± 0.026       </td>\n",
              "      <td id=\"T_af801_row5_col6\" class=\"data row5 col6\" >1</td>\n",
              "      <td id=\"T_af801_row5_col7\" class=\"data row5 col7\" >[19.974, 20.026]</td>\n",
              "      <td id=\"T_af801_row5_col8\" class=\"data row5 col8\" >Uniform</td>\n",
              "      <td id=\"T_af801_row5_col9\" class=\"data row5 col9\" ></td>\n",
              "      <td id=\"T_af801_row5_col10\" class=\"data row5 col10\" ></td>\n",
              "      <td id=\"T_af801_row5_col11\" class=\"data row5 col11\" ></td>\n",
              "      <td id=\"T_af801_row5_col12\" class=\"data row5 col12\" ></td>\n",
              "      <td id=\"T_af801_row5_col13\" class=\"data row5 col13\" ></td>\n",
              "      <td id=\"T_af801_row5_col14\" class=\"data row5 col14\" ></td>\n",
              "      <td id=\"T_af801_row5_col15\" class=\"data row5 col15\" ></td>\n",
              "      <td id=\"T_af801_row5_col16\" class=\"data row5 col16\" ></td>\n",
              "      <td id=\"T_af801_row5_col17\" class=\"data row5 col17\" ></td>\n",
              "      <td id=\"T_af801_row5_col18\" class=\"data row5 col18\" ></td>\n",
              "    </tr>\n",
              "    <tr>\n",
              "      <td id=\"T_af801_row6_col0\" class=\"data row6 col0\" >6</td>\n",
              "      <td id=\"T_af801_row6_col1\" class=\"data row6 col1\" >g</td>\n",
              "      <td id=\"T_af801_row6_col2\" class=\"data row6 col2\" >Bearing</td>\n",
              "      <td id=\"T_af801_row6_col3\" class=\"data row6 col3\" >-</td>\n",
              "      <td id=\"T_af801_row6_col4\" class=\"data row6 col4\" >23.0</td>\n",
              "      <td id=\"T_af801_row6_col5\" class=\"data row6 col5\" >+ 0 / - 0.12  </td>\n",
              "      <td id=\"T_af801_row6_col6\" class=\"data row6 col6\" >1</td>\n",
              "      <td id=\"T_af801_row6_col7\" class=\"data row6 col7\" >[22.88, 23]</td>\n",
              "      <td id=\"T_af801_row6_col8\" class=\"data row6 col8\" >Normal</td>\n",
              "      <td id=\"T_af801_row6_col9\" class=\"data row6 col9\" >± 3σ</td>\n",
              "      <td id=\"T_af801_row6_col10\" class=\"data row6 col10\" >0</td>\n",
              "      <td id=\"T_af801_row6_col11\" class=\"data row6 col11\" >1.0</td>\n",
              "      <td id=\"T_af801_row6_col12\" class=\"data row6 col12\" >1.0</td>\n",
              "      <td id=\"T_af801_row6_col13\" class=\"data row6 col13\" >22.94</td>\n",
              "      <td id=\"T_af801_row6_col14\" class=\"data row6 col14\" >0.02</td>\n",
              "      <td id=\"T_af801_row6_col15\" class=\"data row6 col15\" >22.94</td>\n",
              "      <td id=\"T_af801_row6_col16\" class=\"data row6 col16\" >0.02</td>\n",
              "      <td id=\"T_af801_row6_col17\" class=\"data row6 col17\" >99.73002039</td>\n",
              "      <td id=\"T_af801_row6_col18\" class=\"data row6 col18\" >2699.8</td>\n",
              "    </tr>\n",
              "  </tbody>\n",
              "</table>\n"
            ],
            "text/plain": [
              "Stack(stacks on stacks, [StatisticalDimension(208, SymmetricBilateral(0.036), 1, a, Shaft, 6, 0.25, Normal), StatisticalDimension(1.75, UnequalBilateral(0, 0.06), 1, b, Retainer ring, 3, 0, Normal), StatisticalDimension(23, UnequalBilateral(0, 0.12), 1, c, Bearing, 3, 0, Normal), StatisticalDimension(20, SymmetricBilateral(0.026), 1, d, Bearing Sleeve, 3, 0, Normal), StatisticalDimension(200, SymmetricBilateral(0.145), 1, e, Case, 3, 0, Normal), BasicDimension(20, SymmetricBilateral(0.026), 1, f, Bearing Sleeve), StatisticalDimension(23, UnequalBilateral(0, 0.12), 1, g, Bearing, 3, 0, Normal)])"
            ]
          },
          "execution_count": 1,
          "metadata": {},
          "output_type": "execute_result"
        }
      ],
      "source": [
        "import dimstack as ds\n",
        "ds.display.mode(\"df\")\n",
        "\n",
        "m1 = ds.StatisticalDimension(\n",
        "    nom=208,\n",
        "    tol=ds.tol.SymmetricBilateral(0.036),\n",
        "    process_sigma=6,\n",
        "    k=0.25,\n",
        "    name=\"a\",\n",
        "    desc=\"Shaft\",\n",
        ")\n",
        "m2 = ds.StatisticalDimension(\n",
        "    nom=-1.75,\n",
        "    tol=ds.tol.UnequalBilateral(0, 0.06),\n",
        "    process_sigma=3,\n",
        "    name=\"b\",\n",
        "    desc=\"Retainer ring\",\n",
        ")\n",
        "m3 = ds.StatisticalDimension(nom=-23, tol=ds.tol.UnequalBilateral(0, 0.12), process_sigma=3, name=\"c\", desc=\"Bearing\")\n",
        "m4 = ds.StatisticalDimension(\n",
        "    nom=20,\n",
        "    tol=ds.tol.SymmetricBilateral(0.026),\n",
        "    process_sigma=3,\n",
        "    name=\"d\",\n",
        "    desc=\"Bearing Sleeve\",\n",
        ")\n",
        "m5 = ds.StatisticalDimension(nom=-200, tol=ds.tol.SymmetricBilateral(0.145), process_sigma=3, name=\"e\", desc=\"Case\")\n",
        "m6 = ds.BasicDimension(\n",
        "    nom=20,\n",
        "    tol=ds.tol.SymmetricBilateral(0.026),\n",
        "    # process_sigma=3,\n",
        "    name=\"f\",\n",
        "    desc=\"Bearing Sleeve\",\n",
        ")\n",
        "m7 = ds.StatisticalDimension(nom=-23, tol=ds.tol.UnequalBilateral(0, 0.12), process_sigma=3, name=\"g\", desc=\"Bearing\")\n",
        "items = [m1, m2, m3, m4, m5, m6, m7]\n",
        "\n",
        "stack = ds.Stack(title=\"stacks on stacks\", items=items)\n",
        "stack"
      ]
    },
    {
      "cell_type": "code",
      "execution_count": 2,
      "metadata": {},
      "outputs": [
        {
          "name": "stderr",
          "output_type": "stream",
          "text": [
            "WARNING:root:Converting BasicDimension (5: f Bearing Sleeve +20 ± 0.026) to StatisticalDimension\n"
          ]
        },
        {
          "data": {
            "application/vnd.plotly.v1+json": {
              "config": {
                "plotlyServerURL": "https://plot.ly"
              },
              "data": [
                {
                  "legendgroup": "a",
                  "line": {
                    "color": "#636EFA",
                    "width": 2
                  },
                  "marker": {
                    "size": [
                      0,
                      10
                    ]
                  },
                  "mode": "lines+markers+text",
                  "name": "a",
                  "text": [
                    "",
                    "0: a Shaft +208 ± 0.036 @ ± 6σ & k=0.25"
                  ],
                  "textposition": "bottom center",
                  "type": "scatter",
                  "x": [
                    0,
                    208
                  ],
                  "y": [
                    "a",
                    "a"
                  ]
                },
                {
                  "legendgroup": "a",
                  "line": {
                    "color": "black"
                  },
                  "marker": {
                    "line": {
                      "color": "black",
                      "width": 2
                    },
                    "size": [
                      0,
                      10
                    ],
                    "symbol": "line-ns"
                  },
                  "mode": "lines+markers+text",
                  "name": "a Upper Tol",
                  "opacity": 0.5,
                  "type": "scatter",
                  "x": [
                    208,
                    207.964
                  ],
                  "y": [
                    "a",
                    "a"
                  ]
                },
                {
                  "legendgroup": "a",
                  "line": {
                    "color": "black"
                  },
                  "marker": {
                    "line": {
                      "color": "black",
                      "width": 2
                    },
                    "size": [
                      0,
                      10
                    ],
                    "symbol": "line-ns"
                  },
                  "mode": "lines+markers+text",
                  "name": "a Lower Tol",
                  "opacity": 0.5,
                  "type": "scatter",
                  "x": [
                    208,
                    208.036
                  ],
                  "y": [
                    "a",
                    "a"
                  ]
                },
                {
                  "legendgroup": "a",
                  "line": {
                    "color": "#636EFA",
                    "width": 1
                  },
                  "name": "a Distribution",
                  "type": "scatter",
                  "x": [
                    207.964,
                    207.965,
                    207.966,
                    207.967,
                    207.96800000000002,
                    207.96900000000002,
                    207.97000000000003,
                    207.97100000000003,
                    207.97200000000004,
                    207.97300000000004,
                    207.97400000000005,
                    207.97500000000005,
                    207.97600000000006,
                    207.97700000000006,
                    207.97800000000007,
                    207.97900000000007,
                    207.98000000000008,
                    207.98100000000008,
                    207.98200000000008,
                    207.9830000000001,
                    207.9840000000001,
                    207.9850000000001,
                    207.9860000000001,
                    207.9870000000001,
                    207.9880000000001,
                    207.98900000000012,
                    207.99000000000012,
                    207.99100000000013,
                    207.99200000000013,
                    207.99300000000014,
                    207.99400000000014,
                    207.99500000000015,
                    207.99600000000015,
                    207.99700000000016,
                    207.99800000000016,
                    207.99900000000017,
                    208.00000000000017,
                    208.00100000000018,
                    208.00200000000018,
                    208.00300000000018,
                    208.0040000000002,
                    208.0050000000002,
                    208.0060000000002,
                    208.0070000000002,
                    208.0080000000002,
                    208.0090000000002,
                    208.01000000000022,
                    208.01100000000022,
                    208.01200000000023,
                    208.01300000000023,
                    208.01400000000024,
                    208.01500000000024,
                    208.01600000000025,
                    208.01700000000025,
                    208.01800000000026,
                    208.01900000000026,
                    208.02000000000027,
                    208.02100000000027,
                    208.02200000000028,
                    208.02300000000028,
                    208.02400000000029,
                    208.0250000000003,
                    208.0260000000003,
                    208.0270000000003,
                    208.0280000000003,
                    208.0290000000003,
                    208.0300000000003,
                    208.03100000000032,
                    208.03200000000032,
                    208.03300000000033,
                    208.03400000000033,
                    208.03500000000034,
                    208.03600000000034
                  ],
                  "xaxis": "x",
                  "y": [
                    0.0019979676383399406,
                    0.0034792542786227306,
                    0.005964829567619104,
                    0.010067556069425549,
                    0.016728778220617378,
                    0.027366454720658413,
                    0.04407446029616945,
                    0.06988269027955697,
                    0.10908533688178534,
                    0.16763985918825688,
                    0.2536310071658813,
                    0.37778225440552504,
                    0.5539810515013691,
                    0.7997650388546131,
                    1.1366953127202588,
                    1.5905226996353088,
                    2.1910375617409508,
                    2.9714876038018447,
                    3.9674564795437104,
                    5.215123157155761,
                    6.748870814295902,
                    8.5982844785236,
                    10.78466485354599,
                    13.317283516604183,
                    16.189699458568768,
                    19.376533182669917,
                    22.8311356740585,
                    26.48458072243353,
                    30.24634056539324,
                    34.00687479783241,
                    37.64217901986054,
                    41.02012106928098,
                    44.008165845972584,
                    46.481886734084014,
                    48.33351460062488,
                    49.479710868249335,
                    49.86778505020723,
                    49.47971086798565,
                    48.33351460010973,
                    46.48188673334089,
                    44.00816584503449,
                    41.02012106818798,
                    37.642179018656954,
                    34.006874796563835,
                    30.24634056410376,
                    26.48458072116329,
                    22.831135672841814,
                    19.376533181534068,
                    16.189699457533454,
                    13.317283515681591,
                    10.784664852741379,
                    8.598284477836287,
                    6.748870813720458,
                    5.215123156683301,
                    3.967456479163139,
                    2.9714876035009747,
                    2.191037561507427,
                    1.5905226994573127,
                    1.136695312586993,
                    0.7997650387565872,
                    0.5539810514305161,
                    0.3777822543551943,
                    0.25363100713073916,
                    0.16763985916413604,
                    0.10908533686550828,
                    0.06988269026875708,
                    0.04407446028912317,
                    0.027366454716137443,
                    0.016728778217764615,
                    0.010067556067655076,
                    0.005964829566538346,
                    0.0034792542779737887,
                    0.0019979676379566374
                  ],
                  "yaxis": "y2"
                },
                {
                  "legendgroup": "a",
                  "line": {
                    "color": "#636EFA",
                    "width": 1
                  },
                  "name": "a Distribution",
                  "opacity": 0.5,
                  "type": "scatter",
                  "x": [
                    207.964,
                    207.965,
                    207.966,
                    207.967,
                    207.96800000000002,
                    207.96900000000002,
                    207.97000000000003,
                    207.97100000000003,
                    207.97200000000004,
                    207.97300000000004,
                    207.97400000000005,
                    207.97500000000005,
                    207.97600000000006,
                    207.97700000000006,
                    207.97800000000007,
                    207.97900000000007,
                    207.98000000000008,
                    207.98100000000008,
                    207.98200000000008,
                    207.9830000000001,
                    207.9840000000001,
                    207.9850000000001,
                    207.9860000000001,
                    207.9870000000001,
                    207.9880000000001,
                    207.98900000000012,
                    207.99000000000012,
                    207.99100000000013,
                    207.99200000000013,
                    207.99300000000014,
                    207.99400000000014,
                    207.99500000000015,
                    207.99600000000015,
                    207.99700000000016,
                    207.99800000000016,
                    207.99900000000017,
                    208.00000000000017,
                    208.00100000000018,
                    208.00200000000018,
                    208.00300000000018,
                    208.0040000000002,
                    208.0050000000002,
                    208.0060000000002,
                    208.0070000000002,
                    208.0080000000002,
                    208.0090000000002,
                    208.01000000000022,
                    208.01100000000022,
                    208.01200000000023,
                    208.01300000000023,
                    208.01400000000024,
                    208.01500000000024,
                    208.01600000000025,
                    208.01700000000025,
                    208.01800000000026,
                    208.01900000000026,
                    208.02000000000027,
                    208.02100000000027,
                    208.02200000000028,
                    208.02300000000028,
                    208.02400000000029,
                    208.0250000000003,
                    208.0260000000003,
                    208.0270000000003,
                    208.0280000000003,
                    208.0290000000003,
                    208.0300000000003,
                    208.03100000000032,
                    208.03200000000032,
                    208.03300000000033,
                    208.03400000000033,
                    208.03500000000034,
                    208.03600000000034
                  ],
                  "xaxis": "x",
                  "y": [
                    4.057200888445092e-11,
                    1.3965701217277626e-10,
                    4.675577343075295e-10,
                    1.5224534014417457e-9,
                    4.821576220519953e-9,
                    1.4851500312853875e-8,
                    4.4492610248030995e-8,
                    1.2964080114077906e-7,
                    3.6739377331274774e-7,
                    0.0000010126471416933918,
                    0.000002714693201423276,
                    0.00000707814791119283,
                    0.000017949600072053927,
                    0.00004427169847829999,
                    0.00010620228370177098,
                    0.00024778658580642046,
                    0.0005622869343980704,
                    0.0012410076451954172,
                    0.002663956851347609,
                    0.005561810399687706,
                    0.011293834982316642,
                    0.022305037629157847,
                    0.04284505918026883,
                    0.08004510860945373,
                    0.1454471158517436,
                    0.2570464994006834,
                    0.4418293257702158,
                    0.7386414020418983,
                    1.2010166275177876,
                    1.8993310040936844,
                    2.9213834157843417,
                    4.370314849224405,
                    6.358770584782555,
                    8.998494419374817,
                    12.38519392716054,
                    16.579523132952026,
                    21.586265945310412,
                    27.335012447148074,
                    33.66644759361279,
                    40.32845408785961,
                    46.985312569711745,
                    53.24133425495747,
                    58.67755446175836,
                    62.89720461626002,
                    65.57328601739545,
                    66.49038006690546,
                    65.57328601656714,
                    62.897204614671004,
                    58.67755445953473,
                    53.241334252267315,
                    46.985312566744184,
                    40.32845408480307,
                    33.6664475906359,
                    27.335012444385733,
                    21.586265942856336,
                    16.579523130857726,
                    12.385193925439614,
                    8.998494418010798,
                    6.358770583738359,
                    4.370314848451529,
                    2.9213834152308036,
                    1.8993310037098117,
                    1.201016627259879,
                    0.7386414018739516,
                    0.441829325664174,
                    0.2570464993357437,
                    0.14544711581316103,
                    0.08004510858720908,
                    0.0428450591678209,
                    0.022305037622395767,
                    0.011293834978750101,
                    0.005561810397861037,
                    0.0026639568504390437
                  ],
                  "yaxis": "y2"
                },
                {
                  "legendgroup": "a",
                  "line": {
                    "color": "#636EFA",
                    "width": 1
                  },
                  "name": "a Distribution",
                  "opacity": 0.5,
                  "type": "scatter",
                  "x": [
                    207.964,
                    207.965,
                    207.966,
                    207.967,
                    207.96800000000002,
                    207.96900000000002,
                    207.97000000000003,
                    207.97100000000003,
                    207.97200000000004,
                    207.97300000000004,
                    207.97400000000005,
                    207.97500000000005,
                    207.97600000000006,
                    207.97700000000006,
                    207.97800000000007,
                    207.97900000000007,
                    207.98000000000008,
                    207.98100000000008,
                    207.98200000000008,
                    207.9830000000001,
                    207.9840000000001,
                    207.9850000000001,
                    207.9860000000001,
                    207.9870000000001,
                    207.9880000000001,
                    207.98900000000012,
                    207.99000000000012,
                    207.99100000000013,
                    207.99200000000013,
                    207.99300000000014,
                    207.99400000000014,
                    207.99500000000015,
                    207.99600000000015,
                    207.99700000000016,
                    207.99800000000016,
                    207.99900000000017,
                    208.00000000000017,
                    208.00100000000018,
                    208.00200000000018,
                    208.00300000000018,
                    208.0040000000002,
                    208.0050000000002,
                    208.0060000000002,
                    208.0070000000002,
                    208.0080000000002,
                    208.0090000000002,
                    208.01000000000022,
                    208.01100000000022,
                    208.01200000000023,
                    208.01300000000023,
                    208.01400000000024,
                    208.01500000000024,
                    208.01600000000025,
                    208.01700000000025,
                    208.01800000000026,
                    208.01900000000026,
                    208.02000000000027,
                    208.02100000000027,
                    208.02200000000028,
                    208.02300000000028,
                    208.02400000000029,
                    208.0250000000003,
                    208.0260000000003,
                    208.0270000000003,
                    208.0280000000003,
                    208.0290000000003,
                    208.0300000000003,
                    208.03100000000032,
                    208.03200000000032,
                    208.03300000000033,
                    208.03400000000033,
                    208.03500000000034,
                    208.03600000000034
                  ],
                  "xaxis": "x",
                  "y": [
                    0.0026639568511204717,
                    0.005561810399231033,
                    0.011293834981425012,
                    0.022305037627467345,
                    0.042845059177156856,
                    0.08004510860389256,
                    0.145447115842098,
                    0.25704649938444835,
                    0.4418293257437052,
                    0.7386414019999121,
                    1.20101662745331,
                    1.8993310039977174,
                    2.921383415645957,
                    4.370314849031185,
                    6.358770584521509,
                    8.998494419033811,
                    12.385193926730308,
                    16.579523132428456,
                    21.58626594469689,
                    27.335012446457483,
                    33.666447592868565,
                    40.32845408709547,
                    46.98531256896986,
                    53.241334254284936,
                    58.677554461202455,
                    62.89720461586275,
                    65.57328601718838,
                    66.49038006690546,
                    65.57328601677422,
                    62.89720461506825,
                    58.67755446009064,
                    53.24133425293985,
                    46.98531256748608,
                    40.328454085567195,
                    33.66644759138012,
                    27.33501244507632,
                    21.58626594346986,
                    16.5795231313813,
                    12.385193925869844,
                    8.998494418351806,
                    6.358770583999406,
                    4.370314848644749,
                    2.921383415369188,
                    1.8993310038057787,
                    1.2010166273243568,
                    0.7386414019159376,
                    0.44182932569068445,
                    0.2570464993519786,
                    0.14544711582280662,
                    0.0800451085927703,
                    0.04284505917093293,
                    0.022305037624086265,
                    0.011293834979641731,
                    0.0055618103983177195,
                    0.002663956850666181,
                    0.0012410076448662146,
                    0.0005622869342435855,
                    0.0002477865857359953,
                    0.00010620228367058021,
                    0.00004427169846487834,
                    0.000017949600066442184,
                    0.00000707814790891286,
                    0.0000027146932005231135,
                    0.0000010126471413480177,
                    3.6739377318396315e-7,
                    1.2964080109410698e-7,
                    4.449261023159177e-8,
                    1.4851500307225789e-8,
                    4.821576218647113e-9,
                    1.5224534008359554e-9,
                    4.675577341170563e-10,
                    1.3965701211455965e-10,
                    4.057200886715403e-11
                  ],
                  "yaxis": "y2"
                },
                {
                  "legendgroup": "b",
                  "line": {
                    "color": "#EF553B",
                    "width": 2
                  },
                  "marker": {
                    "size": [
                      0,
                      10
                    ]
                  },
                  "mode": "lines+markers+text",
                  "name": "b",
                  "text": [
                    "",
                    "1: b Retainer ring -1.75 + 0 / - 0.06 @ ± 3σ & k=0"
                  ],
                  "textposition": "bottom center",
                  "type": "scatter",
                  "x": [
                    208,
                    206.25
                  ],
                  "y": [
                    "b",
                    "b"
                  ]
                },
                {
                  "legendgroup": "b",
                  "line": {
                    "color": "black"
                  },
                  "marker": {
                    "line": {
                      "color": "black",
                      "width": 2
                    },
                    "size": [
                      0,
                      10
                    ],
                    "symbol": "line-ns"
                  },
                  "mode": "lines+markers+text",
                  "name": "b Upper Tol",
                  "opacity": 0.5,
                  "type": "scatter",
                  "x": [
                    206.25,
                    206.25
                  ],
                  "y": [
                    "b",
                    "b"
                  ]
                },
                {
                  "legendgroup": "b",
                  "line": {
                    "color": "black"
                  },
                  "marker": {
                    "line": {
                      "color": "black",
                      "width": 2
                    },
                    "size": [
                      0,
                      10
                    ],
                    "symbol": "line-ns"
                  },
                  "mode": "lines+markers+text",
                  "name": "b Lower Tol",
                  "opacity": 0.5,
                  "type": "scatter",
                  "x": [
                    206.25,
                    206.31
                  ],
                  "y": [
                    "b",
                    "b"
                  ]
                },
                {
                  "legendgroup": "b",
                  "line": {
                    "color": "#EF553B",
                    "width": 1
                  },
                  "name": "b Distribution",
                  "type": "scatter",
                  "x": [
                    206.31,
                    206.309,
                    206.308,
                    206.307,
                    206.306,
                    206.305,
                    206.304,
                    206.303,
                    206.302,
                    206.301,
                    206.3,
                    206.299,
                    206.298,
                    206.297,
                    206.296,
                    206.29500000000002,
                    206.294,
                    206.293,
                    206.292,
                    206.291,
                    206.29,
                    206.28900000000002,
                    206.288,
                    206.287,
                    206.286,
                    206.285,
                    206.284,
                    206.28300000000002,
                    206.282,
                    206.281,
                    206.28,
                    206.279,
                    206.278,
                    206.27700000000002,
                    206.276,
                    206.275,
                    206.274,
                    206.273,
                    206.272,
                    206.27100000000002,
                    206.27,
                    206.269,
                    206.268,
                    206.267,
                    206.266,
                    206.26500000000001,
                    206.264,
                    206.263,
                    206.262,
                    206.261,
                    206.26000000000002,
                    206.25900000000001,
                    206.258,
                    206.257,
                    206.256,
                    206.255,
                    206.25400000000002,
                    206.25300000000001,
                    206.252,
                    206.251,
                    206.25
                  ],
                  "xaxis": "x",
                  "y": [
                    0.4431848411937941,
                    0.5952532419775579,
                    0.7915451582979374,
                    1.0420934814421536,
                    1.3582969233683901,
                    1.7528300493565923,
                    2.23945302948391,
                    2.8327037741595893,
                    3.5474592846224238,
                    4.398359598041766,
                    5.399096651317573,
                    6.5615814774661025,
                    7.895015830087486,
                    9.404907737686349,
                    11.092083467942759,
                    12.951759566585899,
                    14.972746563570729,
                    17.136859204776496,
                    19.418605498316605,
                    21.785217703249977,
                    24.19707245190894,
                    26.608524989869885,
                    28.96915527614261,
                    31.225393336670546,
                    33.32246028917464,
                    35.206532676425084,
                    36.8270140303281,
                    38.13878154604901,
                    39.10426939754319,
                    39.695254747699934,
                    39.894228040143304,
                    39.69525474770258,
                    39.1042693975484,
                    38.138781546056634,
                    36.827014030337914,
                    35.20653267643681,
                    33.32246028918796,
                    31.22539333668511,
                    28.969155276158045,
                    26.60852498988584,
                    24.19707245192506,
                    21.78521770326594,
                    19.418605498332127,
                    17.136859204791335,
                    14.972746563584689,
                    12.951759566598838,
                    11.09208346795458,
                    9.404907737697,
                    7.895015830096952,
                    6.561581477474407,
                    5.399096651324766,
                    4.39835959804792,
                    3.547459284627623,
                    2.832703774163929,
                    2.2394530294874904,
                    1.7528300493595115,
                    1.3582969233707425,
                    1.0420934814440277,
                    0.7915451582994137,
                    0.5952532419787078,
                    0.44318484119467966
                  ],
                  "yaxis": "y2"
                },
                {
                  "legendgroup": "c",
                  "line": {
                    "color": "#00CC96",
                    "width": 2
                  },
                  "marker": {
                    "size": [
                      0,
                      10
                    ]
                  },
                  "mode": "lines+markers+text",
                  "name": "c",
                  "text": [
                    "",
                    "2: c Bearing -23 + 0 / - 0.12 @ ± 3σ & k=0"
                  ],
                  "textposition": "bottom center",
                  "type": "scatter",
                  "x": [
                    206.25,
                    183.25
                  ],
                  "y": [
                    "c",
                    "c"
                  ]
                },
                {
                  "legendgroup": "c",
                  "line": {
                    "color": "black"
                  },
                  "marker": {
                    "line": {
                      "color": "black",
                      "width": 2
                    },
                    "size": [
                      0,
                      10
                    ],
                    "symbol": "line-ns"
                  },
                  "mode": "lines+markers+text",
                  "name": "c Upper Tol",
                  "opacity": 0.5,
                  "type": "scatter",
                  "x": [
                    183.25,
                    183.25
                  ],
                  "y": [
                    "c",
                    "c"
                  ]
                },
                {
                  "legendgroup": "c",
                  "line": {
                    "color": "black"
                  },
                  "marker": {
                    "line": {
                      "color": "black",
                      "width": 2
                    },
                    "size": [
                      0,
                      10
                    ],
                    "symbol": "line-ns"
                  },
                  "mode": "lines+markers+text",
                  "name": "c Lower Tol",
                  "opacity": 0.5,
                  "type": "scatter",
                  "x": [
                    183.25,
                    183.37
                  ],
                  "y": [
                    "c",
                    "c"
                  ]
                },
                {
                  "legendgroup": "c",
                  "line": {
                    "color": "#00CC96",
                    "width": 1
                  },
                  "name": "c Distribution",
                  "type": "scatter",
                  "x": [
                    183.37,
                    183.369,
                    183.368,
                    183.367,
                    183.36599999999999,
                    183.365,
                    183.364,
                    183.363,
                    183.362,
                    183.361,
                    183.35999999999999,
                    183.35899999999998,
                    183.35799999999998,
                    183.35699999999997,
                    183.356,
                    183.355,
                    183.35399999999998,
                    183.35299999999998,
                    183.35199999999998,
                    183.35099999999997,
                    183.34999999999997,
                    183.349,
                    183.34799999999998,
                    183.34699999999998,
                    183.34599999999998,
                    183.34499999999997,
                    183.34399999999997,
                    183.34299999999996,
                    183.34199999999996,
                    183.34099999999995,
                    183.33999999999997,
                    183.33899999999997,
                    183.33799999999997,
                    183.33699999999996,
                    183.33599999999996,
                    183.33499999999995,
                    183.33399999999995,
                    183.33299999999997,
                    183.33199999999997,
                    183.33099999999996,
                    183.32999999999996,
                    183.32899999999995,
                    183.32799999999995,
                    183.32699999999994,
                    183.32599999999994,
                    183.32499999999993,
                    183.32399999999996,
                    183.32299999999995,
                    183.32199999999995,
                    183.32099999999994,
                    183.31999999999994,
                    183.31899999999993,
                    183.31799999999993,
                    183.31699999999995,
                    183.31599999999995,
                    183.31499999999994,
                    183.31399999999994,
                    183.31299999999993,
                    183.31199999999993,
                    183.31099999999992,
                    183.30999999999992,
                    183.3089999999999,
                    183.30799999999994,
                    183.30699999999993,
                    183.30599999999993,
                    183.30499999999992,
                    183.30399999999992,
                    183.3029999999999,
                    183.3019999999999,
                    183.30099999999993,
                    183.29999999999993,
                    183.29899999999992,
                    183.29799999999992,
                    183.2969999999999,
                    183.2959999999999,
                    183.2949999999999,
                    183.2939999999999,
                    183.2929999999999,
                    183.29199999999992,
                    183.2909999999999,
                    183.2899999999999,
                    183.2889999999999,
                    183.2879999999999,
                    183.2869999999999,
                    183.2859999999999,
                    183.2849999999999,
                    183.2839999999999,
                    183.2829999999999,
                    183.2819999999999,
                    183.2809999999999,
                    183.2799999999999,
                    183.27899999999988,
                    183.27799999999988,
                    183.27699999999987,
                    183.2759999999999,
                    183.2749999999999,
                    183.2739999999999,
                    183.27299999999988,
                    183.27199999999988,
                    183.27099999999987,
                    183.26999999999987,
                    183.2689999999999,
                    183.2679999999999,
                    183.26699999999988,
                    183.26599999999988,
                    183.26499999999987,
                    183.26399999999987,
                    183.26299999999986,
                    183.26199999999986,
                    183.26099999999985,
                    183.25999999999988,
                    183.25899999999987,
                    183.25799999999987,
                    183.25699999999986,
                    183.25599999999986,
                    183.25499999999985,
                    183.25399999999985,
                    183.25299999999987,
                    183.25199999999987,
                    183.25099999999986,
                    183.24999999999986
                  ],
                  "xaxis": "x",
                  "y": [
                    0.22159242059698064,
                    0.25713204615283425,
                    0.29762662098900017,
                    0.34363833453099313,
                    0.3957725791493979,
                    0.45467812508007827,
                    0.5210467407218057,
                    0.5956121803811114,
                    0.6791484616853405,
                    0.7724673567210589,
                    0.8764150246800041,
                    0.9918677195916615,
                    1.1197265147444007,
                    1.2609109957623847,
                    1.4163518870831842,
                    1.5869825917870095,
                    1.7737296423157825,
                    1.9775020794733518,
                    2.1991797990268953,
                    2.4396009289654317,
                    2.6995483256665187,
                    2.97973530344881,
                    3.2807907387427915,
                    3.6032437168208817,
                    3.947507915055772,
                    4.313865941337782,
                    4.70245386885775,
                    5.113246228213549,
                    5.546041733988713,
                    6.000450034866536,
                    6.4758797833131885,
                    6.971528322287972,
                    7.486373281808563,
                    8.019166367118645,
                    8.56842960241435,
                    9.13245426947635,
                    9.709302749187113,
                    10.296813436026339,
                    10.892608851656167,
                    11.494107034241212,
                    12.098536225987512,
                    12.70295282349043,
                    13.304262494969183,
                    13.899244306581544,
                    14.484577638105923,
                    15.056871607771855,
                    15.612696668369315,
                    16.148617983426334,
                    16.66123014461972,
                    17.14719275099778,
                    17.603266338242147,
                    18.02634812310789,
                    18.41350701518971,
                    18.76201734586823,
                    19.06939077304508,
                    19.333405840158626,
                    19.552134698786027,
                    19.72396654540453,
                    19.847627373857332,
                    19.922195704741434,
                    19.947114020071208,
                    19.922195704734,
                    19.847627373842524,
                    19.723966545382456,
                    19.55213469875685,
                    19.33340584012257,
                    19.069390773002397,
                    18.76201734581924,
                    18.41350701513476,
                    18.02634812304737,
                    17.603266338176482,
                    17.14719275092742,
                    16.661230144545137,
                    16.14861798334802,
                    15.612696668287775,
                    15.056871607687606,
                    14.484577638019474,
                    13.899244306493397,
                    13.304262494879852,
                    12.702952823400397,
                    12.098536225897249,
                    11.494107034151169,
                    10.892608851566772,
                    10.296813435937995,
                    9.709302749100189,
                    9.132454269391182,
                    8.568429602331245,
                    8.019166367037878,
                    7.486373281730368,
                    6.971528322212554,
                    6.475879783240716,
                    6.000450034797146,
                    5.54604173392251,
                    5.1132462281506035,
                    4.702453868798108,
                    4.313865941281459,
                    3.947507915002759,
                    3.603243716771149,
                    3.2807907386962856,
                    2.9797353034054606,
                    2.699548325626238,
                    2.4396009289281197,
                    2.1991797989924398,
                    1.9775020794416316,
                    1.7737296422866689,
                    1.5869825917603697,
                    1.41635188705888,
                    1.2609109957402778,
                    1.1197265147243511,
                    0.9918677195735313,
                    0.8764150246636573,
                    0.7724673567063629,
                    0.6791484616721665,
                    0.5956121803693357,
                    0.5210467407113097,
                    0.45467812507074973,
                    0.3957725791411302,
                    0.3436383345236863,
                    0.2976266209825607,
                    0.25713204614717494,
                    0.22159242059202097
                  ],
                  "yaxis": "y2"
                },
                {
                  "legendgroup": "d",
                  "line": {
                    "color": "#AB63FA",
                    "width": 2
                  },
                  "marker": {
                    "size": [
                      0,
                      10
                    ]
                  },
                  "mode": "lines+markers+text",
                  "name": "d",
                  "text": [
                    "",
                    "3: d Bearing Sleeve +20 ± 0.026 @ ± 3σ & k=0"
                  ],
                  "textposition": "bottom center",
                  "type": "scatter",
                  "x": [
                    183.25,
                    203.25
                  ],
                  "y": [
                    "d",
                    "d"
                  ]
                },
                {
                  "legendgroup": "d",
                  "line": {
                    "color": "black"
                  },
                  "marker": {
                    "line": {
                      "color": "black",
                      "width": 2
                    },
                    "size": [
                      0,
                      10
                    ],
                    "symbol": "line-ns"
                  },
                  "mode": "lines+markers+text",
                  "name": "d Upper Tol",
                  "opacity": 0.5,
                  "type": "scatter",
                  "x": [
                    203.25,
                    203.224
                  ],
                  "y": [
                    "d",
                    "d"
                  ]
                },
                {
                  "legendgroup": "d",
                  "line": {
                    "color": "black"
                  },
                  "marker": {
                    "line": {
                      "color": "black",
                      "width": 2
                    },
                    "size": [
                      0,
                      10
                    ],
                    "symbol": "line-ns"
                  },
                  "mode": "lines+markers+text",
                  "name": "d Lower Tol",
                  "opacity": 0.5,
                  "type": "scatter",
                  "x": [
                    203.25,
                    203.276
                  ],
                  "y": [
                    "d",
                    "d"
                  ]
                },
                {
                  "legendgroup": "d",
                  "line": {
                    "color": "#AB63FA",
                    "width": 1
                  },
                  "name": "d Distribution",
                  "type": "scatter",
                  "x": [
                    203.224,
                    203.225,
                    203.226,
                    203.227,
                    203.228,
                    203.229,
                    203.23000000000002,
                    203.231,
                    203.232,
                    203.233,
                    203.234,
                    203.235,
                    203.23600000000002,
                    203.23700000000002,
                    203.23800000000003,
                    203.23900000000003,
                    203.24,
                    203.241,
                    203.24200000000002,
                    203.24300000000002,
                    203.24400000000003,
                    203.24500000000003,
                    203.24600000000004,
                    203.247,
                    203.24800000000002,
                    203.24900000000002,
                    203.25000000000003,
                    203.25100000000003,
                    203.25200000000004,
                    203.25300000000004,
                    203.25400000000005,
                    203.25500000000005,
                    203.25600000000003,
                    203.25700000000003,
                    203.25800000000004,
                    203.25900000000004,
                    203.26000000000005,
                    203.26100000000005,
                    203.26200000000006,
                    203.26300000000003,
                    203.26400000000004,
                    203.26500000000004,
                    203.26600000000005,
                    203.26700000000005,
                    203.26800000000006,
                    203.26900000000006,
                    203.27000000000007,
                    203.27100000000007,
                    203.27200000000005,
                    203.27300000000005,
                    203.27400000000006,
                    203.27500000000006
                  ],
                  "xaxis": "x",
                  "y": [
                    0.5113671244544515,
                    0.7180827526735112,
                    0.9950253843870032,
                    1.3605415136271894,
                    1.835724093990275,
                    2.444111369611465,
                    3.2110905123901863,
                    4.162958450710427,
                    5.3256126823688,
                    6.72287525516901,
                    8.374492548005144,
                    10.293899429218005,
                    12.485884529714655,
                    14.944337961490795,
                    17.650297076546902,
                    20.570522895652662,
                    23.6568336640464,
                    26.84638870414754,
                    30.063054526021247,
                    33.21989902093613,
                    36.222755489028216,
                    38.974686764592406,
                    41.381073757419045,
                    43.35496605272495,
                    44.822277322485846,
                    45.72639451551214,
                    46.03180158478035,
                    45.7263945154732,
                    44.822277322409526,
                    43.35496605261421,
                    41.381073757278116,
                    38.97468676442649,
                    36.22275548884318,
                    33.219899020738154,
                    30.06305452581648,
                    26.846388703941837,
                    23.656833663844996,
                    20.57052289546002,
                    17.650297076366577,
                    14.944337961325395,
                    12.485884529565833,
                    10.293899429086546,
                    8.374492547891066,
                    6.722875255071708,
                    5.325612682287183,
                    4.162958450643087,
                    3.2110905123355056,
                    2.4441113695677665,
                    1.8357240939558894,
                    1.3605415136005476,
                    0.9950253843666709,
                    0.7180827526582272
                  ],
                  "yaxis": "y2"
                },
                {
                  "legendgroup": "e",
                  "line": {
                    "color": "#FFA15A",
                    "width": 2
                  },
                  "marker": {
                    "size": [
                      0,
                      10
                    ]
                  },
                  "mode": "lines+markers+text",
                  "name": "e",
                  "text": [
                    "",
                    "4: e Case -200 ± 0.145 @ ± 3σ & k=0"
                  ],
                  "textposition": "bottom center",
                  "type": "scatter",
                  "x": [
                    203.25,
                    3.25
                  ],
                  "y": [
                    "e",
                    "e"
                  ]
                },
                {
                  "legendgroup": "e",
                  "line": {
                    "color": "black"
                  },
                  "marker": {
                    "line": {
                      "color": "black",
                      "width": 2
                    },
                    "size": [
                      0,
                      10
                    ],
                    "symbol": "line-ns"
                  },
                  "mode": "lines+markers+text",
                  "name": "e Upper Tol",
                  "opacity": 0.5,
                  "type": "scatter",
                  "x": [
                    3.25,
                    3.105
                  ],
                  "y": [
                    "e",
                    "e"
                  ]
                },
                {
                  "legendgroup": "e",
                  "line": {
                    "color": "black"
                  },
                  "marker": {
                    "line": {
                      "color": "black",
                      "width": 2
                    },
                    "size": [
                      0,
                      10
                    ],
                    "symbol": "line-ns"
                  },
                  "mode": "lines+markers+text",
                  "name": "e Lower Tol",
                  "opacity": 0.5,
                  "type": "scatter",
                  "x": [
                    3.25,
                    3.395
                  ],
                  "y": [
                    "e",
                    "e"
                  ]
                },
                {
                  "legendgroup": "e",
                  "line": {
                    "color": "#FFA15A",
                    "width": 1
                  },
                  "name": "e Distribution",
                  "type": "scatter",
                  "x": [
                    3.3950000000000102,
                    3.3940000000000055,
                    3.3930000000000007,
                    3.391999999999996,
                    3.390999999999991,
                    3.3899999999999864,
                    3.3889999999999816,
                    3.387999999999977,
                    3.386999999999972,
                    3.3859999999999673,
                    3.3849999999999625,
                    3.3839999999999577,
                    3.382999999999953,
                    3.381999999999948,
                    3.3809999999999434,
                    3.3799999999999386,
                    3.378999999999934,
                    3.377999999999929,
                    3.3769999999999243,
                    3.3759999999999195,
                    3.3749999999999147,
                    3.37399999999991,
                    3.372999999999905,
                    3.3719999999999004,
                    3.3709999999998956,
                    3.369999999999891,
                    3.368999999999886,
                    3.3679999999998813,
                    3.3669999999998765,
                    3.3659999999998718,
                    3.364999999999867,
                    3.363999999999862,
                    3.3629999999998574,
                    3.3619999999998527,
                    3.360999999999848,
                    3.359999999999843,
                    3.3589999999998383,
                    3.3579999999998336,
                    3.356999999999829,
                    3.355999999999824,
                    3.3549999999998192,
                    3.3539999999998145,
                    3.3529999999998097,
                    3.351999999999805,
                    3.3509999999998,
                    3.3499999999997954,
                    3.3489999999997906,
                    3.347999999999786,
                    3.346999999999781,
                    3.3459999999997763,
                    3.3449999999997715,
                    3.3439999999997667,
                    3.342999999999762,
                    3.341999999999757,
                    3.3409999999997524,
                    3.3399999999997476,
                    3.338999999999743,
                    3.337999999999738,
                    3.3369999999997333,
                    3.3359999999997285,
                    3.3349999999997237,
                    3.333999999999719,
                    3.332999999999714,
                    3.3319999999997094,
                    3.3309999999997046,
                    3.3299999999997,
                    3.328999999999695,
                    3.3279999999996903,
                    3.3269999999996855,
                    3.3259999999996808,
                    3.324999999999676,
                    3.323999999999671,
                    3.3229999999996664,
                    3.3219999999996617,
                    3.320999999999657,
                    3.319999999999652,
                    3.3189999999996473,
                    3.3179999999996426,
                    3.316999999999638,
                    3.315999999999633,
                    3.3149999999996282,
                    3.3139999999996235,
                    3.3129999999996187,
                    3.311999999999614,
                    3.310999999999609,
                    3.3099999999996044,
                    3.3089999999995996,
                    3.307999999999595,
                    3.30699999999959,
                    3.3059999999995853,
                    3.3049999999995805,
                    3.3039999999995757,
                    3.302999999999571,
                    3.301999999999566,
                    3.3009999999995614,
                    3.2999999999995566,
                    3.298999999999552,
                    3.297999999999547,
                    3.2969999999995423,
                    3.2959999999995375,
                    3.2949999999995327,
                    3.293999999999528,
                    3.292999999999523,
                    3.2919999999995184,
                    3.2909999999995136,
                    3.289999999999509,
                    3.288999999999504,
                    3.2879999999994993,
                    3.2869999999994945,
                    3.2859999999994898,
                    3.284999999999485,
                    3.2839999999994802,
                    3.2829999999994754,
                    3.2819999999994707,
                    3.280999999999466,
                    3.279999999999461,
                    3.2789999999994563,
                    3.2779999999994516,
                    3.276999999999447,
                    3.275999999999442,
                    3.2749999999994373,
                    3.2739999999994325,
                    3.2729999999994277,
                    3.271999999999423,
                    3.270999999999418,
                    3.2699999999994134,
                    3.2689999999994086,
                    3.267999999999404,
                    3.266999999999399,
                    3.2659999999993943,
                    3.2649999999993895,
                    3.2639999999993847,
                    3.26299999999938,
                    3.261999999999375,
                    3.2609999999993704,
                    3.2599999999993656,
                    3.258999999999361,
                    3.257999999999356,
                    3.2569999999993513,
                    3.2559999999993465,
                    3.2549999999993418,
                    3.253999999999337,
                    3.252999999999332,
                    3.2519999999993274,
                    3.2509999999993227,
                    3.249999999999318,
                    3.248999999999313,
                    3.2479999999993083,
                    3.2469999999993036,
                    3.245999999999299,
                    3.244999999999294,
                    3.2439999999992892,
                    3.2429999999992845,
                    3.2419999999992797,
                    3.240999999999275,
                    3.23999999999927,
                    3.2389999999992654,
                    3.2379999999992606,
                    3.236999999999256,
                    3.235999999999251,
                    3.2349999999992463,
                    3.2339999999992415,
                    3.2329999999992367,
                    3.231999999999232,
                    3.230999999999227,
                    3.2299999999992224,
                    3.2289999999992176,
                    3.227999999999213,
                    3.226999999999208,
                    3.2259999999992033,
                    3.2249999999991985,
                    3.2239999999991937,
                    3.222999999999189,
                    3.221999999999184,
                    3.2209999999991794,
                    3.2199999999991746,
                    3.21899999999917,
                    3.217999999999165,
                    3.2169999999991603,
                    3.2159999999991555,
                    3.2149999999991508,
                    3.213999999999146,
                    3.212999999999141,
                    3.2119999999991364,
                    3.2109999999991317,
                    3.209999999999127,
                    3.208999999999122,
                    3.2079999999991173,
                    3.2069999999991126,
                    3.205999999999108,
                    3.204999999999103,
                    3.2039999999990982,
                    3.2029999999990935,
                    3.2019999999990887,
                    3.200999999999084,
                    3.199999999999079,
                    3.1989999999990744,
                    3.1979999999990696,
                    3.196999999999065,
                    3.19599999999906,
                    3.1949999999990553,
                    3.1939999999990505,
                    3.1929999999990457,
                    3.191999999999041,
                    3.190999999999036,
                    3.1899999999990314,
                    3.1889999999990266,
                    3.187999999999022,
                    3.186999999999017,
                    3.1859999999990123,
                    3.1849999999990075,
                    3.1839999999990027,
                    3.182999999998998,
                    3.181999999998993,
                    3.1809999999989884,
                    3.1799999999989836,
                    3.178999999998979,
                    3.177999999998974,
                    3.1769999999989693,
                    3.1759999999989645,
                    3.1749999999989598,
                    3.173999999998955,
                    3.17299999999895,
                    3.1719999999989454,
                    3.1709999999989407,
                    3.169999999998936,
                    3.168999999998931,
                    3.1679999999989263,
                    3.1669999999989216,
                    3.165999999998917,
                    3.164999999998912,
                    3.1639999999989072,
                    3.1629999999989025,
                    3.1619999999988977,
                    3.160999999998893,
                    3.159999999998888,
                    3.1589999999988834,
                    3.1579999999988786,
                    3.156999999998874,
                    3.155999999998869,
                    3.1549999999988643,
                    3.1539999999988595,
                    3.1529999999988547,
                    3.15199999999885,
                    3.150999999998845,
                    3.1499999999988404,
                    3.1489999999988356,
                    3.147999999998831,
                    3.146999999998826,
                    3.1459999999988213,
                    3.1449999999988165,
                    3.1439999999988117,
                    3.142999999998807,
                    3.141999999998802,
                    3.1409999999987974,
                    3.1399999999987926,
                    3.138999999998788,
                    3.137999999998783,
                    3.1369999999987783,
                    3.1359999999987735,
                    3.1349999999987688,
                    3.133999999998764,
                    3.132999999998759,
                    3.1319999999987544,
                    3.1309999999987497,
                    3.129999999998745,
                    3.12899999999874,
                    3.1279999999987353,
                    3.1269999999987306,
                    3.125999999998726,
                    3.124999999998721,
                    3.1239999999987162,
                    3.1229999999987115,
                    3.1219999999987067,
                    3.120999999998702,
                    3.119999999998697,
                    3.1189999999986924,
                    3.1179999999986876,
                    3.116999999998683,
                    3.115999999998678,
                    3.1149999999986733,
                    3.1139999999986685,
                    3.1129999999986637,
                    3.111999999998659,
                    3.110999999998654,
                    3.1099999999986494,
                    3.1089999999986446,
                    3.10799999999864,
                    3.106999999998635,
                    3.1059999999986303,
                    3.1049999999986255
                  ],
                  "xaxis": "x",
                  "y": [
                    0.09169341541929699,
                    0.09754418995248797,
                    0.1037238810373099,
                    0.11024786943839116,
                    0.11713205088754604,
                    0.12439284041368892,
                    0.1320471757985809,
                    0.1401125200946867,
                    0.14860686314035798,
                    0.1575487220066483,
                    0.16695714030933867,
                    0.17685168631920858,
                    0.18725244980325811,
                    0.19818003752945582,
                    0.2096555673677095,
                    0.2217006609201024,
                    0.23433743461405276,
                    0.24758848919293372,
                    0.2614768975398503,
                    0.276026190771732,
                    0.29126034254264455,
                    0.30720375149731305,
                    0.3238812218182345,
                    0.3413179418124922,
                    0.3595394604874509,
                    0.37857166206793114,
                    0.3984407384112269,
                    0.419173159280452,
                    0.4407956404411912,
                    0.4633351095512681,
                    0.48681866981864824,
                    0.5112735614080561,
                    0.5367271205828075,
                    0.5632067365746144,
                    0.5907398061807367,
                    0.619353686094801,
                    0.6490756429848642,
                    0.6799328013398835,
                    0.7119520891136367,
                    0.7451601812032667,
                    0.7795834408080656,
                    0.8152478587227494,
                    0.8521789906283562,
                    0.8904018924529598,
                    0.9299410538836196,
                    0.9708203301203728,
                    1.0130628719725168,
                    1.056691054407007,
                    1.1017264036683743,
                    1.1481895230991455,
                    1.1961000177993326,
                    1.245476418273018,
                    1.296336103219446,
                    1.3486952216352541,
                    1.402568614403479,
                    1.4579697355537702,
                    1.5149105733867199,
                    1.5734015716634,
                    1.6334515510689487,
                    1.6950676311664654,
                    1.758255153064314,
                    1.8230176030263658,
                    1.8893565372605134,
                    1.9572715081260377,
                    2.026759992004971,
                    2.0978173190865164,
                    2.1704366053167607,
                    2.2446086867682973,
                    2.320322056686023,
                    2.3975628054661073,
                    2.476314563825074,
                    2.556558449414883,
                    2.6382730171380704,
                    2.72143421341403,
                    2.8060153346437873,
                    2.8919869901157327,
                    2.9793170695889897,
                    3.0679707157842815,
                    3.157910302004301,
                    3.2490954150967823,
                    3.3414828439635884,
                    3.435026573808298,
                    3.529677786302944,
                    3.625384865841727,
                    3.7220934120357994,
                    3.8197462585885495,
                    3.918283498675225,
                    4.017642516934353,
                    4.1177580281611865,
                    4.218562122775435,
                    4.3199843191167915,
                    4.421951622602478,
                    4.524388591761029,
                    4.627217411136028,
                    4.730357971032581,
                    4.8337279540579186,
                    4.937242928385818,
                    5.040816447652621,
                    5.144360157370463,
                    5.247783907721188,
                    5.350995872572146,
                    5.4539026745330395,
                    5.556409515850924,
                    5.658420314918886,
                    5.759837848152514,
                    5.860563896967383,
                    5.960499399570443,
                    6.0595446072583865,
                    6.157599244897062,
                    6.254562675237748,
                    6.3503340667086725,
                    6.444812564303815,
                    6.537897463175576,
                    6.629488384523678,
                    6.719485453359548,
                    6.807789477713653,
                    6.894302128842695,
                    6.978926121984495,
                    7.061565397200693,
                    7.142125299841167,
                    7.220512760159434,
                    7.296636471605102,
                    7.370407067318038,
                    7.441737294348881,
                    7.510542185132374,
                    7.57673922574329,
                    7.640248520469813,
                    7.70099295224588,
                    7.758898338492328,
                    7.813893581926626,
                    7.865910815912504,
                    7.914885543933883,
                    7.960756772792167,
                    8.003467139142025,
                    8.042963028998344,
                    8.079194689865972,
                    8.112116335164009,
                    8.14168624063792,
                    8.167866832475319,
                    8.19062476686494,
                    8.209931000763012,
                    8.225760853656801,
                    8.238094060141465,
                    8.246914813153431,
                    8.252211797731201,
                    8.25397821520264,
                    8.252211797726382,
                    8.246914813143798,
                    8.238094060127032,
                    8.225760853637587,
                    8.20993100073904,
                    8.19062476683624,
                    8.16786683244193,
                    8.141686240599883,
                    8.112116335121373,
                    8.07919468981879,
                    8.042963028946678,
                    8.003467139085936,
                    7.960756772731731,
                    7.914885543869173,
                    7.8659108158436,
                    7.813893581853616,
                    7.7588983384153,
                    7.700992952164929,
                    7.64024852038504,
                    7.576739225654798,
                    7.510542185040268,
                    7.441737294253273,
                    7.370407067219041,
                    7.296636471502836,
                    7.220512760054017,
                    7.142125299732725,
                    7.06156539708935,
                    6.97892612187038,
                    6.894302128725936,
                    6.807789477594385,
                    6.719485453237903,
                    6.62948838439979,
                    6.537897463049582,
                    6.444812564175851,
                    6.350334066578875,
                    6.254562675106257,
                    6.157599244764015,
                    6.059544607123917,
                    5.960499399434692,
                    5.8605638968304845,
                    5.759837848014604,
                    5.658420314780101,
                    5.556409515711396,
                    5.453902674392901,
                    5.350995872431526,
                    5.247783907580215,
                    5.144360157229266,
                    5.040816447511322,
                    4.9372429282445385,
                    4.833727953916778,
                    4.7303579708916965,
                    4.627217410995513,
                    4.524388591620995,
                    4.421951622463031,
                    4.319984318978038,
                    4.218562122637476,
                    4.11775802802412,
                    4.017642516798272,
                    3.9182834985402213,
                    3.8197462584547104,
                    3.7220934119032076,
                    3.6253848657104624,
                    3.5296777861730853,
                    3.4350265736799157,
                    3.341482843836749,
                    3.249095414971553,
                    3.1579103018807424,
                    3.06797071566245,
                    2.97931706946894,
                    2.8919869899975117,
                    2.806015334527443,
                    2.7214342132996028,
                    2.6382730170256,
                    2.5565584493044033,
                    2.4763145637166146,
                    2.3975628053596987,
                    2.320322056581686,
                    2.244608686666054,
                    2.170436605216629,
                    2.09781731898851,
                    2.0267599919091,
                    1.9572715080323113,
                    1.889356537168936,
                    1.8230176029369392,
                    1.7582551529770372,
                    1.6950676310813355,
                    1.6334515509859593,
                    1.573401571582542,
                    1.5149105733079837,
                    1.457969735477142,
                    1.4025686143289433,
                    1.348695221562794,
                    1.296336103149042,
                    1.2454764182046483,
                    1.1961000177329755,
                    1.1481895230347758,
                    1.101726403605966,
                    1.0566910543465335,
                    1.013062871913947,
                    0.9708203300636788,
                    0.9299410538287692,
                    0.890401892399922,
                    0.8521789905770983,
                    0.8152478586732368,
                    0.7795834407602638,
                    0.7451601811571398,
                    0.7119520890691496,
                    0.6799328012970003,
                    0.649075642943548,
                    0.6193536860550156,
                    0.5907398061424444,
                    0.5632067365377771,
                    0.5367271205473888,
                    0.5112735613740185,
                    0.48681866978595456,
                    0.4633351095198813,
                    0.4407956404110739,
                    0.41917315925156706,
                    0.39844073838353755,
                    0.3785716620414015,
                    0.35953946046204505,
                    0.3413179417881748,
                    0.3238812217949704,
                    0.30720375147506745,
                    0.2912603425213831,
                    0.2760261907514216,
                    0.2614768975204578,
                    0.24758848917442647,
                    0.2343374345963995,
                    0.22170066090327162,
                    0.2096555673516707,
                    0.19818003751417892,
                    0.18725244978871422,
                    0.17685168630536938,
                    0.16695714029617614,
                    0.1575487219941357,
                    0.1486068631284688,
                    0.14011252008339506,
                    0.1320471757878621,
                    0.12439284040351886,
                    0.11713205087790111,
                    0.11024786942924887,
                    0.1037238810286481,
                    0.09754418994428524,
                    0.09169341541153257
                  ],
                  "yaxis": "y2"
                },
                {
                  "legendgroup": "f",
                  "line": {
                    "color": "#19D3F3",
                    "width": 2
                  },
                  "marker": {
                    "size": [
                      0,
                      10
                    ]
                  },
                  "mode": "lines+markers+text",
                  "name": "f",
                  "text": [
                    "",
                    "5: f Bearing Sleeve +20 ± 0.026"
                  ],
                  "textposition": "bottom center",
                  "type": "scatter",
                  "x": [
                    3.25,
                    23.25
                  ],
                  "y": [
                    "f",
                    "f"
                  ]
                },
                {
                  "legendgroup": "f",
                  "line": {
                    "color": "black"
                  },
                  "marker": {
                    "line": {
                      "color": "black",
                      "width": 2
                    },
                    "size": [
                      0,
                      10
                    ],
                    "symbol": "line-ns"
                  },
                  "mode": "lines+markers+text",
                  "name": "f Upper Tol",
                  "opacity": 0.5,
                  "type": "scatter",
                  "x": [
                    23.25,
                    23.224
                  ],
                  "y": [
                    "f",
                    "f"
                  ]
                },
                {
                  "legendgroup": "f",
                  "line": {
                    "color": "black"
                  },
                  "marker": {
                    "line": {
                      "color": "black",
                      "width": 2
                    },
                    "size": [
                      0,
                      10
                    ],
                    "symbol": "line-ns"
                  },
                  "mode": "lines+markers+text",
                  "name": "f Lower Tol",
                  "opacity": 0.5,
                  "type": "scatter",
                  "x": [
                    23.25,
                    23.276
                  ],
                  "y": [
                    "f",
                    "f"
                  ]
                },
                {
                  "legendgroup": "f",
                  "line": {
                    "color": "#19D3F3",
                    "width": 1
                  },
                  "name": "f Distribution",
                  "type": "scatter",
                  "x": [
                    23.224,
                    23.225,
                    23.226000000000003,
                    23.227000000000004,
                    23.228000000000005,
                    23.229000000000006,
                    23.230000000000008,
                    23.23100000000001,
                    23.23200000000001,
                    23.23300000000001,
                    23.234000000000012,
                    23.235000000000014,
                    23.236000000000015,
                    23.237000000000016,
                    23.238000000000017,
                    23.23900000000002,
                    23.24000000000002,
                    23.24100000000002,
                    23.242000000000022,
                    23.243000000000023,
                    23.244000000000025,
                    23.245000000000026,
                    23.246000000000027,
                    23.24700000000003,
                    23.24800000000003,
                    23.24900000000003,
                    23.250000000000032,
                    23.251000000000033,
                    23.252000000000034,
                    23.253000000000036,
                    23.254000000000037,
                    23.255000000000038,
                    23.25600000000004,
                    23.25700000000004,
                    23.25800000000004,
                    23.259000000000043,
                    23.260000000000044,
                    23.261000000000045,
                    23.262000000000047,
                    23.263000000000048,
                    23.26400000000005,
                    23.26500000000005,
                    23.26600000000005,
                    23.267000000000053,
                    23.268000000000054,
                    23.269000000000055,
                    23.270000000000056,
                    23.271000000000058,
                    23.27200000000006,
                    23.27300000000006,
                    23.27400000000006,
                    23.275000000000063
                  ],
                  "xaxis": "x",
                  "y": [
                    19.23076923076938,
                    19.23076923076938,
                    19.23076923076938,
                    19.23076923076938,
                    19.23076923076938,
                    19.23076923076938,
                    19.23076923076938,
                    19.23076923076938,
                    19.23076923076938,
                    19.23076923076938,
                    19.23076923076938,
                    19.23076923076938,
                    19.23076923076938,
                    19.23076923076938,
                    19.23076923076938,
                    19.23076923076938,
                    19.23076923076938,
                    19.23076923076938,
                    19.23076923076938,
                    19.23076923076938,
                    19.23076923076938,
                    19.23076923076938,
                    19.23076923076938,
                    19.23076923076938,
                    19.23076923076938,
                    19.23076923076938,
                    19.23076923076938,
                    19.23076923076938,
                    19.23076923076938,
                    19.23076923076938,
                    19.23076923076938,
                    19.23076923076938,
                    19.23076923076938,
                    19.23076923076938,
                    19.23076923076938,
                    19.23076923076938,
                    19.23076923076938,
                    19.23076923076938,
                    19.23076923076938,
                    19.23076923076938,
                    19.23076923076938,
                    19.23076923076938,
                    19.23076923076938,
                    19.23076923076938,
                    19.23076923076938,
                    19.23076923076938,
                    19.23076923076938,
                    19.23076923076938,
                    19.23076923076938,
                    19.23076923076938,
                    19.23076923076938,
                    19.23076923076938
                  ],
                  "yaxis": "y2"
                },
                {
                  "legendgroup": "g",
                  "line": {
                    "color": "#FF6692",
                    "width": 2
                  },
                  "marker": {
                    "size": [
                      0,
                      10
                    ]
                  },
                  "mode": "lines+markers+text",
                  "name": "g",
                  "text": [
                    "",
                    "6: g Bearing -23 + 0 / - 0.12 @ ± 3σ & k=0"
                  ],
                  "textposition": "bottom center",
                  "type": "scatter",
                  "x": [
                    23.25,
                    0.25
                  ],
                  "y": [
                    "g",
                    "g"
                  ]
                },
                {
                  "legendgroup": "g",
                  "line": {
                    "color": "black"
                  },
                  "marker": {
                    "line": {
                      "color": "black",
                      "width": 2
                    },
                    "size": [
                      0,
                      10
                    ],
                    "symbol": "line-ns"
                  },
                  "mode": "lines+markers+text",
                  "name": "g Upper Tol",
                  "opacity": 0.5,
                  "type": "scatter",
                  "x": [
                    0.25,
                    0.25
                  ],
                  "y": [
                    "g",
                    "g"
                  ]
                },
                {
                  "legendgroup": "g",
                  "line": {
                    "color": "black"
                  },
                  "marker": {
                    "line": {
                      "color": "black",
                      "width": 2
                    },
                    "size": [
                      0,
                      10
                    ],
                    "symbol": "line-ns"
                  },
                  "mode": "lines+markers+text",
                  "name": "g Lower Tol",
                  "opacity": 0.5,
                  "type": "scatter",
                  "x": [
                    0.25,
                    0.37
                  ],
                  "y": [
                    "g",
                    "g"
                  ]
                },
                {
                  "legendgroup": "g",
                  "line": {
                    "color": "#FF6692",
                    "width": 1
                  },
                  "name": "g Distribution",
                  "type": "scatter",
                  "x": [
                    0.370000000000001,
                    0.3689999999999998,
                    0.36799999999999855,
                    0.36699999999999733,
                    0.3659999999999961,
                    0.3649999999999949,
                    0.36399999999999366,
                    0.36299999999999244,
                    0.3619999999999912,
                    0.36099999999999,
                    0.3599999999999888,
                    0.35899999999998755,
                    0.35799999999998633,
                    0.3569999999999851,
                    0.3559999999999839,
                    0.35499999999998266,
                    0.35399999999998144,
                    0.3529999999999802,
                    0.351999999999979,
                    0.3509999999999778,
                    0.34999999999997655,
                    0.34899999999997533,
                    0.3479999999999741,
                    0.3469999999999729,
                    0.34599999999997166,
                    0.34499999999997044,
                    0.3439999999999692,
                    0.342999999999968,
                    0.3419999999999668,
                    0.34099999999996555,
                    0.33999999999996433,
                    0.3389999999999631,
                    0.3379999999999619,
                    0.33699999999996066,
                    0.33599999999995944,
                    0.3349999999999582,
                    0.333999999999957,
                    0.3329999999999558,
                    0.33199999999995455,
                    0.33099999999995333,
                    0.3299999999999521,
                    0.3289999999999509,
                    0.32799999999994967,
                    0.32699999999994844,
                    0.3259999999999472,
                    0.324999999999946,
                    0.3239999999999448,
                    0.32299999999994355,
                    0.32199999999994233,
                    0.3209999999999411,
                    0.3199999999999399,
                    0.31899999999993867,
                    0.31799999999993744,
                    0.3169999999999362,
                    0.315999999999935,
                    0.3149999999999338,
                    0.31399999999993256,
                    0.31299999999993133,
                    0.3119999999999301,
                    0.3109999999999289,
                    0.30999999999992767,
                    0.30899999999992644,
                    0.3079999999999252,
                    0.306999999999924,
                    0.3059999999999228,
                    0.30499999999992156,
                    0.30399999999992033,
                    0.3029999999999191,
                    0.3019999999999179,
                    0.30099999999991667,
                    0.29999999999991545,
                    0.2989999999999142,
                    0.297999999999913,
                    0.2969999999999118,
                    0.29599999999991056,
                    0.29499999999990933,
                    0.2939999999999081,
                    0.2929999999999069,
                    0.29199999999990567,
                    0.29099999999990445,
                    0.2899999999999032,
                    0.288999999999902,
                    0.2879999999999008,
                    0.28699999999989956,
                    0.28599999999989834,
                    0.2849999999998971,
                    0.2839999999998959,
                    0.28299999999989467,
                    0.28199999999989345,
                    0.2809999999998922,
                    0.279999999999891,
                    0.2789999999998898,
                    0.27799999999988856,
                    0.27699999999988734,
                    0.2759999999998861,
                    0.2749999999998849,
                    0.27399999999988367,
                    0.27299999999988245,
                    0.2719999999998812,
                    0.27099999999988,
                    0.2699999999998788,
                    0.26899999999987756,
                    0.26799999999987634,
                    0.2669999999998751,
                    0.2659999999998739,
                    0.26499999999987267,
                    0.26399999999987145,
                    0.2629999999998702,
                    0.261999999999869,
                    0.2609999999998678,
                    0.25999999999986656,
                    0.25899999999986534,
                    0.2579999999998641,
                    0.2569999999998629,
                    0.25599999999986167,
                    0.25499999999986045,
                    0.2539999999998592,
                    0.252999999999858,
                    0.2519999999998568,
                    0.25099999999985556,
                    0.24999999999985434
                  ],
                  "xaxis": "x",
                  "y": [
                    0.22159242059698064,
                    0.25713204615283425,
                    0.29762662098900017,
                    0.34363833453099313,
                    0.3957725791493979,
                    0.45467812508007827,
                    0.5210467407218057,
                    0.5956121803811114,
                    0.6791484616853405,
                    0.7724673567210589,
                    0.8764150246800041,
                    0.9918677195916615,
                    1.1197265147444007,
                    1.2609109957623847,
                    1.4163518870831842,
                    1.5869825917870095,
                    1.7737296423157825,
                    1.9775020794733518,
                    2.1991797990268953,
                    2.4396009289654317,
                    2.6995483256665187,
                    2.97973530344881,
                    3.2807907387427915,
                    3.6032437168208817,
                    3.947507915055772,
                    4.313865941337782,
                    4.70245386885775,
                    5.113246228213549,
                    5.546041733988713,
                    6.000450034866536,
                    6.4758797833131885,
                    6.971528322287972,
                    7.486373281808563,
                    8.019166367118645,
                    8.56842960241435,
                    9.13245426947635,
                    9.709302749187113,
                    10.296813436026339,
                    10.892608851656167,
                    11.494107034241212,
                    12.098536225987512,
                    12.70295282349043,
                    13.304262494969183,
                    13.899244306581544,
                    14.484577638105923,
                    15.056871607771855,
                    15.612696668369315,
                    16.148617983426334,
                    16.66123014461972,
                    17.14719275099778,
                    17.603266338242147,
                    18.02634812310789,
                    18.41350701518971,
                    18.76201734586823,
                    19.06939077304508,
                    19.333405840158626,
                    19.552134698786027,
                    19.72396654540453,
                    19.847627373857332,
                    19.922195704741434,
                    19.947114020071208,
                    19.922195704734,
                    19.847627373842524,
                    19.723966545382456,
                    19.55213469875685,
                    19.33340584012257,
                    19.069390773002397,
                    18.76201734581924,
                    18.41350701513476,
                    18.02634812304737,
                    17.603266338176482,
                    17.14719275092742,
                    16.661230144545137,
                    16.14861798334802,
                    15.612696668287775,
                    15.056871607687606,
                    14.484577638019474,
                    13.899244306493397,
                    13.304262494879852,
                    12.702952823400397,
                    12.098536225897249,
                    11.494107034151169,
                    10.892608851566772,
                    10.296813435937995,
                    9.709302749100189,
                    9.132454269391182,
                    8.568429602331245,
                    8.019166367037878,
                    7.486373281730368,
                    6.971528322212554,
                    6.475879783240716,
                    6.000450034797146,
                    5.54604173392251,
                    5.1132462281506035,
                    4.702453868798108,
                    4.313865941281459,
                    3.947507915002759,
                    3.603243716771149,
                    3.2807907386962856,
                    2.9797353034054606,
                    2.699548325626238,
                    2.4396009289281197,
                    2.1991797989924398,
                    1.9775020794416316,
                    1.7737296422866689,
                    1.5869825917603697,
                    1.41635188705888,
                    1.2609109957402778,
                    1.1197265147243511,
                    0.9918677195735313,
                    0.8764150246636573,
                    0.7724673567063629,
                    0.6791484616721665,
                    0.5956121803693357,
                    0.5210467407113097,
                    0.45467812507074973,
                    0.3957725791411302,
                    0.3436383345236863,
                    0.2976266209825607,
                    0.25713204614717494,
                    0.22159242059202097
                  ],
                  "yaxis": "y2"
                },
                {
                  "legendgroup": "stacks on stacks",
                  "line": {
                    "color": "#B6E880",
                    "width": 2
                  },
                  "marker": {
                    "size": [
                      0,
                      10
                    ]
                  },
                  "mode": "lines+markers+text",
                  "name": "stacks on stacks",
                  "text": [
                    "",
                    "8: stacks on stacks RSS Analysis (assuming inputs with Normal Distribution & ± 3σ) +0.4 ± 0.17825 @ ± 3σ & k=0"
                  ],
                  "textposition": "bottom center",
                  "type": "scatter",
                  "x": [
                    0,
                    0.4000000000000057
                  ],
                  "y": [
                    "stacks on stacks",
                    "stacks on stacks"
                  ]
                },
                {
                  "legendgroup": "stacks on stacks",
                  "line": {
                    "color": "black"
                  },
                  "marker": {
                    "line": {
                      "color": "black",
                      "width": 2
                    },
                    "size": [
                      0,
                      10
                    ],
                    "symbol": "line-ns"
                  },
                  "mode": "lines+markers+text",
                  "name": "stacks on stacks Upper Tol",
                  "opacity": 0.5,
                  "type": "scatter",
                  "x": [
                    0.4000000000000057,
                    0.2217501753156599
                  ],
                  "y": [
                    "stacks on stacks",
                    "stacks on stacks"
                  ]
                },
                {
                  "legendgroup": "stacks on stacks",
                  "line": {
                    "color": "black"
                  },
                  "marker": {
                    "line": {
                      "color": "black",
                      "width": 2
                    },
                    "size": [
                      0,
                      10
                    ],
                    "symbol": "line-ns"
                  },
                  "mode": "lines+markers+text",
                  "name": "stacks on stacks Lower Tol",
                  "opacity": 0.5,
                  "type": "scatter",
                  "x": [
                    0.4000000000000057,
                    0.5782498246843515
                  ],
                  "y": [
                    "stacks on stacks",
                    "stacks on stacks"
                  ]
                },
                {
                  "legendgroup": "stacks on stacks",
                  "line": {
                    "color": "#B6E880",
                    "width": 1
                  },
                  "name": "stacks on stacks Distribution",
                  "type": "scatter",
                  "x": [
                    0.2217501753156599,
                    0.2227501753156599,
                    0.2237501753156599,
                    0.2247501753156599,
                    0.2257501753156599,
                    0.2267501753156599,
                    0.22775017531565991,
                    0.22875017531565991,
                    0.22975017531565992,
                    0.23075017531565992,
                    0.23175017531565992,
                    0.23275017531565992,
                    0.23375017531565992,
                    0.23475017531565992,
                    0.23575017531565992,
                    0.23675017531565992,
                    0.23775017531565992,
                    0.23875017531565992,
                    0.23975017531565992,
                    0.24075017531565993,
                    0.24175017531565993,
                    0.24275017531565993,
                    0.24375017531565993,
                    0.24475017531565993,
                    0.24575017531565993,
                    0.24675017531565993,
                    0.24775017531565993,
                    0.24875017531565993,
                    0.24975017531565993,
                    0.2507501753156599,
                    0.2517501753156599,
                    0.2527501753156599,
                    0.2537501753156599,
                    0.2547501753156599,
                    0.2557501753156599,
                    0.2567501753156599,
                    0.2577501753156599,
                    0.2587501753156599,
                    0.2597501753156599,
                    0.2607501753156599,
                    0.2617501753156599,
                    0.2627501753156599,
                    0.2637501753156599,
                    0.2647501753156599,
                    0.2657501753156599,
                    0.2667501753156599,
                    0.2677501753156599,
                    0.2687501753156599,
                    0.2697501753156599,
                    0.2707501753156599,
                    0.2717501753156599,
                    0.2727501753156599,
                    0.2737501753156599,
                    0.27475017531565993,
                    0.27575017531565993,
                    0.27675017531565993,
                    0.27775017531565993,
                    0.27875017531565993,
                    0.27975017531565993,
                    0.28075017531565993,
                    0.28175017531565993,
                    0.28275017531565994,
                    0.28375017531565994,
                    0.28475017531565994,
                    0.28575017531565994,
                    0.28675017531565994,
                    0.28775017531565994,
                    0.28875017531565994,
                    0.28975017531565994,
                    0.29075017531565994,
                    0.29175017531565994,
                    0.29275017531565994,
                    0.29375017531565994,
                    0.29475017531565995,
                    0.29575017531565995,
                    0.29675017531565995,
                    0.29775017531565995,
                    0.29875017531565995,
                    0.29975017531565995,
                    0.30075017531565995,
                    0.30175017531565995,
                    0.30275017531565995,
                    0.30375017531565995,
                    0.30475017531565995,
                    0.30575017531565996,
                    0.30675017531565996,
                    0.30775017531565996,
                    0.30875017531565996,
                    0.30975017531565996,
                    0.31075017531565996,
                    0.31175017531565996,
                    0.31275017531565996,
                    0.31375017531565996,
                    0.31475017531565996,
                    0.31575017531565996,
                    0.31675017531565997,
                    0.31775017531565997,
                    0.31875017531565997,
                    0.31975017531565997,
                    0.32075017531565997,
                    0.32175017531565997,
                    0.32275017531565997,
                    0.32375017531565997,
                    0.32475017531566,
                    0.32575017531566,
                    0.32675017531566,
                    0.32775017531566,
                    0.32875017531566,
                    0.32975017531566,
                    0.33075017531566,
                    0.33175017531566,
                    0.33275017531566,
                    0.33375017531566,
                    0.33475017531566,
                    0.33575017531566,
                    0.33675017531566,
                    0.33775017531566,
                    0.33875017531566,
                    0.33975017531566,
                    0.34075017531566,
                    0.34175017531566,
                    0.34275017531566,
                    0.34375017531566,
                    0.34475017531566,
                    0.34575017531566,
                    0.34675017531566,
                    0.34775017531566,
                    0.34875017531566,
                    0.34975017531566,
                    0.35075017531566,
                    0.35175017531566,
                    0.35275017531566,
                    0.35375017531566,
                    0.35475017531566,
                    0.35575017531566,
                    0.35675017531566,
                    0.35775017531566,
                    0.35875017531566,
                    0.35975017531566,
                    0.36075017531566,
                    0.36175017531566,
                    0.36275017531566,
                    0.36375017531566,
                    0.36475017531566,
                    0.36575017531566,
                    0.36675017531566,
                    0.36775017531566,
                    0.36875017531566,
                    0.36975017531566,
                    0.37075017531566,
                    0.37175017531566,
                    0.37275017531566,
                    0.37375017531566,
                    0.37475017531566,
                    0.37575017531566,
                    0.37675017531566,
                    0.37775017531566,
                    0.37875017531566,
                    0.37975017531566,
                    0.38075017531566,
                    0.38175017531566,
                    0.38275017531566,
                    0.38375017531566,
                    0.38475017531566,
                    0.38575017531566,
                    0.38675017531566,
                    0.38775017531566003,
                    0.38875017531566003,
                    0.38975017531566003,
                    0.39075017531566003,
                    0.39175017531566003,
                    0.39275017531566003,
                    0.39375017531566003,
                    0.39475017531566003,
                    0.39575017531566004,
                    0.39675017531566004,
                    0.39775017531566004,
                    0.39875017531566004,
                    0.39975017531566004,
                    0.40075017531566004,
                    0.40175017531566004,
                    0.40275017531566004,
                    0.40375017531566004,
                    0.40475017531566004,
                    0.40575017531566004,
                    0.40675017531566005,
                    0.40775017531566005,
                    0.40875017531566005,
                    0.40975017531566005,
                    0.41075017531566005,
                    0.41175017531566005,
                    0.41275017531566005,
                    0.41375017531566005,
                    0.41475017531566005,
                    0.41575017531566005,
                    0.41675017531566005,
                    0.41775017531566006,
                    0.41875017531566006,
                    0.41975017531566006,
                    0.42075017531566006,
                    0.42175017531566006,
                    0.42275017531566006,
                    0.42375017531566006,
                    0.42475017531566006,
                    0.42575017531566006,
                    0.42675017531566006,
                    0.42775017531566006,
                    0.42875017531566006,
                    0.42975017531566007,
                    0.43075017531566007,
                    0.43175017531566007,
                    0.43275017531566007,
                    0.43375017531566007,
                    0.43475017531566007,
                    0.43575017531566007,
                    0.43675017531566007,
                    0.4377501753156601,
                    0.4387501753156601,
                    0.4397501753156601,
                    0.4407501753156601,
                    0.4417501753156601,
                    0.4427501753156601,
                    0.4437501753156601,
                    0.4447501753156601,
                    0.4457501753156601,
                    0.4467501753156601,
                    0.4477501753156601,
                    0.4487501753156601,
                    0.4497501753156601,
                    0.4507501753156601,
                    0.4517501753156601,
                    0.4527501753156601,
                    0.4537501753156601,
                    0.4547501753156601,
                    0.4557501753156601,
                    0.4567501753156601,
                    0.4577501753156601,
                    0.4587501753156601,
                    0.4597501753156601,
                    0.4607501753156601,
                    0.4617501753156601,
                    0.4627501753156601,
                    0.4637501753156601,
                    0.4647501753156601,
                    0.4657501753156601,
                    0.4667501753156601,
                    0.4677501753156601,
                    0.4687501753156601,
                    0.4697501753156601,
                    0.4707501753156601,
                    0.4717501753156601,
                    0.4727501753156601,
                    0.4737501753156601,
                    0.4747501753156601,
                    0.4757501753156601,
                    0.4767501753156601,
                    0.4777501753156601,
                    0.4787501753156601,
                    0.4797501753156601,
                    0.4807501753156601,
                    0.4817501753156601,
                    0.4827501753156601,
                    0.4837501753156601,
                    0.4847501753156601,
                    0.4857501753156601,
                    0.4867501753156601,
                    0.4877501753156601,
                    0.4887501753156601,
                    0.4897501753156601,
                    0.4907501753156601,
                    0.4917501753156601,
                    0.4927501753156601,
                    0.4937501753156601,
                    0.4947501753156601,
                    0.4957501753156601,
                    0.4967501753156601,
                    0.4977501753156601,
                    0.4987501753156601,
                    0.49975017531566013,
                    0.5007501753156601,
                    0.5017501753156601,
                    0.5027501753156601,
                    0.5037501753156601,
                    0.5047501753156601,
                    0.5057501753156601,
                    0.5067501753156601,
                    0.5077501753156601,
                    0.5087501753156601,
                    0.5097501753156601,
                    0.5107501753156601,
                    0.5117501753156601,
                    0.5127501753156601,
                    0.5137501753156601,
                    0.5147501753156601,
                    0.5157501753156601,
                    0.5167501753156601,
                    0.5177501753156601,
                    0.5187501753156601,
                    0.5197501753156601,
                    0.5207501753156601,
                    0.5217501753156601,
                    0.5227501753156601,
                    0.5237501753156601,
                    0.5247501753156602,
                    0.5257501753156602,
                    0.5267501753156602,
                    0.5277501753156602,
                    0.5287501753156602,
                    0.5297501753156602,
                    0.5307501753156602,
                    0.5317501753156602,
                    0.5327501753156602,
                    0.5337501753156602,
                    0.5347501753156602,
                    0.5357501753156602,
                    0.5367501753156602,
                    0.5377501753156602,
                    0.5387501753156602,
                    0.5397501753156602,
                    0.5407501753156602,
                    0.5417501753156602,
                    0.5427501753156602,
                    0.5437501753156602,
                    0.5447501753156602,
                    0.5457501753156602,
                    0.5467501753156602,
                    0.5477501753156602,
                    0.5487501753156602,
                    0.5497501753156602,
                    0.5507501753156602,
                    0.5517501753156602,
                    0.5527501753156602,
                    0.5537501753156602,
                    0.5547501753156602,
                    0.5557501753156602,
                    0.5567501753156602,
                    0.5577501753156602,
                    0.5587501753156602,
                    0.5597501753156602,
                    0.5607501753156602,
                    0.5617501753156602,
                    0.5627501753156602,
                    0.5637501753156602,
                    0.5647501753156602,
                    0.5657501753156602,
                    0.5667501753156602,
                    0.5677501753156602,
                    0.5687501753156602,
                    0.5697501753156602,
                    0.5707501753156602,
                    0.5717501753156602,
                    0.5727501753156602,
                    0.5737501753156602,
                    0.5747501753156602,
                    0.5757501753156602,
                    0.5767501753156602,
                    0.5777501753156602
                  ],
                  "xaxis": "x",
                  "y": [
                    0.07458938744741252,
                    0.07844106207759802,
                    0.08246826770159092,
                    0.08667767645101057,
                    0.09107614325423194,
                    0.09567070720417724,
                    0.10046859272836813,
                    0.10547721054916609,
                    0.11070415842194777,
                    0.11615722163879294,
                    0.12184437328512172,
                    0.12777377423659214,
                    0.1339537728834717,
                    0.1403929045696219,
                    0.14709989073318427,
                    0.15408363773603942,
                    0.1613532353691156,
                    0.168917955020663,
                    0.17678724749468097,
                    0.18497074046678832,
                    0.1934782355649642,
                    0.20231970506276076,
                    0.21150528817279837,
                    0.22104528692860448,
                    0.23095016164314014,
                    0.2412305259326901,
                    0.251897141295159,
                    0.262960911232223,
                    0.2744328749052466,
                    0.2863242003153657,
                    0.2986461769986806,
                    0.3114102082280849,
                    0.3246278027138958,
                    0.33831056579611807,
                    0.3524701901219,
                    0.36711844580250697,
                    0.3822671700449543,
                    0.3979282562542909,
                    0.41411364260344324,
                    0.43083530006846515,
                    0.44810521992803787,
                    0.4659354007271026,
                    0.4843378347055806,
                    0.5033244936942606,
                    0.5229073144810934,
                    0.5430981836523325,
                    0.5639089219141837,
                    0.5853512679019227,
                    0.6074368614847204,
                    0.6301772265757608,
                    0.6535837534586058,
                    0.6776676806421429,
                    0.7024400762578781,
                    0.7279118190147623,
                    0.7540935787282044,
                    0.7809957964413912,
                    0.8086286641585061,
                    0.8370021042109529,
                    0.866125748279165,
                    0.8960089160940842,
                    0.9266605938438922,
                    0.9580894123130643,
                    0.9903036247822847,
                    1.0233110847192375,
                    1.05711922329172,
                    1.0917350267359547,
                    1.1271650136143587,
                    1.1634152119983965,
                    1.2004911366134612,
                    1.2383977659840104,
                    1.2771395196184148,
                    1.3167202352741676,
                    1.3571431463452226,
                    1.3984108594142974,
                    1.4405253320139835,
                    1.4834878506414337,
                    1.5272990090722556,
                    1.571958687020013,
                    1.6174660291884502,
                    1.6638194247641316,
                    1.7110164873977374,
                    1.7590540357226612,
                    1.8079280744598587,
                    1.8576337761581647,
                    1.908165463619336,
                    1.9595165930571479,
                    2.0116797380397076,
                    2.0646465742639477,
                    2.118407865210908,
                    2.172953448729928,
                    2.228272224599323,
                    2.2843521431103584,
                    2.3411801947205113,
                    2.3987424008210487,
                    2.4570238056628377,
                    2.5160084694830873,
                    2.575679462874371,
                    2.636018862435784,
                    2.6970077477444883,
                    2.7586261996841683,
                    2.820853300165052,
                    2.8836671332681614,
                    2.9470447878443804,
                    3.010962361596655,
                    3.075394966671372,
                    3.140316736782446,
                    3.2057008358891337,
                    3.2715194684459163,
                    3.3377438912400246,
                    3.4043444268293466,
                    3.471290478590508,
                    3.538550547383879,
                    3.6060922498391865,
                    3.6738823382622035,
                    3.741886722159792,
                    3.8100704913772545,
                    3.878397940838622,
                    3.946832596877132,
                    4.015337245139697,
                    4.083873960045792,
                    4.152404135777664,
                    4.22088851877534,
                    4.289287241706431,
                    4.357559858877282,
                    4.425665383048577,
                    4.493562323615096,
                    4.561208726105945,
                    4.628562212958272,
                    4.695580025514191,
                    4.7622190671874245,
                    4.8284359477430785,
                    4.894187028630859,
                    4.959428469309138,
                    5.024116274494374,
                    5.088206342267663,
                    5.151654512967579,
                    5.214416618795942,
                    5.276448534060772,
                    5.337706225978504,
                    5.398145805955421,
                    5.457723581266363,
                    5.5163961070470044,
                    5.574120238514433,
                    5.63085318332931,
                    5.686552554011716,
                    5.741176420321704,
                    5.794683361514763,
                    5.84703251838173,
                    5.89818364498223,
                    5.948097159980506,
                    5.996734197492398,
                    6.044056657352466,
                    6.090027254710543,
                    6.1346095688676625,
                    6.17776809126204,
                    6.219468272516798,
                    6.259676568462357,
                    6.298360485047807,
                    6.335488622057175,
                    6.3710307155483985,
                    6.404957678934719,
                    6.437241642630551,
                    6.467855992186184,
                    6.496775404838329,
                    6.523975884406258,
                    6.549434794466245,
                    6.573130889740122,
                    6.595044345637012,
                    6.615156785890787,
                    6.633451308239269,
                    6.649912508094981,
                    6.664526500161026,
                    6.677280937949643,
                    6.688165031165035,
                    6.697169560916194,
                    6.704286892729723,
                    6.709510987336919,
                    6.712837409213795,
                    6.7142633328571355,
                    6.713787546784145,
                    6.711410455247768,
                    6.707134077664288,
                    6.700962045754334,
                    6.692899598402955,
                    6.6829535742489545,
                    6.671132402018157,
                    6.657446088619739,
                    6.641906205029141,
                    6.624525869985464,
                    6.605319731535487,
                    6.584303946460655,
                    6.5614961576274835,
                    6.5369154693058436,
                    6.510582420503427,
                    6.482518956368517,
                    6.452748397716792,
                    6.4212954087413765,
                    6.3881859629687305,
                    6.35344730752612,
                    6.317107925789481,
                    6.279197498483318,
                    6.239746863306958,
                    6.198787973163995,
                    6.156353853074073,
                    6.11247855584824,
                    6.067197116611068,
                    6.020545506254431,
                    5.9725605839093525,
                    5.923280048523656,
                    5.872742389634232,
                    5.820986837423664,
                    5.768053312151617,
                    5.71398237305186,
                    5.658815166786091,
                    5.602593375545776,
                    5.545359164893031,
                    5.487155131431311,
                    5.428024250396012,
                    5.368009823254435,
                    5.307155425403544,
                    5.245504854052865,
                    5.183102076378541,
                    5.119991178033033,
                    5.056216312093352,
                    4.991821648528783,
                    4.926851324267138,
                    4.861349393936392,
                    4.795359781356233,
                    4.728926231851694,
                    4.662092265458363,
                    4.594901131086093,
                    4.527395761705223,
                    4.459618730616492,
                    4.391612208862782,
                    4.323417923837745,
                    4.255077119143196,
                    4.186630515743909,
                    4.118118274465168,
                    4.0495799598750555,
                    3.9810545055900897,
                    3.912580181039362,
                    3.844194559718923,
                    3.7759344889646758,
                    3.707836061268574,
                    3.639934587159463,
                    3.572264569666449,
                    3.504859680379255,
                    3.437752737116636,
                    3.3709756832105233,
                    3.3045595684103093,
                    3.238534531408364,
                    3.1729297839847113,
                    3.107773596765642,
                    3.0430932865879607,
                    2.9789152054576156,
                    2.915264731088521,
                    2.8521662590046115,
                    2.7896431961854424,
                    2.7277179562330227,
                    2.6664119560351,
                    2.6057456138977035,
                    2.5457383491174537,
                    2.4864085829620324,
                    2.427773741025103,
                    2.369850256920101,
                    2.3126535772754764,
                    2.2561981679923293,
                    2.2004975217238054,
                    2.1455641665342315,
                    2.091409675694644,
                    2.038044678570232,
                    1.985478872554187,
                    1.9337210360015051,
                    1.882779042115558,
                    1.832659873739567,
                    1.7833696390045886,
                    1.7349135877852258,
                    1.6872961289139665,
                    1.6405208481049136,
                    1.5945905265375808,
                    1.5495071600515082,
                    1.505271978902614,
                    1.4618854680324511,
                    1.419347387801928,
                    1.377656795141513,
                    1.3368120650705004,
                    1.2968109125385843,
                    1.2576504145436975,
                    1.2193270324809184,
                    1.1818366346781266,
                    1.145174519075062,
                    1.1093354360034766,
                    1.0743136110271632,
                    1.0401027678018036,
                    1.0066961509157883,
                    0.9740865486744136,
                    0.9422663157911728,
                    0.9112273959511897,
                    0.880961344213223,
                    0.8514593492180824,
                    0.8227122551727206,
                    0.7947105835807228,
                    0.7674445546913891,
                    0.7409041086410796,
                    0.7150789262619991,
                    0.6899584495350751,
                    0.6655319016650928,
                    0.6417883067577468,
                    0.6187165090797425,
                    0.5963051918845719,
                    0.5745428957880415,
                    0.5534180366790824,
                    0.5329189231527913,
                    0.5130337734540716,
                    0.4937507319215987,
                    0.47505788492320344,
                    0.45694327627508324,
                    0.43939492213853215,
                    0.42240082538914353,
                    0.40594898945464847,
                    0.3900274316187434,
                    0.3746241957893857,
                    0.3597273647311495,
                    0.3453250717622866,
                    0.331405511918144,
                    0.31795695258357637,
                    0.3049677435979036,
                    0.29242632683685393,
                    0.2803212452767646,
                    0.2686411515471063,
                    0.2573748159781383,
                    0.2465111341512033,
                    0.23603913395982298,
                    0.22594798219036583,
                    0.21622699063161646,
                    0.2068656217231002,
                    0.1978534937524897,
                    0.18918038561284997,
                    0.18083624113087005,
                    0.17281117297757637,
                    0.16509546617332918,
                    0.157679581199173,
                    0.150554156726837,
                    0.14371001197987915,
                    0.13713814873861635,
                    0.1308297530016078,
                    0.1247761963165444,
                    0.11896903679345018,
                    0.11340001981312682,
                    0.10806107844376446,
                    0.10294433357860772,
                    0.09804209380750478,
                    0.09334685503507856,
                    0.08885129985815193,
                    0.08454829671491851,
                    0.08043089881820235,
                    0.07649234288496973
                  ],
                  "yaxis": "y2"
                }
              ],
              "layout": {
                "annotations": [
                  {
                    "font": {
                      "size": 16
                    },
                    "showarrow": false,
                    "text": "Distance (mm)",
                    "x": 0.47,
                    "xanchor": "center",
                    "xref": "paper",
                    "y": 0,
                    "yanchor": "top",
                    "yref": "paper",
                    "yshift": -30
                  }
                ],
                "template": {
                  "data": {
                    "bar": [
                      {
                        "error_x": {
                          "color": "#2a3f5f"
                        },
                        "error_y": {
                          "color": "#2a3f5f"
                        },
                        "marker": {
                          "line": {
                            "color": "#E5ECF6",
                            "width": 0.5
                          },
                          "pattern": {
                            "fillmode": "overlay",
                            "size": 10,
                            "solidity": 0.2
                          }
                        },
                        "type": "bar"
                      }
                    ],
                    "barpolar": [
                      {
                        "marker": {
                          "line": {
                            "color": "#E5ECF6",
                            "width": 0.5
                          },
                          "pattern": {
                            "fillmode": "overlay",
                            "size": 10,
                            "solidity": 0.2
                          }
                        },
                        "type": "barpolar"
                      }
                    ],
                    "carpet": [
                      {
                        "aaxis": {
                          "endlinecolor": "#2a3f5f",
                          "gridcolor": "white",
                          "linecolor": "white",
                          "minorgridcolor": "white",
                          "startlinecolor": "#2a3f5f"
                        },
                        "baxis": {
                          "endlinecolor": "#2a3f5f",
                          "gridcolor": "white",
                          "linecolor": "white",
                          "minorgridcolor": "white",
                          "startlinecolor": "#2a3f5f"
                        },
                        "type": "carpet"
                      }
                    ],
                    "choropleth": [
                      {
                        "colorbar": {
                          "outlinewidth": 0,
                          "ticks": ""
                        },
                        "type": "choropleth"
                      }
                    ],
                    "contour": [
                      {
                        "colorbar": {
                          "outlinewidth": 0,
                          "ticks": ""
                        },
                        "colorscale": [
                          [
                            0,
                            "#0d0887"
                          ],
                          [
                            0.1111111111111111,
                            "#46039f"
                          ],
                          [
                            0.2222222222222222,
                            "#7201a8"
                          ],
                          [
                            0.3333333333333333,
                            "#9c179e"
                          ],
                          [
                            0.4444444444444444,
                            "#bd3786"
                          ],
                          [
                            0.5555555555555556,
                            "#d8576b"
                          ],
                          [
                            0.6666666666666666,
                            "#ed7953"
                          ],
                          [
                            0.7777777777777778,
                            "#fb9f3a"
                          ],
                          [
                            0.8888888888888888,
                            "#fdca26"
                          ],
                          [
                            1,
                            "#f0f921"
                          ]
                        ],
                        "type": "contour"
                      }
                    ],
                    "contourcarpet": [
                      {
                        "colorbar": {
                          "outlinewidth": 0,
                          "ticks": ""
                        },
                        "type": "contourcarpet"
                      }
                    ],
                    "heatmap": [
                      {
                        "colorbar": {
                          "outlinewidth": 0,
                          "ticks": ""
                        },
                        "colorscale": [
                          [
                            0,
                            "#0d0887"
                          ],
                          [
                            0.1111111111111111,
                            "#46039f"
                          ],
                          [
                            0.2222222222222222,
                            "#7201a8"
                          ],
                          [
                            0.3333333333333333,
                            "#9c179e"
                          ],
                          [
                            0.4444444444444444,
                            "#bd3786"
                          ],
                          [
                            0.5555555555555556,
                            "#d8576b"
                          ],
                          [
                            0.6666666666666666,
                            "#ed7953"
                          ],
                          [
                            0.7777777777777778,
                            "#fb9f3a"
                          ],
                          [
                            0.8888888888888888,
                            "#fdca26"
                          ],
                          [
                            1,
                            "#f0f921"
                          ]
                        ],
                        "type": "heatmap"
                      }
                    ],
                    "heatmapgl": [
                      {
                        "colorbar": {
                          "outlinewidth": 0,
                          "ticks": ""
                        },
                        "colorscale": [
                          [
                            0,
                            "#0d0887"
                          ],
                          [
                            0.1111111111111111,
                            "#46039f"
                          ],
                          [
                            0.2222222222222222,
                            "#7201a8"
                          ],
                          [
                            0.3333333333333333,
                            "#9c179e"
                          ],
                          [
                            0.4444444444444444,
                            "#bd3786"
                          ],
                          [
                            0.5555555555555556,
                            "#d8576b"
                          ],
                          [
                            0.6666666666666666,
                            "#ed7953"
                          ],
                          [
                            0.7777777777777778,
                            "#fb9f3a"
                          ],
                          [
                            0.8888888888888888,
                            "#fdca26"
                          ],
                          [
                            1,
                            "#f0f921"
                          ]
                        ],
                        "type": "heatmapgl"
                      }
                    ],
                    "histogram": [
                      {
                        "marker": {
                          "pattern": {
                            "fillmode": "overlay",
                            "size": 10,
                            "solidity": 0.2
                          }
                        },
                        "type": "histogram"
                      }
                    ],
                    "histogram2d": [
                      {
                        "colorbar": {
                          "outlinewidth": 0,
                          "ticks": ""
                        },
                        "colorscale": [
                          [
                            0,
                            "#0d0887"
                          ],
                          [
                            0.1111111111111111,
                            "#46039f"
                          ],
                          [
                            0.2222222222222222,
                            "#7201a8"
                          ],
                          [
                            0.3333333333333333,
                            "#9c179e"
                          ],
                          [
                            0.4444444444444444,
                            "#bd3786"
                          ],
                          [
                            0.5555555555555556,
                            "#d8576b"
                          ],
                          [
                            0.6666666666666666,
                            "#ed7953"
                          ],
                          [
                            0.7777777777777778,
                            "#fb9f3a"
                          ],
                          [
                            0.8888888888888888,
                            "#fdca26"
                          ],
                          [
                            1,
                            "#f0f921"
                          ]
                        ],
                        "type": "histogram2d"
                      }
                    ],
                    "histogram2dcontour": [
                      {
                        "colorbar": {
                          "outlinewidth": 0,
                          "ticks": ""
                        },
                        "colorscale": [
                          [
                            0,
                            "#0d0887"
                          ],
                          [
                            0.1111111111111111,
                            "#46039f"
                          ],
                          [
                            0.2222222222222222,
                            "#7201a8"
                          ],
                          [
                            0.3333333333333333,
                            "#9c179e"
                          ],
                          [
                            0.4444444444444444,
                            "#bd3786"
                          ],
                          [
                            0.5555555555555556,
                            "#d8576b"
                          ],
                          [
                            0.6666666666666666,
                            "#ed7953"
                          ],
                          [
                            0.7777777777777778,
                            "#fb9f3a"
                          ],
                          [
                            0.8888888888888888,
                            "#fdca26"
                          ],
                          [
                            1,
                            "#f0f921"
                          ]
                        ],
                        "type": "histogram2dcontour"
                      }
                    ],
                    "mesh3d": [
                      {
                        "colorbar": {
                          "outlinewidth": 0,
                          "ticks": ""
                        },
                        "type": "mesh3d"
                      }
                    ],
                    "parcoords": [
                      {
                        "line": {
                          "colorbar": {
                            "outlinewidth": 0,
                            "ticks": ""
                          }
                        },
                        "type": "parcoords"
                      }
                    ],
                    "pie": [
                      {
                        "automargin": true,
                        "type": "pie"
                      }
                    ],
                    "scatter": [
                      {
                        "fillpattern": {
                          "fillmode": "overlay",
                          "size": 10,
                          "solidity": 0.2
                        },
                        "type": "scatter"
                      }
                    ],
                    "scatter3d": [
                      {
                        "line": {
                          "colorbar": {
                            "outlinewidth": 0,
                            "ticks": ""
                          }
                        },
                        "marker": {
                          "colorbar": {
                            "outlinewidth": 0,
                            "ticks": ""
                          }
                        },
                        "type": "scatter3d"
                      }
                    ],
                    "scattercarpet": [
                      {
                        "marker": {
                          "colorbar": {
                            "outlinewidth": 0,
                            "ticks": ""
                          }
                        },
                        "type": "scattercarpet"
                      }
                    ],
                    "scattergeo": [
                      {
                        "marker": {
                          "colorbar": {
                            "outlinewidth": 0,
                            "ticks": ""
                          }
                        },
                        "type": "scattergeo"
                      }
                    ],
                    "scattergl": [
                      {
                        "marker": {
                          "colorbar": {
                            "outlinewidth": 0,
                            "ticks": ""
                          }
                        },
                        "type": "scattergl"
                      }
                    ],
                    "scattermapbox": [
                      {
                        "marker": {
                          "colorbar": {
                            "outlinewidth": 0,
                            "ticks": ""
                          }
                        },
                        "type": "scattermapbox"
                      }
                    ],
                    "scatterpolar": [
                      {
                        "marker": {
                          "colorbar": {
                            "outlinewidth": 0,
                            "ticks": ""
                          }
                        },
                        "type": "scatterpolar"
                      }
                    ],
                    "scatterpolargl": [
                      {
                        "marker": {
                          "colorbar": {
                            "outlinewidth": 0,
                            "ticks": ""
                          }
                        },
                        "type": "scatterpolargl"
                      }
                    ],
                    "scatterternary": [
                      {
                        "marker": {
                          "colorbar": {
                            "outlinewidth": 0,
                            "ticks": ""
                          }
                        },
                        "type": "scatterternary"
                      }
                    ],
                    "surface": [
                      {
                        "colorbar": {
                          "outlinewidth": 0,
                          "ticks": ""
                        },
                        "colorscale": [
                          [
                            0,
                            "#0d0887"
                          ],
                          [
                            0.1111111111111111,
                            "#46039f"
                          ],
                          [
                            0.2222222222222222,
                            "#7201a8"
                          ],
                          [
                            0.3333333333333333,
                            "#9c179e"
                          ],
                          [
                            0.4444444444444444,
                            "#bd3786"
                          ],
                          [
                            0.5555555555555556,
                            "#d8576b"
                          ],
                          [
                            0.6666666666666666,
                            "#ed7953"
                          ],
                          [
                            0.7777777777777778,
                            "#fb9f3a"
                          ],
                          [
                            0.8888888888888888,
                            "#fdca26"
                          ],
                          [
                            1,
                            "#f0f921"
                          ]
                        ],
                        "type": "surface"
                      }
                    ],
                    "table": [
                      {
                        "cells": {
                          "fill": {
                            "color": "#EBF0F8"
                          },
                          "line": {
                            "color": "white"
                          }
                        },
                        "header": {
                          "fill": {
                            "color": "#C8D4E3"
                          },
                          "line": {
                            "color": "white"
                          }
                        },
                        "type": "table"
                      }
                    ]
                  },
                  "layout": {
                    "annotationdefaults": {
                      "arrowcolor": "#2a3f5f",
                      "arrowhead": 0,
                      "arrowwidth": 1
                    },
                    "autotypenumbers": "strict",
                    "coloraxis": {
                      "colorbar": {
                        "outlinewidth": 0,
                        "ticks": ""
                      }
                    },
                    "colorscale": {
                      "diverging": [
                        [
                          0,
                          "#8e0152"
                        ],
                        [
                          0.1,
                          "#c51b7d"
                        ],
                        [
                          0.2,
                          "#de77ae"
                        ],
                        [
                          0.3,
                          "#f1b6da"
                        ],
                        [
                          0.4,
                          "#fde0ef"
                        ],
                        [
                          0.5,
                          "#f7f7f7"
                        ],
                        [
                          0.6,
                          "#e6f5d0"
                        ],
                        [
                          0.7,
                          "#b8e186"
                        ],
                        [
                          0.8,
                          "#7fbc41"
                        ],
                        [
                          0.9,
                          "#4d9221"
                        ],
                        [
                          1,
                          "#276419"
                        ]
                      ],
                      "sequential": [
                        [
                          0,
                          "#0d0887"
                        ],
                        [
                          0.1111111111111111,
                          "#46039f"
                        ],
                        [
                          0.2222222222222222,
                          "#7201a8"
                        ],
                        [
                          0.3333333333333333,
                          "#9c179e"
                        ],
                        [
                          0.4444444444444444,
                          "#bd3786"
                        ],
                        [
                          0.5555555555555556,
                          "#d8576b"
                        ],
                        [
                          0.6666666666666666,
                          "#ed7953"
                        ],
                        [
                          0.7777777777777778,
                          "#fb9f3a"
                        ],
                        [
                          0.8888888888888888,
                          "#fdca26"
                        ],
                        [
                          1,
                          "#f0f921"
                        ]
                      ],
                      "sequentialminus": [
                        [
                          0,
                          "#0d0887"
                        ],
                        [
                          0.1111111111111111,
                          "#46039f"
                        ],
                        [
                          0.2222222222222222,
                          "#7201a8"
                        ],
                        [
                          0.3333333333333333,
                          "#9c179e"
                        ],
                        [
                          0.4444444444444444,
                          "#bd3786"
                        ],
                        [
                          0.5555555555555556,
                          "#d8576b"
                        ],
                        [
                          0.6666666666666666,
                          "#ed7953"
                        ],
                        [
                          0.7777777777777778,
                          "#fb9f3a"
                        ],
                        [
                          0.8888888888888888,
                          "#fdca26"
                        ],
                        [
                          1,
                          "#f0f921"
                        ]
                      ]
                    },
                    "colorway": [
                      "#636efa",
                      "#EF553B",
                      "#00cc96",
                      "#ab63fa",
                      "#FFA15A",
                      "#19d3f3",
                      "#FF6692",
                      "#B6E880",
                      "#FF97FF",
                      "#FECB52"
                    ],
                    "font": {
                      "color": "#2a3f5f"
                    },
                    "geo": {
                      "bgcolor": "white",
                      "lakecolor": "white",
                      "landcolor": "#E5ECF6",
                      "showlakes": true,
                      "showland": true,
                      "subunitcolor": "white"
                    },
                    "hoverlabel": {
                      "align": "left"
                    },
                    "hovermode": "closest",
                    "mapbox": {
                      "style": "light"
                    },
                    "paper_bgcolor": "white",
                    "plot_bgcolor": "#E5ECF6",
                    "polar": {
                      "angularaxis": {
                        "gridcolor": "white",
                        "linecolor": "white",
                        "ticks": ""
                      },
                      "bgcolor": "#E5ECF6",
                      "radialaxis": {
                        "gridcolor": "white",
                        "linecolor": "white",
                        "ticks": ""
                      }
                    },
                    "scene": {
                      "xaxis": {
                        "backgroundcolor": "#E5ECF6",
                        "gridcolor": "white",
                        "gridwidth": 2,
                        "linecolor": "white",
                        "showbackground": true,
                        "ticks": "",
                        "zerolinecolor": "white"
                      },
                      "yaxis": {
                        "backgroundcolor": "#E5ECF6",
                        "gridcolor": "white",
                        "gridwidth": 2,
                        "linecolor": "white",
                        "showbackground": true,
                        "ticks": "",
                        "zerolinecolor": "white"
                      },
                      "zaxis": {
                        "backgroundcolor": "#E5ECF6",
                        "gridcolor": "white",
                        "gridwidth": 2,
                        "linecolor": "white",
                        "showbackground": true,
                        "ticks": "",
                        "zerolinecolor": "white"
                      }
                    },
                    "shapedefaults": {
                      "line": {
                        "color": "#2a3f5f"
                      }
                    },
                    "ternary": {
                      "aaxis": {
                        "gridcolor": "white",
                        "linecolor": "white",
                        "ticks": ""
                      },
                      "baxis": {
                        "gridcolor": "white",
                        "linecolor": "white",
                        "ticks": ""
                      },
                      "bgcolor": "#E5ECF6",
                      "caxis": {
                        "gridcolor": "white",
                        "linecolor": "white",
                        "ticks": ""
                      }
                    },
                    "title": {
                      "x": 0.05
                    },
                    "xaxis": {
                      "automargin": true,
                      "gridcolor": "white",
                      "linecolor": "white",
                      "ticks": "",
                      "title": {
                        "standoff": 15
                      },
                      "zerolinecolor": "white",
                      "zerolinewidth": 2
                    },
                    "yaxis": {
                      "automargin": true,
                      "gridcolor": "white",
                      "linecolor": "white",
                      "ticks": "",
                      "title": {
                        "standoff": 15
                      },
                      "zerolinecolor": "white",
                      "zerolinewidth": 2
                    }
                  }
                },
                "title": {
                  "text": "Dimension chart"
                },
                "xaxis": {
                  "anchor": "y",
                  "domain": [
                    0,
                    0.94
                  ]
                },
                "yaxis": {
                  "anchor": "x",
                  "domain": [
                    0,
                    1
                  ],
                  "title": {
                    "text": "Dimension"
                  }
                },
                "yaxis2": {
                  "anchor": "x",
                  "overlaying": "y",
                  "side": "right",
                  "title": {
                    "text": "Probability Density"
                  }
                }
              }
            }
          },
          "metadata": {},
          "output_type": "display_data"
        }
      ],
      "source": [
        "ds.plot.StackPlot().add(stack).add(stack.RSS).show()"
      ]
    },
    {
      "cell_type": "code",
      "execution_count": 3,
      "metadata": {},
      "outputs": [
        {
          "data": {
            "text/html": [
              "<style type=\"text/css\">\n",
              "</style>\n",
              "<table id=\"T_a1349\">\n",
              "  <caption>Dimension: stacks on stacks - Closed Analysis</caption>\n",
              "  <thead>\n",
              "    <tr>\n",
              "      <th id=\"T_a1349_level0_col0\" class=\"col_heading level0 col0\" >ID</th>\n",
              "      <th id=\"T_a1349_level0_col1\" class=\"col_heading level0 col1\" >Name</th>\n",
              "      <th id=\"T_a1349_level0_col2\" class=\"col_heading level0 col2\" >Description</th>\n",
              "      <th id=\"T_a1349_level0_col3\" class=\"col_heading level0 col3\" >dir</th>\n",
              "      <th id=\"T_a1349_level0_col4\" class=\"col_heading level0 col4\" >Nom.</th>\n",
              "      <th id=\"T_a1349_level0_col5\" class=\"col_heading level0 col5\" >Tol.</th>\n",
              "      <th id=\"T_a1349_level0_col6\" class=\"col_heading level0 col6\" >Sen.</th>\n",
              "      <th id=\"T_a1349_level0_col7\" class=\"col_heading level0 col7\" >Relative Bounds</th>\n",
              "      <th id=\"T_a1349_level0_col8\" class=\"col_heading level0 col8\" >Distribution</th>\n",
              "    </tr>\n",
              "  </thead>\n",
              "  <tbody>\n",
              "    <tr>\n",
              "      <td id=\"T_a1349_row0_col0\" class=\"data row0 col0\" >9</td>\n",
              "      <td id=\"T_a1349_row0_col1\" class=\"data row0 col1\" >stacks on stacks</td>\n",
              "      <td id=\"T_a1349_row0_col2\" class=\"data row0 col2\" >Closed Analysis</td>\n",
              "      <td id=\"T_a1349_row0_col3\" class=\"data row0 col3\" >+</td>\n",
              "      <td id=\"T_a1349_row0_col4\" class=\"data row0 col4\" >0.25</td>\n",
              "      <td id=\"T_a1349_row0_col5\" class=\"data row0 col5\" >+ 0.533 / - 0.233</td>\n",
              "      <td id=\"T_a1349_row0_col6\" class=\"data row0 col6\" >1</td>\n",
              "      <td id=\"T_a1349_row0_col7\" class=\"data row0 col7\" >[0.017, 0.783]</td>\n",
              "      <td id=\"T_a1349_row0_col8\" class=\"data row0 col8\" >Uniform</td>\n",
              "    </tr>\n",
              "  </tbody>\n",
              "</table>\n"
            ],
            "text/plain": [
              "BasicDimension(0.25, UnequalBilateral(0.533, 0.23299999999999998), 1, stacks on stacks, Closed Analysis)"
            ]
          },
          "metadata": {},
          "output_type": "display_data"
        },
        {
          "data": {
            "text/html": [
              "<style type=\"text/css\">\n",
              "</style>\n",
              "<table id=\"T_20492\">\n",
              "  <caption>Dimension: stacks on stacks - WC Analysis</caption>\n",
              "  <thead>\n",
              "    <tr>\n",
              "      <th id=\"T_20492_level0_col0\" class=\"col_heading level0 col0\" >ID</th>\n",
              "      <th id=\"T_20492_level0_col1\" class=\"col_heading level0 col1\" >Name</th>\n",
              "      <th id=\"T_20492_level0_col2\" class=\"col_heading level0 col2\" >Description</th>\n",
              "      <th id=\"T_20492_level0_col3\" class=\"col_heading level0 col3\" >dir</th>\n",
              "      <th id=\"T_20492_level0_col4\" class=\"col_heading level0 col4\" >Nom.</th>\n",
              "      <th id=\"T_20492_level0_col5\" class=\"col_heading level0 col5\" >Tol.</th>\n",
              "      <th id=\"T_20492_level0_col6\" class=\"col_heading level0 col6\" >Sen.</th>\n",
              "      <th id=\"T_20492_level0_col7\" class=\"col_heading level0 col7\" >Relative Bounds</th>\n",
              "      <th id=\"T_20492_level0_col8\" class=\"col_heading level0 col8\" >Distribution</th>\n",
              "    </tr>\n",
              "  </thead>\n",
              "  <tbody>\n",
              "    <tr>\n",
              "      <td id=\"T_20492_row0_col0\" class=\"data row0 col0\" >10</td>\n",
              "      <td id=\"T_20492_row0_col1\" class=\"data row0 col1\" >stacks on stacks</td>\n",
              "      <td id=\"T_20492_row0_col2\" class=\"data row0 col2\" >WC Analysis</td>\n",
              "      <td id=\"T_20492_row0_col3\" class=\"data row0 col3\" >+</td>\n",
              "      <td id=\"T_20492_row0_col4\" class=\"data row0 col4\" >0.4</td>\n",
              "      <td id=\"T_20492_row0_col5\" class=\"data row0 col5\" >± 0.383       </td>\n",
              "      <td id=\"T_20492_row0_col6\" class=\"data row0 col6\" >1</td>\n",
              "      <td id=\"T_20492_row0_col7\" class=\"data row0 col7\" >[0.017, 0.783]</td>\n",
              "      <td id=\"T_20492_row0_col8\" class=\"data row0 col8\" >Uniform</td>\n",
              "    </tr>\n",
              "  </tbody>\n",
              "</table>\n"
            ],
            "text/plain": [
              "BasicDimension(0.4000000000000057, SymmetricBilateral(0.383), 1, stacks on stacks, WC Analysis)"
            ]
          },
          "metadata": {},
          "output_type": "display_data"
        },
        {
          "name": "stderr",
          "output_type": "stream",
          "text": [
            "WARNING:root:Converting BasicDimension (5: f Bearing Sleeve +20 ± 0.026) to StatisticalDimension\n"
          ]
        },
        {
          "data": {
            "text/html": [
              "<style type=\"text/css\">\n",
              "</style>\n",
              "<table id=\"T_720aa\">\n",
              "  <caption>Dimension: stacks on stacks - RSS Analysis (assuming inputs with Normal Distribution & ± 3σ)</caption>\n",
              "  <thead>\n",
              "    <tr>\n",
              "      <th id=\"T_720aa_level0_col0\" class=\"col_heading level0 col0\" >ID</th>\n",
              "      <th id=\"T_720aa_level0_col1\" class=\"col_heading level0 col1\" >Name</th>\n",
              "      <th id=\"T_720aa_level0_col2\" class=\"col_heading level0 col2\" >Description</th>\n",
              "      <th id=\"T_720aa_level0_col3\" class=\"col_heading level0 col3\" >dir</th>\n",
              "      <th id=\"T_720aa_level0_col4\" class=\"col_heading level0 col4\" >Nom.</th>\n",
              "      <th id=\"T_720aa_level0_col5\" class=\"col_heading level0 col5\" >Tol.</th>\n",
              "      <th id=\"T_720aa_level0_col6\" class=\"col_heading level0 col6\" >Sen.</th>\n",
              "      <th id=\"T_720aa_level0_col7\" class=\"col_heading level0 col7\" >Relative Bounds</th>\n",
              "      <th id=\"T_720aa_level0_col8\" class=\"col_heading level0 col8\" >Distribution</th>\n",
              "      <th id=\"T_720aa_level0_col9\" class=\"col_heading level0 col9\" >Process Sigma</th>\n",
              "      <th id=\"T_720aa_level0_col10\" class=\"col_heading level0 col10\" >k</th>\n",
              "      <th id=\"T_720aa_level0_col11\" class=\"col_heading level0 col11\" >C_p</th>\n",
              "      <th id=\"T_720aa_level0_col12\" class=\"col_heading level0 col12\" >C_pk</th>\n",
              "      <th id=\"T_720aa_level0_col13\" class=\"col_heading level0 col13\" >μ</th>\n",
              "      <th id=\"T_720aa_level0_col14\" class=\"col_heading level0 col14\" >σ</th>\n",
              "      <th id=\"T_720aa_level0_col15\" class=\"col_heading level0 col15\" >μ_eff</th>\n",
              "      <th id=\"T_720aa_level0_col16\" class=\"col_heading level0 col16\" >σ_eff</th>\n",
              "      <th id=\"T_720aa_level0_col17\" class=\"col_heading level0 col17\" >Yield Probability</th>\n",
              "      <th id=\"T_720aa_level0_col18\" class=\"col_heading level0 col18\" >Reject PPM</th>\n",
              "    </tr>\n",
              "  </thead>\n",
              "  <tbody>\n",
              "    <tr>\n",
              "      <td id=\"T_720aa_row0_col0\" class=\"data row0 col0\" >12</td>\n",
              "      <td id=\"T_720aa_row0_col1\" class=\"data row0 col1\" >stacks on stacks</td>\n",
              "      <td id=\"T_720aa_row0_col2\" class=\"data row0 col2\" >RSS Analysis (assuming inputs with Normal Distribution & ± 3σ)</td>\n",
              "      <td id=\"T_720aa_row0_col3\" class=\"data row0 col3\" >+</td>\n",
              "      <td id=\"T_720aa_row0_col4\" class=\"data row0 col4\" >0.4</td>\n",
              "      <td id=\"T_720aa_row0_col5\" class=\"data row0 col5\" >± 0.17825     </td>\n",
              "      <td id=\"T_720aa_row0_col6\" class=\"data row0 col6\" >1</td>\n",
              "      <td id=\"T_720aa_row0_col7\" class=\"data row0 col7\" >[0.22175, 0.57825]</td>\n",
              "      <td id=\"T_720aa_row0_col8\" class=\"data row0 col8\" >Normal</td>\n",
              "      <td id=\"T_720aa_row0_col9\" class=\"data row0 col9\" >± 3σ</td>\n",
              "      <td id=\"T_720aa_row0_col10\" class=\"data row0 col10\" >0</td>\n",
              "      <td id=\"T_720aa_row0_col11\" class=\"data row0 col11\" >1.0</td>\n",
              "      <td id=\"T_720aa_row0_col12\" class=\"data row0 col12\" >1.0</td>\n",
              "      <td id=\"T_720aa_row0_col13\" class=\"data row0 col13\" >0.4</td>\n",
              "      <td id=\"T_720aa_row0_col14\" class=\"data row0 col14\" >0.05942</td>\n",
              "      <td id=\"T_720aa_row0_col15\" class=\"data row0 col15\" >0.4</td>\n",
              "      <td id=\"T_720aa_row0_col16\" class=\"data row0 col16\" >0.05942</td>\n",
              "      <td id=\"T_720aa_row0_col17\" class=\"data row0 col17\" >99.73002039</td>\n",
              "      <td id=\"T_720aa_row0_col18\" class=\"data row0 col18\" >2699.8</td>\n",
              "    </tr>\n",
              "  </tbody>\n",
              "</table>\n"
            ],
            "text/plain": [
              "StatisticalDimension(0.4000000000000057, SymmetricBilateral(0.17824982468434578), 1, stacks on stacks, RSS Analysis (assuming inputs with Normal Distribution & ± 3σ), 3, 0, Normal)"
            ]
          },
          "metadata": {},
          "output_type": "display_data"
        },
        {
          "name": "stderr",
          "output_type": "stream",
          "text": [
            "WARNING:root:Converting BasicDimension (5: f Bearing Sleeve +20 ± 0.026) to StatisticalDimension\n"
          ]
        },
        {
          "data": {
            "text/html": [
              "<style type=\"text/css\">\n",
              "</style>\n",
              "<table id=\"T_d9052\">\n",
              "  <caption>Dimension: stacks on stacks - MRSS Analysis (assuming inputs with Normal Distribution & ± 3σ)</caption>\n",
              "  <thead>\n",
              "    <tr>\n",
              "      <th id=\"T_d9052_level0_col0\" class=\"col_heading level0 col0\" >ID</th>\n",
              "      <th id=\"T_d9052_level0_col1\" class=\"col_heading level0 col1\" >Name</th>\n",
              "      <th id=\"T_d9052_level0_col2\" class=\"col_heading level0 col2\" >Description</th>\n",
              "      <th id=\"T_d9052_level0_col3\" class=\"col_heading level0 col3\" >dir</th>\n",
              "      <th id=\"T_d9052_level0_col4\" class=\"col_heading level0 col4\" >Nom.</th>\n",
              "      <th id=\"T_d9052_level0_col5\" class=\"col_heading level0 col5\" >Tol.</th>\n",
              "      <th id=\"T_d9052_level0_col6\" class=\"col_heading level0 col6\" >Sen.</th>\n",
              "      <th id=\"T_d9052_level0_col7\" class=\"col_heading level0 col7\" >Relative Bounds</th>\n",
              "      <th id=\"T_d9052_level0_col8\" class=\"col_heading level0 col8\" >Distribution</th>\n",
              "      <th id=\"T_d9052_level0_col9\" class=\"col_heading level0 col9\" >Process Sigma</th>\n",
              "      <th id=\"T_d9052_level0_col10\" class=\"col_heading level0 col10\" >k</th>\n",
              "      <th id=\"T_d9052_level0_col11\" class=\"col_heading level0 col11\" >C_p</th>\n",
              "      <th id=\"T_d9052_level0_col12\" class=\"col_heading level0 col12\" >C_pk</th>\n",
              "      <th id=\"T_d9052_level0_col13\" class=\"col_heading level0 col13\" >μ</th>\n",
              "      <th id=\"T_d9052_level0_col14\" class=\"col_heading level0 col14\" >σ</th>\n",
              "      <th id=\"T_d9052_level0_col15\" class=\"col_heading level0 col15\" >μ_eff</th>\n",
              "      <th id=\"T_d9052_level0_col16\" class=\"col_heading level0 col16\" >σ_eff</th>\n",
              "      <th id=\"T_d9052_level0_col17\" class=\"col_heading level0 col17\" >Yield Probability</th>\n",
              "      <th id=\"T_d9052_level0_col18\" class=\"col_heading level0 col18\" >Reject PPM</th>\n",
              "    </tr>\n",
              "  </thead>\n",
              "  <tbody>\n",
              "    <tr>\n",
              "      <td id=\"T_d9052_row0_col0\" class=\"data row0 col0\" >14</td>\n",
              "      <td id=\"T_d9052_row0_col1\" class=\"data row0 col1\" >stacks on stacks</td>\n",
              "      <td id=\"T_d9052_row0_col2\" class=\"data row0 col2\" >MRSS Analysis (assuming inputs with Normal Distribution & ± 3σ)</td>\n",
              "      <td id=\"T_d9052_row0_col3\" class=\"data row0 col3\" >+</td>\n",
              "      <td id=\"T_d9052_row0_col4\" class=\"data row0 col4\" >0.4</td>\n",
              "      <td id=\"T_d9052_row0_col5\" class=\"data row0 col5\" >± 0.24046     </td>\n",
              "      <td id=\"T_d9052_row0_col6\" class=\"data row0 col6\" >1</td>\n",
              "      <td id=\"T_d9052_row0_col7\" class=\"data row0 col7\" >[0.15954, 0.64046]</td>\n",
              "      <td id=\"T_d9052_row0_col8\" class=\"data row0 col8\" >Normal</td>\n",
              "      <td id=\"T_d9052_row0_col9\" class=\"data row0 col9\" >± 3.76693σ</td>\n",
              "      <td id=\"T_d9052_row0_col10\" class=\"data row0 col10\" >0</td>\n",
              "      <td id=\"T_d9052_row0_col11\" class=\"data row0 col11\" >1.25564</td>\n",
              "      <td id=\"T_d9052_row0_col12\" class=\"data row0 col12\" >1.25564</td>\n",
              "      <td id=\"T_d9052_row0_col13\" class=\"data row0 col13\" >0.4</td>\n",
              "      <td id=\"T_d9052_row0_col14\" class=\"data row0 col14\" >0.06383</td>\n",
              "      <td id=\"T_d9052_row0_col15\" class=\"data row0 col15\" >0.4</td>\n",
              "      <td id=\"T_d9052_row0_col16\" class=\"data row0 col16\" >0.06383</td>\n",
              "      <td id=\"T_d9052_row0_col17\" class=\"data row0 col17\" >99.98347307</td>\n",
              "      <td id=\"T_d9052_row0_col18\" class=\"data row0 col18\" >165.27</td>\n",
              "    </tr>\n",
              "  </tbody>\n",
              "</table>\n"
            ],
            "text/plain": [
              "StatisticalDimension(0.4000000000000057, SymmetricBilateral(0.24045550969249171), 1, stacks on stacks, MRSS Analysis (assuming inputs with Normal Distribution & ± 3σ), 3.7669270447909926, 0, Normal)"
            ]
          },
          "metadata": {},
          "output_type": "display_data"
        },
        {
          "name": "stderr",
          "output_type": "stream",
          "text": [
            "WARNING:root:Converting BasicDimension (5: f Bearing Sleeve +20 ± 0.026) to StatisticalDimension\n"
          ]
        },
        {
          "data": {
            "text/html": [
              "<style type=\"text/css\">\n",
              "</style>\n",
              "<table id=\"T_8c00f\">\n",
              "  <caption>Dimension: stacks on stacks - '6 Sigma' Analysis (assuming inputs with Normal Distribution)</caption>\n",
              "  <thead>\n",
              "    <tr>\n",
              "      <th id=\"T_8c00f_level0_col0\" class=\"col_heading level0 col0\" >ID</th>\n",
              "      <th id=\"T_8c00f_level0_col1\" class=\"col_heading level0 col1\" >Name</th>\n",
              "      <th id=\"T_8c00f_level0_col2\" class=\"col_heading level0 col2\" >Description</th>\n",
              "      <th id=\"T_8c00f_level0_col3\" class=\"col_heading level0 col3\" >dir</th>\n",
              "      <th id=\"T_8c00f_level0_col4\" class=\"col_heading level0 col4\" >Nom.</th>\n",
              "      <th id=\"T_8c00f_level0_col5\" class=\"col_heading level0 col5\" >Tol.</th>\n",
              "      <th id=\"T_8c00f_level0_col6\" class=\"col_heading level0 col6\" >Sen.</th>\n",
              "      <th id=\"T_8c00f_level0_col7\" class=\"col_heading level0 col7\" >Relative Bounds</th>\n",
              "      <th id=\"T_8c00f_level0_col8\" class=\"col_heading level0 col8\" >Distribution</th>\n",
              "      <th id=\"T_8c00f_level0_col9\" class=\"col_heading level0 col9\" >Process Sigma</th>\n",
              "      <th id=\"T_8c00f_level0_col10\" class=\"col_heading level0 col10\" >k</th>\n",
              "      <th id=\"T_8c00f_level0_col11\" class=\"col_heading level0 col11\" >C_p</th>\n",
              "      <th id=\"T_8c00f_level0_col12\" class=\"col_heading level0 col12\" >C_pk</th>\n",
              "      <th id=\"T_8c00f_level0_col13\" class=\"col_heading level0 col13\" >μ</th>\n",
              "      <th id=\"T_8c00f_level0_col14\" class=\"col_heading level0 col14\" >σ</th>\n",
              "      <th id=\"T_8c00f_level0_col15\" class=\"col_heading level0 col15\" >μ_eff</th>\n",
              "      <th id=\"T_8c00f_level0_col16\" class=\"col_heading level0 col16\" >σ_eff</th>\n",
              "      <th id=\"T_8c00f_level0_col17\" class=\"col_heading level0 col17\" >Yield Probability</th>\n",
              "      <th id=\"T_8c00f_level0_col18\" class=\"col_heading level0 col18\" >Reject PPM</th>\n",
              "    </tr>\n",
              "  </thead>\n",
              "  <tbody>\n",
              "    <tr>\n",
              "      <td id=\"T_8c00f_row0_col0\" class=\"data row0 col0\" >16</td>\n",
              "      <td id=\"T_8c00f_row0_col1\" class=\"data row0 col1\" >stacks on stacks</td>\n",
              "      <td id=\"T_8c00f_row0_col2\" class=\"data row0 col2\" >'6 Sigma' Analysis (assuming inputs with Normal Distribution)</td>\n",
              "      <td id=\"T_8c00f_row0_col3\" class=\"data row0 col3\" >+</td>\n",
              "      <td id=\"T_8c00f_row0_col4\" class=\"data row0 col4\" >0.4</td>\n",
              "      <td id=\"T_8c00f_row0_col5\" class=\"data row0 col5\" >± 0.26433     </td>\n",
              "      <td id=\"T_8c00f_row0_col6\" class=\"data row0 col6\" >1</td>\n",
              "      <td id=\"T_8c00f_row0_col7\" class=\"data row0 col7\" >[0.13567, 0.66433]</td>\n",
              "      <td id=\"T_8c00f_row0_col8\" class=\"data row0 col8\" >Normal</td>\n",
              "      <td id=\"T_8c00f_row0_col9\" class=\"data row0 col9\" >± 4.5σ</td>\n",
              "      <td id=\"T_8c00f_row0_col10\" class=\"data row0 col10\" >0</td>\n",
              "      <td id=\"T_8c00f_row0_col11\" class=\"data row0 col11\" >1.5</td>\n",
              "      <td id=\"T_8c00f_row0_col12\" class=\"data row0 col12\" >1.5</td>\n",
              "      <td id=\"T_8c00f_row0_col13\" class=\"data row0 col13\" >0.4</td>\n",
              "      <td id=\"T_8c00f_row0_col14\" class=\"data row0 col14\" >0.05874</td>\n",
              "      <td id=\"T_8c00f_row0_col15\" class=\"data row0 col15\" >0.4</td>\n",
              "      <td id=\"T_8c00f_row0_col16\" class=\"data row0 col16\" >0.05874</td>\n",
              "      <td id=\"T_8c00f_row0_col17\" class=\"data row0 col17\" >99.99932047</td>\n",
              "      <td id=\"T_8c00f_row0_col18\" class=\"data row0 col18\" >6.8</td>\n",
              "    </tr>\n",
              "  </tbody>\n",
              "</table>\n"
            ],
            "text/plain": [
              "StatisticalDimension(0.4000000000000057, SymmetricBilateral(0.2643279213401274), 1, stacks on stacks, '6 Sigma' Analysis (assuming inputs with Normal Distribution), 4.5, 0, Normal)"
            ]
          },
          "metadata": {},
          "output_type": "display_data"
        }
      ],
      "source": [
        "display(stack.Closed)\n",
        "display(stack.WC)\n",
        "display(stack.RSS)\n",
        "display(stack.MRSS)\n",
        "display(stack.SixSigma(at=4.5))"
      ]
    },
    {
      "cell_type": "code",
      "execution_count": 4,
      "metadata": {},
      "outputs": [
        {
          "name": "stderr",
          "output_type": "stream",
          "text": [
            "WARNING:root:Converting BasicDimension (5: f Bearing Sleeve +20 ± 0.026) to StatisticalDimension\n"
          ]
        },
        {
          "data": {
            "text/html": [
              "<style type=\"text/css\">\n",
              "</style>\n",
              "<table id=\"T_9471a\">\n",
              "  <caption>Spec: stack spec</caption>\n",
              "  <thead>\n",
              "    <tr>\n",
              "      <th id=\"T_9471a_level0_col0\" class=\"col_heading level0 col0\" >Name</th>\n",
              "      <th id=\"T_9471a_level0_col1\" class=\"col_heading level0 col1\" >Description</th>\n",
              "      <th id=\"T_9471a_level0_col2\" class=\"col_heading level0 col2\" >Dimension</th>\n",
              "      <th id=\"T_9471a_level0_col3\" class=\"col_heading level0 col3\" >Spec. Limits</th>\n",
              "      <th id=\"T_9471a_level0_col4\" class=\"col_heading level0 col4\" >Median</th>\n",
              "      <th id=\"T_9471a_level0_col5\" class=\"col_heading level0 col5\" >k</th>\n",
              "      <th id=\"T_9471a_level0_col6\" class=\"col_heading level0 col6\" >C_p</th>\n",
              "      <th id=\"T_9471a_level0_col7\" class=\"col_heading level0 col7\" >C_pk</th>\n",
              "      <th id=\"T_9471a_level0_col8\" class=\"col_heading level0 col8\" >Yield Probability</th>\n",
              "      <th id=\"T_9471a_level0_col9\" class=\"col_heading level0 col9\" >Reject PPM</th>\n",
              "    </tr>\n",
              "  </thead>\n",
              "  <tbody>\n",
              "    <tr>\n",
              "      <td id=\"T_9471a_row0_col0\" class=\"data row0 col0\" >stack spec</td>\n",
              "      <td id=\"T_9471a_row0_col1\" class=\"data row0 col1\" ></td>\n",
              "      <td id=\"T_9471a_row0_col2\" class=\"data row0 col2\" >18: stacks on stacks '6 Sigma' Analysis (assuming inputs with Normal Distribution) +0.4 ± 0.26433 @ ± 4.5σ & k=0</td>\n",
              "      <td id=\"T_9471a_row0_col3\" class=\"data row0 col3\" >[0.05, 0.8]</td>\n",
              "      <td id=\"T_9471a_row0_col4\" class=\"data row0 col4\" >0.425</td>\n",
              "      <td id=\"T_9471a_row0_col5\" class=\"data row0 col5\" >0.06667</td>\n",
              "      <td id=\"T_9471a_row0_col6\" class=\"data row0 col6\" >2.12804</td>\n",
              "      <td id=\"T_9471a_row0_col7\" class=\"data row0 col7\" >1.98617</td>\n",
              "      <td id=\"T_9471a_row0_col8\" class=\"data row0 col8\" >100</td>\n",
              "      <td id=\"T_9471a_row0_col9\" class=\"data row0 col9\" >0</td>\n",
              "    </tr>\n",
              "  </tbody>\n",
              "</table>\n"
            ],
            "text/plain": [
              "Spec(stack spec, , StatisticalDimension(0.4000000000000057, SymmetricBilateral(0.2643279213401274), 1, stacks on stacks, '6 Sigma' Analysis (assuming inputs with Normal Distribution), 4.5, 0, Normal), 0.05, 0.8)"
            ]
          },
          "execution_count": 4,
          "metadata": {},
          "output_type": "execute_result"
        }
      ],
      "source": [
        "spec = ds.Spec(\"stack spec\", \"\", dim=stack.SixSigma(at=4.5), LL=0.05, UL=0.8)\n",
        "spec"
      ]
    }
  ],
  "metadata": {
    "kernelspec": {
      "display_name": ".venv",
      "language": "python",
      "name": "python3"
    },
    "language_info": {
      "codemirror_mode": {
        "name": "ipython",
        "version": 3
      },
      "file_extension": ".py",
      "mimetype": "text/x-python",
      "name": "python",
      "nbconvert_exporter": "python",
      "pygments_lexer": "ipython3",
      "version": "3.8.3"
    },
    "orig_nbformat": 4,
    "vscode": {
      "interpreter": {
        "hash": "5bfb56689b638d8d30b38bea412290d873fd42bedb5432d9308bdce226930289"
      }
    }
  },
  "nbformat": 4,
  "nbformat_minor": 2
}
