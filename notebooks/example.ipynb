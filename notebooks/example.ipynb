{
  "cells": [
    {
      "cell_type": "code",
      "execution_count": 2,
      "metadata": {},
      "outputs": [],
      "source": [
        "import dimstack\n",
        "import importlib\n",
        "\n",
        "SymmetricBilateral = dimstack.tolerance.SymmetricBilateral\n",
        "UnequalBilateral = dimstack.tolerance.UnequalBilateral"
      ]
    },
    {
      "cell_type": "code",
      "execution_count": 15,
      "metadata": {},
      "outputs": [
        {
          "name": "stdout",
          "output_type": "stream",
          "text": [
            "[{'ID': 0, 'Name': 'a', 'Description': 'Shaft', 'dir': '+', 'Nom.': 208, 'Tol.': '± 0.036       ', 'Sen.': '1', 'Relative Bounds': '[207.964, 208.036]', 'Process Sigma': '± 6σ', 'k': 0.25, 'C_p': 2.0, 'C_pk': 1.5, 'μ': 208.0, 'σ': 0.006, 'μ_eff': 208.0, 'σ_eff': 0.008, 'Yield Probability': '99.9999998', 'Reject PPM': '0.0'}, {'ID': 1, 'Name': 'b', 'Description': 'Retainer ring', 'dir': '-', 'Nom.': 1.75, 'Tol.': '+ 0 / - 0.06  ', 'Sen.': '1', 'Relative Bounds': '[1.69, 1.75]', 'Process Sigma': '± 3σ', 'k': 0, 'C_p': 1.0, 'C_pk': 1.0, 'μ': 1.72, 'σ': 0.01, 'μ_eff': 1.72, 'σ_eff': 0.01, 'Yield Probability': '99.73002039', 'Reject PPM': '2699.8'}, {'ID': 2, 'Name': 'c', 'Description': 'Bearing', 'dir': '-', 'Nom.': 23, 'Tol.': '+ 0 / - 0.12  ', 'Sen.': '1', 'Relative Bounds': '[22.88, 23]', 'Process Sigma': '± 3σ', 'k': 0, 'C_p': 1.0, 'C_pk': 1.0, 'μ': 22.94, 'σ': 0.02, 'μ_eff': 22.94, 'σ_eff': 0.02, 'Yield Probability': '99.73002039', 'Reject PPM': '2699.8'}, {'ID': 3, 'Name': 'd', 'Description': 'Bearing Sleeve', 'dir': '+', 'Nom.': 20, 'Tol.': '± 0.026       ', 'Sen.': '1', 'Relative Bounds': '[19.974, 20.026]', 'Process Sigma': '± 3σ', 'k': 0, 'C_p': 1.0, 'C_pk': 1.0, 'μ': 20.0, 'σ': 0.00867, 'μ_eff': 20.0, 'σ_eff': 0.00867, 'Yield Probability': '99.73002039', 'Reject PPM': '2699.8'}, {'ID': 4, 'Name': 'e', 'Description': 'Case', 'dir': '-', 'Nom.': 200, 'Tol.': '± 0.145       ', 'Sen.': '1', 'Relative Bounds': '[199.855, 200.145]', 'Process Sigma': '± 3σ', 'k': 0, 'C_p': 1.0, 'C_pk': 1.0, 'μ': 200.0, 'σ': 0.04833, 'μ_eff': 200.0, 'σ_eff': 0.04833, 'Yield Probability': '99.73002039', 'Reject PPM': '2699.8'}, {'ID': 5, 'Name': 'f', 'Description': 'Bearing Sleeve', 'dir': '+', 'Nom.': 20, 'Tol.': '± 0.026       ', 'Sen.': '1', 'Relative Bounds': '[19.974, 20.026]', 'Process Sigma': '', 'k': '', 'C_p': '', 'C_pk': '', 'μ': 20.0, 'σ': '', 'μ_eff': '', 'σ_eff': '', 'Yield Probability': '', 'Reject PPM': ''}, {'ID': 6, 'Name': 'g', 'Description': 'Bearing', 'dir': '-', 'Nom.': 23, 'Tol.': '+ 0 / - 0.12  ', 'Sen.': '1', 'Relative Bounds': '[22.88, 23]', 'Process Sigma': '± 3σ', 'k': 0, 'C_p': 1.0, 'C_pk': 1.0, 'μ': 22.94, 'σ': 0.02, 'μ_eff': 22.94, 'σ_eff': 0.02, 'Yield Probability': '99.73002039', 'Reject PPM': '2699.8'}]\n",
            "None\n"
          ]
        },
        {
          "data": {
            "text/plain": [
              "None"
            ]
          },
          "metadata": {},
          "output_type": "display_data"
        }
      ],
      "source": [
        "importlib.reload(dimstack.eval)\n",
        "importlib.reload(dimstack.stats)\n",
        "importlib.reload(dimstack.display)\n",
        "importlib.reload(dimstack.tolerance)\n",
        "importlib.reload(dimstack.utils)\n",
        "\n",
        "dimstack.display.display_mode(\"df\")\n",
        "\n",
        "m1 = dimstack.eval.StatisticalDimension(\n",
        "    nom=208,\n",
        "    tol=SymmetricBilateral(0.036),\n",
        "    process_sigma=6,\n",
        "    k=0.25,\n",
        "    name=\"a\",\n",
        "    desc=\"Shaft\",\n",
        ")\n",
        "m2 = dimstack.eval.StatisticalDimension(\n",
        "    nom=-1.75,\n",
        "    tol=UnequalBilateral(0, 0.06),\n",
        "    process_sigma=3,\n",
        "    name=\"b\",\n",
        "    desc=\"Retainer ring\",\n",
        ")\n",
        "m3 = dimstack.eval.StatisticalDimension(nom=-23, tol=UnequalBilateral(0, 0.12), process_sigma=3, name=\"c\", desc=\"Bearing\")\n",
        "m4 = dimstack.eval.StatisticalDimension(\n",
        "    nom=20,\n",
        "    tol=SymmetricBilateral(0.026),\n",
        "    process_sigma=3,\n",
        "    name=\"d\",\n",
        "    desc=\"Bearing Sleeve\",\n",
        ")\n",
        "m5 = dimstack.eval.StatisticalDimension(nom=-200, tol=SymmetricBilateral(0.145), process_sigma=3, name=\"e\", desc=\"Case\")\n",
        "m6 = dimstack.eval.BasicDimension(\n",
        "    nom=20,\n",
        "    tol=SymmetricBilateral(0.026),\n",
        "    # process_sigma=3,\n",
        "    name=\"f\",\n",
        "    desc=\"Bearing Sleeve\",\n",
        ")\n",
        "m7 = dimstack.eval.StatisticalDimension(nom=-23, tol=UnequalBilateral(0, 0.12), process_sigma=3, name=\"g\", desc=\"Bearing\")\n",
        "items = [m1, m2, m3, m4, m5, m6, m7]\n",
        "\n",
        "stack = dimstack.eval.Stack(title=\"stacks on stacks\", items=items)\n",
        "# stack.show()\n",
        "res = stack.show()\n",
        "print(res)\n",
        "type(res)\n",
        "display(res)"
      ]
    },
    {
      "cell_type": "code",
      "execution_count": 22,
      "metadata": {},
      "outputs": [
        {
          "name": "stdout",
          "output_type": "stream",
          "text": [
            "df\n"
          ]
        }
      ],
      "source": [
        "stack.show()\n",
        "# print(stack.show())\n",
        "# display(stack.show())"
      ]
    },
    {
      "cell_type": "code",
      "execution_count": null,
      "metadata": {},
      "outputs": [],
      "source": [
        "# spec = dimstack.eval.Spec(\"stack spec\", \"\", dim=stack.SixSigma(at=4.5), LL=0.05, UL=0.8)\n",
        "# spec.show()\n",
        "\n",
        "\n",
        "# stack.show_length_chart()"
      ]
    },
    {
      "cell_type": "code",
      "execution_count": 32,
      "metadata": {},
      "outputs": [
        {
          "data": {
            "text/html": [
              "<div>\n",
              "<style scoped>\n",
              "    .dataframe tbody tr th:only-of-type {\n",
              "        vertical-align: middle;\n",
              "    }\n",
              "\n",
              "    .dataframe tbody tr th {\n",
              "        vertical-align: top;\n",
              "    }\n",
              "\n",
              "    .dataframe thead th {\n",
              "        text-align: right;\n",
              "    }\n",
              "</style>\n",
              "<table border=\"1\" class=\"dataframe\">\n",
              "  <thead>\n",
              "    <tr style=\"text-align: right;\">\n",
              "      <th></th>\n",
              "      <th>a</th>\n",
              "      <th>b</th>\n",
              "      <th>c</th>\n",
              "    </tr>\n",
              "  </thead>\n",
              "  <tbody>\n",
              "    <tr>\n",
              "      <th>0</th>\n",
              "      <td>1</td>\n",
              "      <td>2</td>\n",
              "      <td>3</td>\n",
              "    </tr>\n",
              "    <tr>\n",
              "      <th>1</th>\n",
              "      <td>4</td>\n",
              "      <td>5</td>\n",
              "      <td>6</td>\n",
              "    </tr>\n",
              "  </tbody>\n",
              "</table>\n",
              "</div>"
            ],
            "text/plain": [
              "   a  b  c\n",
              "0  1  2  3\n",
              "1  4  5  6"
            ]
          },
          "execution_count": 32,
          "metadata": {},
          "output_type": "execute_result"
        }
      ],
      "source": [
        "# example panda df\n",
        "import pandas as pd\n",
        "df = pd.DataFrame([[1, 2, 3], [4, 5, 6]], columns=[\"a\", \"b\", \"c\"])\n",
        "df"
      ]
    },
    {
      "cell_type": "code",
      "execution_count": null,
      "metadata": {},
      "outputs": [],
      "source": []
    }
  ],
  "metadata": {
    "kernelspec": {
      "display_name": ".venv",
      "language": "python",
      "name": "python3"
    },
    "language_info": {
      "codemirror_mode": {
        "name": "ipython",
        "version": 3
      },
      "file_extension": ".py",
      "mimetype": "text/x-python",
      "name": "python",
      "nbconvert_exporter": "python",
      "pygments_lexer": "ipython3",
      "version": "3.8.3"
    },
    "orig_nbformat": 4,
    "vscode": {
      "interpreter": {
        "hash": "5bfb56689b638d8d30b38bea412290d873fd42bedb5432d9308bdce226930289"
      }
    }
  },
  "nbformat": 4,
  "nbformat_minor": 2
}
