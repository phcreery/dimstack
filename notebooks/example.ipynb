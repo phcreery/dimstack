{
  "cells": [
    {
      "cell_type": "code",
      "execution_count": 3,
      "metadata": {},
      "outputs": [
        {
          "name": "stdout",
          "output_type": "stream",
          "text": [
            "Note: you may need to restart the kernel to use updated packages.\n"
          ]
        },
        {
          "name": "stderr",
          "output_type": "stream",
          "text": [
            "c:\\Users\\phcre\\Documents\\Python\\dimstack\\.venv\\Scripts\\python.exe: No module named pip\n"
          ]
        }
      ],
      "source": [
        "%pip install -q dimstack"
      ]
    },
    {
      "cell_type": "code",
      "execution_count": 1,
      "metadata": {},
      "outputs": [
        {
          "data": {
            "text/html": [
              "<style type=\"text/css\">\n",
              "</style>\n",
              "<table id=\"T_76913\">\n",
              "  <caption>Stack: stacks on stacks</caption>\n",
              "  <thead>\n",
              "    <tr>\n",
              "      <th id=\"T_76913_level0_col0\" class=\"col_heading level0 col0\" >ID</th>\n",
              "      <th id=\"T_76913_level0_col1\" class=\"col_heading level0 col1\" >Name</th>\n",
              "      <th id=\"T_76913_level0_col2\" class=\"col_heading level0 col2\" >Description</th>\n",
              "      <th id=\"T_76913_level0_col3\" class=\"col_heading level0 col3\" >dir</th>\n",
              "      <th id=\"T_76913_level0_col4\" class=\"col_heading level0 col4\" >Nom.</th>\n",
              "      <th id=\"T_76913_level0_col5\" class=\"col_heading level0 col5\" >Tol.</th>\n",
              "      <th id=\"T_76913_level0_col6\" class=\"col_heading level0 col6\" >Sen.</th>\n",
              "      <th id=\"T_76913_level0_col7\" class=\"col_heading level0 col7\" >Relative Bounds</th>\n",
              "      <th id=\"T_76913_level0_col8\" class=\"col_heading level0 col8\" >Dist.</th>\n",
              "      <th id=\"T_76913_level0_col9\" class=\"col_heading level0 col9\" >Process Sigma</th>\n",
              "      <th id=\"T_76913_level0_col10\" class=\"col_heading level0 col10\" >k</th>\n",
              "      <th id=\"T_76913_level0_col11\" class=\"col_heading level0 col11\" >C_p</th>\n",
              "      <th id=\"T_76913_level0_col12\" class=\"col_heading level0 col12\" >C_pk</th>\n",
              "      <th id=\"T_76913_level0_col13\" class=\"col_heading level0 col13\" >μ</th>\n",
              "      <th id=\"T_76913_level0_col14\" class=\"col_heading level0 col14\" >σ</th>\n",
              "      <th id=\"T_76913_level0_col15\" class=\"col_heading level0 col15\" >μ_eff</th>\n",
              "      <th id=\"T_76913_level0_col16\" class=\"col_heading level0 col16\" >σ_eff</th>\n",
              "      <th id=\"T_76913_level0_col17\" class=\"col_heading level0 col17\" >Yield Probability</th>\n",
              "      <th id=\"T_76913_level0_col18\" class=\"col_heading level0 col18\" >Reject PPM</th>\n",
              "    </tr>\n",
              "  </thead>\n",
              "  <tbody>\n",
              "    <tr>\n",
              "      <td id=\"T_76913_row0_col0\" class=\"data row0 col0\" >0</td>\n",
              "      <td id=\"T_76913_row0_col1\" class=\"data row0 col1\" >a</td>\n",
              "      <td id=\"T_76913_row0_col2\" class=\"data row0 col2\" >Shaft</td>\n",
              "      <td id=\"T_76913_row0_col3\" class=\"data row0 col3\" >+</td>\n",
              "      <td id=\"T_76913_row0_col4\" class=\"data row0 col4\" >208.0</td>\n",
              "      <td id=\"T_76913_row0_col5\" class=\"data row0 col5\" >± 0.036       </td>\n",
              "      <td id=\"T_76913_row0_col6\" class=\"data row0 col6\" >1</td>\n",
              "      <td id=\"T_76913_row0_col7\" class=\"data row0 col7\" >[207.964, 208.036]</td>\n",
              "      <td id=\"T_76913_row0_col8\" class=\"data row0 col8\" >Normal</td>\n",
              "      <td id=\"T_76913_row0_col9\" class=\"data row0 col9\" >± 6σ</td>\n",
              "      <td id=\"T_76913_row0_col10\" class=\"data row0 col10\" >0.25</td>\n",
              "      <td id=\"T_76913_row0_col11\" class=\"data row0 col11\" >2.0</td>\n",
              "      <td id=\"T_76913_row0_col12\" class=\"data row0 col12\" >1.5</td>\n",
              "      <td id=\"T_76913_row0_col13\" class=\"data row0 col13\" >208.009</td>\n",
              "      <td id=\"T_76913_row0_col14\" class=\"data row0 col14\" >0.006</td>\n",
              "      <td id=\"T_76913_row0_col15\" class=\"data row0 col15\" >208.0</td>\n",
              "      <td id=\"T_76913_row0_col16\" class=\"data row0 col16\" >0.008</td>\n",
              "      <td id=\"T_76913_row0_col17\" class=\"data row0 col17\" >99.99932047</td>\n",
              "      <td id=\"T_76913_row0_col18\" class=\"data row0 col18\" >6.8</td>\n",
              "    </tr>\n",
              "    <tr>\n",
              "      <td id=\"T_76913_row1_col0\" class=\"data row1 col0\" >1</td>\n",
              "      <td id=\"T_76913_row1_col1\" class=\"data row1 col1\" >b</td>\n",
              "      <td id=\"T_76913_row1_col2\" class=\"data row1 col2\" >Retainer ring</td>\n",
              "      <td id=\"T_76913_row1_col3\" class=\"data row1 col3\" >-</td>\n",
              "      <td id=\"T_76913_row1_col4\" class=\"data row1 col4\" >1.75</td>\n",
              "      <td id=\"T_76913_row1_col5\" class=\"data row1 col5\" >+ 0 / - 0.06  </td>\n",
              "      <td id=\"T_76913_row1_col6\" class=\"data row1 col6\" >1</td>\n",
              "      <td id=\"T_76913_row1_col7\" class=\"data row1 col7\" >[1.69, 1.75]</td>\n",
              "      <td id=\"T_76913_row1_col8\" class=\"data row1 col8\" >Normal</td>\n",
              "      <td id=\"T_76913_row1_col9\" class=\"data row1 col9\" >± 3σ</td>\n",
              "      <td id=\"T_76913_row1_col10\" class=\"data row1 col10\" >0</td>\n",
              "      <td id=\"T_76913_row1_col11\" class=\"data row1 col11\" >1.0</td>\n",
              "      <td id=\"T_76913_row1_col12\" class=\"data row1 col12\" >1.0</td>\n",
              "      <td id=\"T_76913_row1_col13\" class=\"data row1 col13\" >1.72</td>\n",
              "      <td id=\"T_76913_row1_col14\" class=\"data row1 col14\" >0.01</td>\n",
              "      <td id=\"T_76913_row1_col15\" class=\"data row1 col15\" >1.72</td>\n",
              "      <td id=\"T_76913_row1_col16\" class=\"data row1 col16\" >0.01</td>\n",
              "      <td id=\"T_76913_row1_col17\" class=\"data row1 col17\" >99.73002039</td>\n",
              "      <td id=\"T_76913_row1_col18\" class=\"data row1 col18\" >2699.8</td>\n",
              "    </tr>\n",
              "    <tr>\n",
              "      <td id=\"T_76913_row2_col0\" class=\"data row2 col0\" >2</td>\n",
              "      <td id=\"T_76913_row2_col1\" class=\"data row2 col1\" >c</td>\n",
              "      <td id=\"T_76913_row2_col2\" class=\"data row2 col2\" >Bearing</td>\n",
              "      <td id=\"T_76913_row2_col3\" class=\"data row2 col3\" >-</td>\n",
              "      <td id=\"T_76913_row2_col4\" class=\"data row2 col4\" >23.0</td>\n",
              "      <td id=\"T_76913_row2_col5\" class=\"data row2 col5\" >+ 0 / - 0.12  </td>\n",
              "      <td id=\"T_76913_row2_col6\" class=\"data row2 col6\" >1</td>\n",
              "      <td id=\"T_76913_row2_col7\" class=\"data row2 col7\" >[22.88, 23]</td>\n",
              "      <td id=\"T_76913_row2_col8\" class=\"data row2 col8\" >Normal</td>\n",
              "      <td id=\"T_76913_row2_col9\" class=\"data row2 col9\" >± 3σ</td>\n",
              "      <td id=\"T_76913_row2_col10\" class=\"data row2 col10\" >0</td>\n",
              "      <td id=\"T_76913_row2_col11\" class=\"data row2 col11\" >1.0</td>\n",
              "      <td id=\"T_76913_row2_col12\" class=\"data row2 col12\" >1.0</td>\n",
              "      <td id=\"T_76913_row2_col13\" class=\"data row2 col13\" >22.94</td>\n",
              "      <td id=\"T_76913_row2_col14\" class=\"data row2 col14\" >0.02</td>\n",
              "      <td id=\"T_76913_row2_col15\" class=\"data row2 col15\" >22.94</td>\n",
              "      <td id=\"T_76913_row2_col16\" class=\"data row2 col16\" >0.02</td>\n",
              "      <td id=\"T_76913_row2_col17\" class=\"data row2 col17\" >99.73002039</td>\n",
              "      <td id=\"T_76913_row2_col18\" class=\"data row2 col18\" >2699.8</td>\n",
              "    </tr>\n",
              "    <tr>\n",
              "      <td id=\"T_76913_row3_col0\" class=\"data row3 col0\" >3</td>\n",
              "      <td id=\"T_76913_row3_col1\" class=\"data row3 col1\" >d</td>\n",
              "      <td id=\"T_76913_row3_col2\" class=\"data row3 col2\" >Bearing Sleeve</td>\n",
              "      <td id=\"T_76913_row3_col3\" class=\"data row3 col3\" >+</td>\n",
              "      <td id=\"T_76913_row3_col4\" class=\"data row3 col4\" >20.0</td>\n",
              "      <td id=\"T_76913_row3_col5\" class=\"data row3 col5\" >± 0.026       </td>\n",
              "      <td id=\"T_76913_row3_col6\" class=\"data row3 col6\" >1</td>\n",
              "      <td id=\"T_76913_row3_col7\" class=\"data row3 col7\" >[19.974, 20.026]</td>\n",
              "      <td id=\"T_76913_row3_col8\" class=\"data row3 col8\" >Normal</td>\n",
              "      <td id=\"T_76913_row3_col9\" class=\"data row3 col9\" >± 3σ</td>\n",
              "      <td id=\"T_76913_row3_col10\" class=\"data row3 col10\" >0</td>\n",
              "      <td id=\"T_76913_row3_col11\" class=\"data row3 col11\" >1.0</td>\n",
              "      <td id=\"T_76913_row3_col12\" class=\"data row3 col12\" >1.0</td>\n",
              "      <td id=\"T_76913_row3_col13\" class=\"data row3 col13\" >20.0</td>\n",
              "      <td id=\"T_76913_row3_col14\" class=\"data row3 col14\" >0.00867</td>\n",
              "      <td id=\"T_76913_row3_col15\" class=\"data row3 col15\" >20.0</td>\n",
              "      <td id=\"T_76913_row3_col16\" class=\"data row3 col16\" >0.00867</td>\n",
              "      <td id=\"T_76913_row3_col17\" class=\"data row3 col17\" >99.73002039</td>\n",
              "      <td id=\"T_76913_row3_col18\" class=\"data row3 col18\" >2699.8</td>\n",
              "    </tr>\n",
              "    <tr>\n",
              "      <td id=\"T_76913_row4_col0\" class=\"data row4 col0\" >4</td>\n",
              "      <td id=\"T_76913_row4_col1\" class=\"data row4 col1\" >e</td>\n",
              "      <td id=\"T_76913_row4_col2\" class=\"data row4 col2\" >Case</td>\n",
              "      <td id=\"T_76913_row4_col3\" class=\"data row4 col3\" >-</td>\n",
              "      <td id=\"T_76913_row4_col4\" class=\"data row4 col4\" >200.0</td>\n",
              "      <td id=\"T_76913_row4_col5\" class=\"data row4 col5\" >± 0.145       </td>\n",
              "      <td id=\"T_76913_row4_col6\" class=\"data row4 col6\" >1</td>\n",
              "      <td id=\"T_76913_row4_col7\" class=\"data row4 col7\" >[199.855, 200.145]</td>\n",
              "      <td id=\"T_76913_row4_col8\" class=\"data row4 col8\" >Normal</td>\n",
              "      <td id=\"T_76913_row4_col9\" class=\"data row4 col9\" >± 3σ</td>\n",
              "      <td id=\"T_76913_row4_col10\" class=\"data row4 col10\" >0</td>\n",
              "      <td id=\"T_76913_row4_col11\" class=\"data row4 col11\" >1.0</td>\n",
              "      <td id=\"T_76913_row4_col12\" class=\"data row4 col12\" >1.0</td>\n",
              "      <td id=\"T_76913_row4_col13\" class=\"data row4 col13\" >200.0</td>\n",
              "      <td id=\"T_76913_row4_col14\" class=\"data row4 col14\" >0.04833</td>\n",
              "      <td id=\"T_76913_row4_col15\" class=\"data row4 col15\" >200.0</td>\n",
              "      <td id=\"T_76913_row4_col16\" class=\"data row4 col16\" >0.04833</td>\n",
              "      <td id=\"T_76913_row4_col17\" class=\"data row4 col17\" >99.73002039</td>\n",
              "      <td id=\"T_76913_row4_col18\" class=\"data row4 col18\" >2699.8</td>\n",
              "    </tr>\n",
              "    <tr>\n",
              "      <td id=\"T_76913_row5_col0\" class=\"data row5 col0\" >5</td>\n",
              "      <td id=\"T_76913_row5_col1\" class=\"data row5 col1\" >f</td>\n",
              "      <td id=\"T_76913_row5_col2\" class=\"data row5 col2\" >Bearing Sleeve</td>\n",
              "      <td id=\"T_76913_row5_col3\" class=\"data row5 col3\" >+</td>\n",
              "      <td id=\"T_76913_row5_col4\" class=\"data row5 col4\" >20.0</td>\n",
              "      <td id=\"T_76913_row5_col5\" class=\"data row5 col5\" >± 0.026       </td>\n",
              "      <td id=\"T_76913_row5_col6\" class=\"data row5 col6\" >1</td>\n",
              "      <td id=\"T_76913_row5_col7\" class=\"data row5 col7\" >[19.974, 20.026]</td>\n",
              "      <td id=\"T_76913_row5_col8\" class=\"data row5 col8\" >Uniform</td>\n",
              "      <td id=\"T_76913_row5_col9\" class=\"data row5 col9\" ></td>\n",
              "      <td id=\"T_76913_row5_col10\" class=\"data row5 col10\" ></td>\n",
              "      <td id=\"T_76913_row5_col11\" class=\"data row5 col11\" ></td>\n",
              "      <td id=\"T_76913_row5_col12\" class=\"data row5 col12\" ></td>\n",
              "      <td id=\"T_76913_row5_col13\" class=\"data row5 col13\" ></td>\n",
              "      <td id=\"T_76913_row5_col14\" class=\"data row5 col14\" ></td>\n",
              "      <td id=\"T_76913_row5_col15\" class=\"data row5 col15\" ></td>\n",
              "      <td id=\"T_76913_row5_col16\" class=\"data row5 col16\" ></td>\n",
              "      <td id=\"T_76913_row5_col17\" class=\"data row5 col17\" ></td>\n",
              "      <td id=\"T_76913_row5_col18\" class=\"data row5 col18\" ></td>\n",
              "    </tr>\n",
              "    <tr>\n",
              "      <td id=\"T_76913_row6_col0\" class=\"data row6 col0\" >6</td>\n",
              "      <td id=\"T_76913_row6_col1\" class=\"data row6 col1\" >g</td>\n",
              "      <td id=\"T_76913_row6_col2\" class=\"data row6 col2\" >Bearing</td>\n",
              "      <td id=\"T_76913_row6_col3\" class=\"data row6 col3\" >-</td>\n",
              "      <td id=\"T_76913_row6_col4\" class=\"data row6 col4\" >23.0</td>\n",
              "      <td id=\"T_76913_row6_col5\" class=\"data row6 col5\" >+ 0 / - 0.12  </td>\n",
              "      <td id=\"T_76913_row6_col6\" class=\"data row6 col6\" >1</td>\n",
              "      <td id=\"T_76913_row6_col7\" class=\"data row6 col7\" >[22.88, 23]</td>\n",
              "      <td id=\"T_76913_row6_col8\" class=\"data row6 col8\" >Normal</td>\n",
              "      <td id=\"T_76913_row6_col9\" class=\"data row6 col9\" >± 3σ</td>\n",
              "      <td id=\"T_76913_row6_col10\" class=\"data row6 col10\" >0</td>\n",
              "      <td id=\"T_76913_row6_col11\" class=\"data row6 col11\" >1.0</td>\n",
              "      <td id=\"T_76913_row6_col12\" class=\"data row6 col12\" >1.0</td>\n",
              "      <td id=\"T_76913_row6_col13\" class=\"data row6 col13\" >22.94</td>\n",
              "      <td id=\"T_76913_row6_col14\" class=\"data row6 col14\" >0.02</td>\n",
              "      <td id=\"T_76913_row6_col15\" class=\"data row6 col15\" >22.94</td>\n",
              "      <td id=\"T_76913_row6_col16\" class=\"data row6 col16\" >0.02</td>\n",
              "      <td id=\"T_76913_row6_col17\" class=\"data row6 col17\" >99.73002039</td>\n",
              "      <td id=\"T_76913_row6_col18\" class=\"data row6 col18\" >2699.8</td>\n",
              "    </tr>\n",
              "  </tbody>\n",
              "</table>\n"
            ],
            "text/plain": [
              "stacks on stacks: [0: a Shaft +208 ± 0.036 @ ± 6σ & k=0.25, 1: b Retainer ring -1.75 + 0 / - 0.06 @ ± 3σ & k=0, 2: c Bearing -23 + 0 / - 0.12 @ ± 3σ & k=0, 3: d Bearing Sleeve +20 ± 0.026 @ ± 3σ & k=0, 4: e Case -200 ± 0.145 @ ± 3σ & k=0, 5: f Bearing Sleeve +20 ± 0.026, 6: g Bearing -23 + 0 / - 0.12 @ ± 3σ & k=0]"
            ]
          },
          "execution_count": 1,
          "metadata": {},
          "output_type": "execute_result"
        }
      ],
      "source": [
        "import dimstack as ds\n",
        "ds.display.mode(\"df\")\n",
        "\n",
        "m1 = ds.StatisticalDimension(\n",
        "    nom=208,\n",
        "    tol=ds.tol.SymmetricBilateral(0.036),\n",
        "    process_sigma=6,\n",
        "    k=0.25,\n",
        "    name=\"a\",\n",
        "    desc=\"Shaft\",\n",
        ")\n",
        "m2 = ds.StatisticalDimension(\n",
        "    nom=-1.75,\n",
        "    tol=ds.tol.UnequalBilateral(0, 0.06),\n",
        "    process_sigma=3,\n",
        "    name=\"b\",\n",
        "    desc=\"Retainer ring\",\n",
        ")\n",
        "m3 = ds.StatisticalDimension(nom=-23, tol=ds.tol.UnequalBilateral(0, 0.12), process_sigma=3, name=\"c\", desc=\"Bearing\")\n",
        "m4 = ds.StatisticalDimension(\n",
        "    nom=20,\n",
        "    tol=ds.tol.SymmetricBilateral(0.026),\n",
        "    process_sigma=3,\n",
        "    name=\"d\",\n",
        "    desc=\"Bearing Sleeve\",\n",
        ")\n",
        "m5 = ds.StatisticalDimension(nom=-200, tol=ds.tol.SymmetricBilateral(0.145), process_sigma=3, name=\"e\", desc=\"Case\")\n",
        "m6 = ds.BasicDimension(\n",
        "    nom=20,\n",
        "    tol=ds.tol.SymmetricBilateral(0.026),\n",
        "    # process_sigma=3,\n",
        "    name=\"f\",\n",
        "    desc=\"Bearing Sleeve\",\n",
        ")\n",
        "m7 = ds.StatisticalDimension(nom=-23, tol=ds.tol.UnequalBilateral(0, 0.12), process_sigma=3, name=\"g\", desc=\"Bearing\")\n",
        "items = [m1, m2, m3, m4, m5, m6, m7]\n",
        "\n",
        "stack = ds.Stack(title=\"stacks on stacks\", items=items)\n",
        "stack"
      ]
    },
    {
      "cell_type": "code",
      "execution_count": 2,
      "metadata": {},
      "outputs": [
        {
          "data": {
            "application/vnd.plotly.v1+json": {
              "config": {
                "plotlyServerURL": "https://plot.ly"
              },
              "data": [
                {
                  "legendgroup": "a",
                  "line": {
                    "color": "#636EFA",
                    "width": 2
                  },
                  "marker": {
                    "size": [
                      0,
                      10
                    ]
                  },
                  "mode": "lines+markers+text",
                  "name": "a",
                  "text": [
                    "",
                    "0: a Shaft +208 ± 0.036 @ ± 6σ & k=0.25"
                  ],
                  "textposition": "bottom center",
                  "type": "scatter",
                  "x": [
                    0,
                    208
                  ],
                  "y": [
                    "a",
                    "a"
                  ]
                },
                {
                  "legendgroup": "a",
                  "line": {
                    "color": "black"
                  },
                  "marker": {
                    "line": {
                      "color": "black",
                      "width": 2
                    },
                    "size": [
                      0,
                      10
                    ],
                    "symbol": "line-ns"
                  },
                  "mode": "lines+markers+text",
                  "name": "a Upper Tol",
                  "opacity": 0.5,
                  "type": "scatter",
                  "x": [
                    208,
                    207.964
                  ],
                  "y": [
                    "a",
                    "a"
                  ]
                },
                {
                  "legendgroup": "a",
                  "line": {
                    "color": "black"
                  },
                  "marker": {
                    "line": {
                      "color": "black",
                      "width": 2
                    },
                    "size": [
                      0,
                      10
                    ],
                    "symbol": "line-ns"
                  },
                  "mode": "lines+markers+text",
                  "name": "a Lower Tol",
                  "opacity": 0.5,
                  "type": "scatter",
                  "x": [
                    208,
                    208.036
                  ],
                  "y": [
                    "a",
                    "a"
                  ]
                },
                {
                  "legendgroup": "a",
                  "line": {
                    "color": "#636EFA",
                    "width": 1
                  },
                  "name": "a Distribution",
                  "type": "scatter",
                  "x": [
                    207.964,
                    207.965,
                    207.966,
                    207.967,
                    207.96800000000002,
                    207.96900000000002,
                    207.97000000000003,
                    207.97100000000003,
                    207.97200000000004,
                    207.97300000000004,
                    207.97400000000005,
                    207.97500000000005,
                    207.97600000000006,
                    207.97700000000006,
                    207.97800000000007,
                    207.97900000000007,
                    207.98000000000008,
                    207.98100000000008,
                    207.98200000000008,
                    207.9830000000001,
                    207.9840000000001,
                    207.9850000000001,
                    207.9860000000001,
                    207.9870000000001,
                    207.9880000000001,
                    207.98900000000012,
                    207.99000000000012,
                    207.99100000000013,
                    207.99200000000013,
                    207.99300000000014,
                    207.99400000000014,
                    207.99500000000015,
                    207.99600000000015,
                    207.99700000000016,
                    207.99800000000016,
                    207.99900000000017,
                    208.00000000000017,
                    208.00100000000018,
                    208.00200000000018,
                    208.00300000000018,
                    208.0040000000002,
                    208.0050000000002,
                    208.0060000000002,
                    208.0070000000002,
                    208.0080000000002,
                    208.0090000000002,
                    208.01000000000022,
                    208.01100000000022,
                    208.01200000000023,
                    208.01300000000023,
                    208.01400000000024,
                    208.01500000000024,
                    208.01600000000025,
                    208.01700000000025,
                    208.01800000000026,
                    208.01900000000026,
                    208.02000000000027,
                    208.02100000000027,
                    208.02200000000028,
                    208.02300000000028,
                    208.02400000000029,
                    208.0250000000003,
                    208.0260000000003,
                    208.0270000000003,
                    208.0280000000003,
                    208.0290000000003,
                    208.0300000000003,
                    208.03100000000032,
                    208.03200000000032,
                    208.03300000000033,
                    208.03400000000033,
                    208.03500000000034,
                    208.03600000000034
                  ],
                  "xaxis": "x",
                  "y": [
                    0.00019979676383399404,
                    0.0003479254278622731,
                    0.0005964829567619104,
                    0.0010067556069425548,
                    0.001672877822061738,
                    0.0027366454720658415,
                    0.004407446029616945,
                    0.006988269027955698,
                    0.010908533688178535,
                    0.016763985918825688,
                    0.025363100716588125,
                    0.0377782254405525,
                    0.055398105150136906,
                    0.07997650388546132,
                    0.11366953127202588,
                    0.1590522699635309,
                    0.21910375617409508,
                    0.2971487603801845,
                    0.39674564795437106,
                    0.5215123157155761,
                    0.6748870814295902,
                    0.85982844785236,
                    1.078466485354599,
                    1.3317283516604184,
                    1.6189699458568767,
                    1.937653318266992,
                    2.28311356740585,
                    2.648458072243353,
                    3.0246340565393237,
                    3.400687479783241,
                    3.764217901986054,
                    4.102012106928099,
                    4.400816584597258,
                    4.648188673408401,
                    4.833351460062488,
                    4.947971086824934,
                    4.986778505020723,
                    4.947971086798566,
                    4.833351460010974,
                    4.648188673334089,
                    4.400816584503449,
                    4.1020121068187985,
                    3.7642179018656954,
                    3.4006874796563835,
                    3.024634056410376,
                    2.648458072116329,
                    2.2831135672841816,
                    1.9376533181534068,
                    1.6189699457533453,
                    1.3317283515681593,
                    1.078466485274138,
                    0.8598284477836288,
                    0.6748870813720459,
                    0.5215123156683301,
                    0.3967456479163139,
                    0.2971487603500975,
                    0.21910375615074268,
                    0.1590522699457313,
                    0.1136695312586993,
                    0.07997650387565873,
                    0.055398105143051615,
                    0.03777822543551943,
                    0.02536310071307392,
                    0.016763985916413603,
                    0.010908533686550828,
                    0.006988269026875709,
                    0.004407446028912318,
                    0.0027366454716137444,
                    0.0016728778217764617,
                    0.0010067556067655076,
                    0.0005964829566538347,
                    0.00034792542779737886,
                    0.00019979676379566373
                  ],
                  "yaxis": "y2"
                },
                {
                  "legendgroup": "b",
                  "line": {
                    "color": "#EF553B",
                    "width": 2
                  },
                  "marker": {
                    "size": [
                      0,
                      10
                    ]
                  },
                  "mode": "lines+markers+text",
                  "name": "b",
                  "text": [
                    "",
                    "1: b Retainer ring -1.75 + 0 / - 0.06 @ ± 3σ & k=0"
                  ],
                  "textposition": "bottom center",
                  "type": "scatter",
                  "x": [
                    208,
                    206.25
                  ],
                  "y": [
                    "b",
                    "b"
                  ]
                },
                {
                  "legendgroup": "b",
                  "line": {
                    "color": "black"
                  },
                  "marker": {
                    "line": {
                      "color": "black",
                      "width": 2
                    },
                    "size": [
                      0,
                      10
                    ],
                    "symbol": "line-ns"
                  },
                  "mode": "lines+markers+text",
                  "name": "b Upper Tol",
                  "opacity": 0.5,
                  "type": "scatter",
                  "x": [
                    206.25,
                    206.25
                  ],
                  "y": [
                    "b",
                    "b"
                  ]
                },
                {
                  "legendgroup": "b",
                  "line": {
                    "color": "black"
                  },
                  "marker": {
                    "line": {
                      "color": "black",
                      "width": 2
                    },
                    "size": [
                      0,
                      10
                    ],
                    "symbol": "line-ns"
                  },
                  "mode": "lines+markers+text",
                  "name": "b Lower Tol",
                  "opacity": 0.5,
                  "type": "scatter",
                  "x": [
                    206.25,
                    206.31
                  ],
                  "y": [
                    "b",
                    "b"
                  ]
                },
                {
                  "legendgroup": "b",
                  "line": {
                    "color": "#EF553B",
                    "width": 1
                  },
                  "name": "b Distribution",
                  "type": "scatter",
                  "x": [
                    206.31,
                    206.309,
                    206.308,
                    206.307,
                    206.306,
                    206.305,
                    206.304,
                    206.303,
                    206.302,
                    206.301,
                    206.3,
                    206.299,
                    206.298,
                    206.297,
                    206.296,
                    206.29500000000002,
                    206.294,
                    206.293,
                    206.292,
                    206.291,
                    206.29,
                    206.28900000000002,
                    206.288,
                    206.287,
                    206.286,
                    206.285,
                    206.284,
                    206.28300000000002,
                    206.282,
                    206.281,
                    206.28,
                    206.279,
                    206.278,
                    206.27700000000002,
                    206.276,
                    206.275,
                    206.274,
                    206.273,
                    206.272,
                    206.27100000000002,
                    206.27,
                    206.269,
                    206.268,
                    206.267,
                    206.266,
                    206.26500000000001,
                    206.264,
                    206.263,
                    206.262,
                    206.261,
                    206.26000000000002,
                    206.25900000000001,
                    206.258,
                    206.257,
                    206.256,
                    206.255,
                    206.25400000000002,
                    206.25300000000001,
                    206.252,
                    206.251,
                    206.25
                  ],
                  "xaxis": "x",
                  "y": [
                    0.04431848411937941,
                    0.05952532419775579,
                    0.07915451582979374,
                    0.10420934814421537,
                    0.135829692336839,
                    0.17528300493565924,
                    0.22394530294839102,
                    0.28327037741595895,
                    0.3547459284622424,
                    0.43983595980417656,
                    0.5399096651317573,
                    0.6561581477466103,
                    0.7895015830087486,
                    0.940490773768635,
                    1.109208346794276,
                    1.29517595665859,
                    1.497274656357073,
                    1.7136859204776496,
                    1.9418605498316606,
                    2.178521770324998,
                    2.419707245190894,
                    2.6608524989869884,
                    2.896915527614261,
                    3.1225393336670546,
                    3.332246028917464,
                    3.520653267642509,
                    3.68270140303281,
                    3.8138781546049008,
                    3.910426939754319,
                    3.9695254747699935,
                    3.98942280401433,
                    3.9695254747702577,
                    3.91042693975484,
                    3.8138781546056633,
                    3.682701403033792,
                    3.520653267643681,
                    3.332246028918796,
                    3.122539333668511,
                    2.8969155276158043,
                    2.660852498988584,
                    2.419707245192506,
                    2.178521770326594,
                    1.9418605498332127,
                    1.7136859204791335,
                    1.497274656358469,
                    1.295175956659884,
                    1.109208346795458,
                    0.9404907737696999,
                    0.7895015830096951,
                    0.6561581477474406,
                    0.5399096651324766,
                    0.43983595980479195,
                    0.3547459284627623,
                    0.2832703774163929,
                    0.22394530294874904,
                    0.17528300493595114,
                    0.13582969233707423,
                    0.10420934814440276,
                    0.07915451582994137,
                    0.05952532419787078,
                    0.04431848411946797
                  ],
                  "yaxis": "y2"
                },
                {
                  "legendgroup": "c",
                  "line": {
                    "color": "#00CC96",
                    "width": 2
                  },
                  "marker": {
                    "size": [
                      0,
                      10
                    ]
                  },
                  "mode": "lines+markers+text",
                  "name": "c",
                  "text": [
                    "",
                    "2: c Bearing -23 + 0 / - 0.12 @ ± 3σ & k=0"
                  ],
                  "textposition": "bottom center",
                  "type": "scatter",
                  "x": [
                    206.25,
                    183.25
                  ],
                  "y": [
                    "c",
                    "c"
                  ]
                },
                {
                  "legendgroup": "c",
                  "line": {
                    "color": "black"
                  },
                  "marker": {
                    "line": {
                      "color": "black",
                      "width": 2
                    },
                    "size": [
                      0,
                      10
                    ],
                    "symbol": "line-ns"
                  },
                  "mode": "lines+markers+text",
                  "name": "c Upper Tol",
                  "opacity": 0.5,
                  "type": "scatter",
                  "x": [
                    183.25,
                    183.25
                  ],
                  "y": [
                    "c",
                    "c"
                  ]
                },
                {
                  "legendgroup": "c",
                  "line": {
                    "color": "black"
                  },
                  "marker": {
                    "line": {
                      "color": "black",
                      "width": 2
                    },
                    "size": [
                      0,
                      10
                    ],
                    "symbol": "line-ns"
                  },
                  "mode": "lines+markers+text",
                  "name": "c Lower Tol",
                  "opacity": 0.5,
                  "type": "scatter",
                  "x": [
                    183.25,
                    183.37
                  ],
                  "y": [
                    "c",
                    "c"
                  ]
                },
                {
                  "legendgroup": "c",
                  "line": {
                    "color": "#00CC96",
                    "width": 1
                  },
                  "name": "c Distribution",
                  "type": "scatter",
                  "x": [
                    183.37,
                    183.369,
                    183.368,
                    183.367,
                    183.36599999999999,
                    183.365,
                    183.364,
                    183.363,
                    183.362,
                    183.361,
                    183.35999999999999,
                    183.35899999999998,
                    183.35799999999998,
                    183.35699999999997,
                    183.356,
                    183.355,
                    183.35399999999998,
                    183.35299999999998,
                    183.35199999999998,
                    183.35099999999997,
                    183.34999999999997,
                    183.349,
                    183.34799999999998,
                    183.34699999999998,
                    183.34599999999998,
                    183.34499999999997,
                    183.34399999999997,
                    183.34299999999996,
                    183.34199999999996,
                    183.34099999999995,
                    183.33999999999997,
                    183.33899999999997,
                    183.33799999999997,
                    183.33699999999996,
                    183.33599999999996,
                    183.33499999999995,
                    183.33399999999995,
                    183.33299999999997,
                    183.33199999999997,
                    183.33099999999996,
                    183.32999999999996,
                    183.32899999999995,
                    183.32799999999995,
                    183.32699999999994,
                    183.32599999999994,
                    183.32499999999993,
                    183.32399999999996,
                    183.32299999999995,
                    183.32199999999995,
                    183.32099999999994,
                    183.31999999999994,
                    183.31899999999993,
                    183.31799999999993,
                    183.31699999999995,
                    183.31599999999995,
                    183.31499999999994,
                    183.31399999999994,
                    183.31299999999993,
                    183.31199999999993,
                    183.31099999999992,
                    183.30999999999992,
                    183.3089999999999,
                    183.30799999999994,
                    183.30699999999993,
                    183.30599999999993,
                    183.30499999999992,
                    183.30399999999992,
                    183.3029999999999,
                    183.3019999999999,
                    183.30099999999993,
                    183.29999999999993,
                    183.29899999999992,
                    183.29799999999992,
                    183.2969999999999,
                    183.2959999999999,
                    183.2949999999999,
                    183.2939999999999,
                    183.2929999999999,
                    183.29199999999992,
                    183.2909999999999,
                    183.2899999999999,
                    183.2889999999999,
                    183.2879999999999,
                    183.2869999999999,
                    183.2859999999999,
                    183.2849999999999,
                    183.2839999999999,
                    183.2829999999999,
                    183.2819999999999,
                    183.2809999999999,
                    183.2799999999999,
                    183.27899999999988,
                    183.27799999999988,
                    183.27699999999987,
                    183.2759999999999,
                    183.2749999999999,
                    183.2739999999999,
                    183.27299999999988,
                    183.27199999999988,
                    183.27099999999987,
                    183.26999999999987,
                    183.2689999999999,
                    183.2679999999999,
                    183.26699999999988,
                    183.26599999999988,
                    183.26499999999987,
                    183.26399999999987,
                    183.26299999999986,
                    183.26199999999986,
                    183.26099999999985,
                    183.25999999999988,
                    183.25899999999987,
                    183.25799999999987,
                    183.25699999999986,
                    183.25599999999986,
                    183.25499999999985,
                    183.25399999999985,
                    183.25299999999987,
                    183.25199999999987,
                    183.25099999999986,
                    183.24999999999986
                  ],
                  "xaxis": "x",
                  "y": [
                    0.022159242059698065,
                    0.025713204615283425,
                    0.02976266209890002,
                    0.03436383345309931,
                    0.03957725791493979,
                    0.04546781250800783,
                    0.052104674072180564,
                    0.059561218038111145,
                    0.06791484616853405,
                    0.0772467356721059,
                    0.08764150246800041,
                    0.09918677195916617,
                    0.11197265147444006,
                    0.12609109957623849,
                    0.14163518870831843,
                    0.15869825917870095,
                    0.17737296423157825,
                    0.1977502079473352,
                    0.21991797990268952,
                    0.24396009289654316,
                    0.26995483256665187,
                    0.297973530344881,
                    0.32807907387427915,
                    0.36032437168208814,
                    0.3947507915055772,
                    0.4313865941337782,
                    0.470245386885775,
                    0.5113246228213549,
                    0.5546041733988714,
                    0.6000450034866536,
                    0.6475879783313189,
                    0.6971528322287972,
                    0.7486373281808563,
                    0.8019166367118645,
                    0.856842960241435,
                    0.9132454269476349,
                    0.9709302749187113,
                    1.0296813436026337,
                    1.0892608851656167,
                    1.1494107034241212,
                    1.2098536225987513,
                    1.270295282349043,
                    1.3304262494969183,
                    1.3899244306581544,
                    1.4484577638105924,
                    1.5056871607771856,
                    1.5612696668369315,
                    1.6148617983426334,
                    1.6661230144619719,
                    1.7147192750997784,
                    1.7603266338242145,
                    1.802634812310789,
                    1.841350701518971,
                    1.8762017345868232,
                    1.9069390773045078,
                    1.9333405840158628,
                    1.9552134698786028,
                    1.972396654540453,
                    1.9847627373857333,
                    1.9922195704741434,
                    1.9947114020071206,
                    1.9922195704734,
                    1.9847627373842527,
                    1.9723966545382456,
                    1.955213469875685,
                    1.933340584012257,
                    1.9069390773002397,
                    1.876201734581924,
                    1.8413507015134758,
                    1.802634812304737,
                    1.7603266338176482,
                    1.714719275092742,
                    1.6661230144545136,
                    1.6148617983348021,
                    1.5612696668287775,
                    1.5056871607687605,
                    1.4484577638019474,
                    1.38992443064934,
                    1.3304262494879853,
                    1.2702952823400397,
                    1.209853622589725,
                    1.1494107034151169,
                    1.0892608851566772,
                    1.0296813435937997,
                    0.9709302749100189,
                    0.9132454269391183,
                    0.8568429602331245,
                    0.8019166367037877,
                    0.7486373281730369,
                    0.6971528322212553,
                    0.6475879783240716,
                    0.6000450034797146,
                    0.554604173392251,
                    0.5113246228150603,
                    0.4702453868798109,
                    0.4313865941281459,
                    0.394750791500276,
                    0.36032437167711495,
                    0.32807907386962853,
                    0.2979735303405461,
                    0.2699548325626238,
                    0.24396009289281198,
                    0.21991797989924397,
                    0.19775020794416315,
                    0.17737296422866689,
                    0.15869825917603697,
                    0.141635188705888,
                    0.12609109957402778,
                    0.11197265147243511,
                    0.09918677195735312,
                    0.08764150246636572,
                    0.0772467356706363,
                    0.06791484616721664,
                    0.05956121803693357,
                    0.05210467407113097,
                    0.045467812507074976,
                    0.03957725791411302,
                    0.03436383345236863,
                    0.029762662098256072,
                    0.025713204614717492,
                    0.022159242059202097
                  ],
                  "yaxis": "y2"
                },
                {
                  "legendgroup": "d",
                  "line": {
                    "color": "#AB63FA",
                    "width": 2
                  },
                  "marker": {
                    "size": [
                      0,
                      10
                    ]
                  },
                  "mode": "lines+markers+text",
                  "name": "d",
                  "text": [
                    "",
                    "3: d Bearing Sleeve +20 ± 0.026 @ ± 3σ & k=0"
                  ],
                  "textposition": "bottom center",
                  "type": "scatter",
                  "x": [
                    183.25,
                    203.25
                  ],
                  "y": [
                    "d",
                    "d"
                  ]
                },
                {
                  "legendgroup": "d",
                  "line": {
                    "color": "black"
                  },
                  "marker": {
                    "line": {
                      "color": "black",
                      "width": 2
                    },
                    "size": [
                      0,
                      10
                    ],
                    "symbol": "line-ns"
                  },
                  "mode": "lines+markers+text",
                  "name": "d Upper Tol",
                  "opacity": 0.5,
                  "type": "scatter",
                  "x": [
                    203.25,
                    203.224
                  ],
                  "y": [
                    "d",
                    "d"
                  ]
                },
                {
                  "legendgroup": "d",
                  "line": {
                    "color": "black"
                  },
                  "marker": {
                    "line": {
                      "color": "black",
                      "width": 2
                    },
                    "size": [
                      0,
                      10
                    ],
                    "symbol": "line-ns"
                  },
                  "mode": "lines+markers+text",
                  "name": "d Lower Tol",
                  "opacity": 0.5,
                  "type": "scatter",
                  "x": [
                    203.25,
                    203.276
                  ],
                  "y": [
                    "d",
                    "d"
                  ]
                },
                {
                  "legendgroup": "d",
                  "line": {
                    "color": "#AB63FA",
                    "width": 1
                  },
                  "name": "d Distribution",
                  "type": "scatter",
                  "x": [
                    203.224,
                    203.225,
                    203.226,
                    203.227,
                    203.228,
                    203.229,
                    203.23000000000002,
                    203.231,
                    203.232,
                    203.233,
                    203.234,
                    203.235,
                    203.23600000000002,
                    203.23700000000002,
                    203.23800000000003,
                    203.23900000000003,
                    203.24,
                    203.241,
                    203.24200000000002,
                    203.24300000000002,
                    203.24400000000003,
                    203.24500000000003,
                    203.24600000000004,
                    203.247,
                    203.24800000000002,
                    203.24900000000002,
                    203.25000000000003,
                    203.25100000000003,
                    203.25200000000004,
                    203.25300000000004,
                    203.25400000000005,
                    203.25500000000005,
                    203.25600000000003,
                    203.25700000000003,
                    203.25800000000004,
                    203.25900000000004,
                    203.26000000000005,
                    203.26100000000005,
                    203.26200000000006,
                    203.26300000000003,
                    203.26400000000004,
                    203.26500000000004,
                    203.26600000000005,
                    203.26700000000005,
                    203.26800000000006,
                    203.26900000000006,
                    203.27000000000007,
                    203.27100000000007,
                    203.27200000000005,
                    203.27300000000005,
                    203.27400000000006,
                    203.27500000000006
                  ],
                  "xaxis": "x",
                  "y": [
                    0.051136712445445154,
                    0.07180827526735112,
                    0.09950253843870033,
                    0.13605415136271895,
                    0.18357240939902753,
                    0.24441113696114647,
                    0.3211090512390187,
                    0.41629584507104267,
                    0.53256126823688,
                    0.672287525516901,
                    0.8374492548005144,
                    1.0293899429218005,
                    1.2485884529714655,
                    1.4944337961490795,
                    1.7650297076546904,
                    2.057052289565266,
                    2.36568336640464,
                    2.684638870414754,
                    3.0063054526021245,
                    3.321989902093613,
                    3.6222755489028216,
                    3.8974686764592406,
                    4.138107375741905,
                    4.335496605272495,
                    4.482227732248584,
                    4.572639451551215,
                    4.603180158478034,
                    4.57263945154732,
                    4.482227732240953,
                    4.335496605261421,
                    4.138107375727812,
                    3.897468676442649,
                    3.6222755488843177,
                    3.321989902073815,
                    3.006305452581648,
                    2.684638870394184,
                    2.3656833663844994,
                    2.057052289546002,
                    1.765029707636658,
                    1.4944337961325396,
                    1.2485884529565834,
                    1.0293899429086546,
                    0.8374492547891067,
                    0.6722875255071709,
                    0.5325612682287183,
                    0.41629584506430867,
                    0.3211090512335506,
                    0.24441113695677666,
                    0.18357240939558894,
                    0.13605415136005478,
                    0.09950253843666709,
                    0.07180827526582272
                  ],
                  "yaxis": "y2"
                },
                {
                  "legendgroup": "e",
                  "line": {
                    "color": "#FFA15A",
                    "width": 2
                  },
                  "marker": {
                    "size": [
                      0,
                      10
                    ]
                  },
                  "mode": "lines+markers+text",
                  "name": "e",
                  "text": [
                    "",
                    "4: e Case -200 ± 0.145 @ ± 3σ & k=0"
                  ],
                  "textposition": "bottom center",
                  "type": "scatter",
                  "x": [
                    203.25,
                    3.25
                  ],
                  "y": [
                    "e",
                    "e"
                  ]
                },
                {
                  "legendgroup": "e",
                  "line": {
                    "color": "black"
                  },
                  "marker": {
                    "line": {
                      "color": "black",
                      "width": 2
                    },
                    "size": [
                      0,
                      10
                    ],
                    "symbol": "line-ns"
                  },
                  "mode": "lines+markers+text",
                  "name": "e Upper Tol",
                  "opacity": 0.5,
                  "type": "scatter",
                  "x": [
                    3.25,
                    3.105
                  ],
                  "y": [
                    "e",
                    "e"
                  ]
                },
                {
                  "legendgroup": "e",
                  "line": {
                    "color": "black"
                  },
                  "marker": {
                    "line": {
                      "color": "black",
                      "width": 2
                    },
                    "size": [
                      0,
                      10
                    ],
                    "symbol": "line-ns"
                  },
                  "mode": "lines+markers+text",
                  "name": "e Lower Tol",
                  "opacity": 0.5,
                  "type": "scatter",
                  "x": [
                    3.25,
                    3.395
                  ],
                  "y": [
                    "e",
                    "e"
                  ]
                },
                {
                  "legendgroup": "e",
                  "line": {
                    "color": "#FFA15A",
                    "width": 1
                  },
                  "name": "e Distribution",
                  "type": "scatter",
                  "x": [
                    3.3950000000000102,
                    3.3940000000000055,
                    3.3930000000000007,
                    3.391999999999996,
                    3.390999999999991,
                    3.3899999999999864,
                    3.3889999999999816,
                    3.387999999999977,
                    3.386999999999972,
                    3.3859999999999673,
                    3.3849999999999625,
                    3.3839999999999577,
                    3.382999999999953,
                    3.381999999999948,
                    3.3809999999999434,
                    3.3799999999999386,
                    3.378999999999934,
                    3.377999999999929,
                    3.3769999999999243,
                    3.3759999999999195,
                    3.3749999999999147,
                    3.37399999999991,
                    3.372999999999905,
                    3.3719999999999004,
                    3.3709999999998956,
                    3.369999999999891,
                    3.368999999999886,
                    3.3679999999998813,
                    3.3669999999998765,
                    3.3659999999998718,
                    3.364999999999867,
                    3.363999999999862,
                    3.3629999999998574,
                    3.3619999999998527,
                    3.360999999999848,
                    3.359999999999843,
                    3.3589999999998383,
                    3.3579999999998336,
                    3.356999999999829,
                    3.355999999999824,
                    3.3549999999998192,
                    3.3539999999998145,
                    3.3529999999998097,
                    3.351999999999805,
                    3.3509999999998,
                    3.3499999999997954,
                    3.3489999999997906,
                    3.347999999999786,
                    3.346999999999781,
                    3.3459999999997763,
                    3.3449999999997715,
                    3.3439999999997667,
                    3.342999999999762,
                    3.341999999999757,
                    3.3409999999997524,
                    3.3399999999997476,
                    3.338999999999743,
                    3.337999999999738,
                    3.3369999999997333,
                    3.3359999999997285,
                    3.3349999999997237,
                    3.333999999999719,
                    3.332999999999714,
                    3.3319999999997094,
                    3.3309999999997046,
                    3.3299999999997,
                    3.328999999999695,
                    3.3279999999996903,
                    3.3269999999996855,
                    3.3259999999996808,
                    3.324999999999676,
                    3.323999999999671,
                    3.3229999999996664,
                    3.3219999999996617,
                    3.320999999999657,
                    3.319999999999652,
                    3.3189999999996473,
                    3.3179999999996426,
                    3.316999999999638,
                    3.315999999999633,
                    3.3149999999996282,
                    3.3139999999996235,
                    3.3129999999996187,
                    3.311999999999614,
                    3.310999999999609,
                    3.3099999999996044,
                    3.3089999999995996,
                    3.307999999999595,
                    3.30699999999959,
                    3.3059999999995853,
                    3.3049999999995805,
                    3.3039999999995757,
                    3.302999999999571,
                    3.301999999999566,
                    3.3009999999995614,
                    3.2999999999995566,
                    3.298999999999552,
                    3.297999999999547,
                    3.2969999999995423,
                    3.2959999999995375,
                    3.2949999999995327,
                    3.293999999999528,
                    3.292999999999523,
                    3.2919999999995184,
                    3.2909999999995136,
                    3.289999999999509,
                    3.288999999999504,
                    3.2879999999994993,
                    3.2869999999994945,
                    3.2859999999994898,
                    3.284999999999485,
                    3.2839999999994802,
                    3.2829999999994754,
                    3.2819999999994707,
                    3.280999999999466,
                    3.279999999999461,
                    3.2789999999994563,
                    3.2779999999994516,
                    3.276999999999447,
                    3.275999999999442,
                    3.2749999999994373,
                    3.2739999999994325,
                    3.2729999999994277,
                    3.271999999999423,
                    3.270999999999418,
                    3.2699999999994134,
                    3.2689999999994086,
                    3.267999999999404,
                    3.266999999999399,
                    3.2659999999993943,
                    3.2649999999993895,
                    3.2639999999993847,
                    3.26299999999938,
                    3.261999999999375,
                    3.2609999999993704,
                    3.2599999999993656,
                    3.258999999999361,
                    3.257999999999356,
                    3.2569999999993513,
                    3.2559999999993465,
                    3.2549999999993418,
                    3.253999999999337,
                    3.252999999999332,
                    3.2519999999993274,
                    3.2509999999993227,
                    3.249999999999318,
                    3.248999999999313,
                    3.2479999999993083,
                    3.2469999999993036,
                    3.245999999999299,
                    3.244999999999294,
                    3.2439999999992892,
                    3.2429999999992845,
                    3.2419999999992797,
                    3.240999999999275,
                    3.23999999999927,
                    3.2389999999992654,
                    3.2379999999992606,
                    3.236999999999256,
                    3.235999999999251,
                    3.2349999999992463,
                    3.2339999999992415,
                    3.2329999999992367,
                    3.231999999999232,
                    3.230999999999227,
                    3.2299999999992224,
                    3.2289999999992176,
                    3.227999999999213,
                    3.226999999999208,
                    3.2259999999992033,
                    3.2249999999991985,
                    3.2239999999991937,
                    3.222999999999189,
                    3.221999999999184,
                    3.2209999999991794,
                    3.2199999999991746,
                    3.21899999999917,
                    3.217999999999165,
                    3.2169999999991603,
                    3.2159999999991555,
                    3.2149999999991508,
                    3.213999999999146,
                    3.212999999999141,
                    3.2119999999991364,
                    3.2109999999991317,
                    3.209999999999127,
                    3.208999999999122,
                    3.2079999999991173,
                    3.2069999999991126,
                    3.205999999999108,
                    3.204999999999103,
                    3.2039999999990982,
                    3.2029999999990935,
                    3.2019999999990887,
                    3.200999999999084,
                    3.199999999999079,
                    3.1989999999990744,
                    3.1979999999990696,
                    3.196999999999065,
                    3.19599999999906,
                    3.1949999999990553,
                    3.1939999999990505,
                    3.1929999999990457,
                    3.191999999999041,
                    3.190999999999036,
                    3.1899999999990314,
                    3.1889999999990266,
                    3.187999999999022,
                    3.186999999999017,
                    3.1859999999990123,
                    3.1849999999990075,
                    3.1839999999990027,
                    3.182999999998998,
                    3.181999999998993,
                    3.1809999999989884,
                    3.1799999999989836,
                    3.178999999998979,
                    3.177999999998974,
                    3.1769999999989693,
                    3.1759999999989645,
                    3.1749999999989598,
                    3.173999999998955,
                    3.17299999999895,
                    3.1719999999989454,
                    3.1709999999989407,
                    3.169999999998936,
                    3.168999999998931,
                    3.1679999999989263,
                    3.1669999999989216,
                    3.165999999998917,
                    3.164999999998912,
                    3.1639999999989072,
                    3.1629999999989025,
                    3.1619999999988977,
                    3.160999999998893,
                    3.159999999998888,
                    3.1589999999988834,
                    3.1579999999988786,
                    3.156999999998874,
                    3.155999999998869,
                    3.1549999999988643,
                    3.1539999999988595,
                    3.1529999999988547,
                    3.15199999999885,
                    3.150999999998845,
                    3.1499999999988404,
                    3.1489999999988356,
                    3.147999999998831,
                    3.146999999998826,
                    3.1459999999988213,
                    3.1449999999988165,
                    3.1439999999988117,
                    3.142999999998807,
                    3.141999999998802,
                    3.1409999999987974,
                    3.1399999999987926,
                    3.138999999998788,
                    3.137999999998783,
                    3.1369999999987783,
                    3.1359999999987735,
                    3.1349999999987688,
                    3.133999999998764,
                    3.132999999998759,
                    3.1319999999987544,
                    3.1309999999987497,
                    3.129999999998745,
                    3.12899999999874,
                    3.1279999999987353,
                    3.1269999999987306,
                    3.125999999998726,
                    3.124999999998721,
                    3.1239999999987162,
                    3.1229999999987115,
                    3.1219999999987067,
                    3.120999999998702,
                    3.119999999998697,
                    3.1189999999986924,
                    3.1179999999986876,
                    3.116999999998683,
                    3.115999999998678,
                    3.1149999999986733,
                    3.1139999999986685,
                    3.1129999999986637,
                    3.111999999998659,
                    3.110999999998654,
                    3.1099999999986494,
                    3.1089999999986446,
                    3.10799999999864,
                    3.106999999998635,
                    3.1059999999986303,
                    3.1049999999986255
                  ],
                  "xaxis": "x",
                  "y": [
                    0.009169341541929698,
                    0.009754418995248797,
                    0.01037238810373099,
                    0.011024786943839116,
                    0.011713205088754603,
                    0.012439284041368891,
                    0.013204717579858093,
                    0.01401125200946867,
                    0.014860686314035799,
                    0.015754872200664828,
                    0.016695714030933867,
                    0.017685168631920857,
                    0.018725244980325812,
                    0.01981800375294558,
                    0.02096555673677095,
                    0.022170066092010242,
                    0.02343374346140528,
                    0.024758848919293374,
                    0.026147689753985036,
                    0.027602619077173204,
                    0.029126034254264452,
                    0.030720375149731305,
                    0.03238812218182345,
                    0.03413179418124922,
                    0.035953946048745085,
                    0.037857166206793115,
                    0.03984407384112269,
                    0.0419173159280452,
                    0.04407956404411912,
                    0.04633351095512681,
                    0.04868186698186483,
                    0.051127356140805616,
                    0.05367271205828075,
                    0.056320673657461434,
                    0.059073980618073674,
                    0.061935368609480096,
                    0.06490756429848642,
                    0.06799328013398835,
                    0.07119520891136367,
                    0.07451601812032667,
                    0.07795834408080657,
                    0.08152478587227495,
                    0.08521789906283563,
                    0.08904018924529598,
                    0.09299410538836196,
                    0.09708203301203729,
                    0.10130628719725168,
                    0.10566910544070068,
                    0.11017264036683742,
                    0.11481895230991455,
                    0.11961000177993326,
                    0.12454764182730181,
                    0.12963361032194462,
                    0.13486952216352543,
                    0.1402568614403479,
                    0.14579697355537702,
                    0.151491057338672,
                    0.15734015716634,
                    0.16334515510689487,
                    0.16950676311664653,
                    0.1758255153064314,
                    0.1823017603026366,
                    0.18893565372605134,
                    0.19572715081260378,
                    0.20267599920049706,
                    0.20978173190865165,
                    0.21704366053167606,
                    0.2244608686768297,
                    0.2320322056686023,
                    0.23975628054661072,
                    0.24763145638250741,
                    0.2556558449414883,
                    0.263827301713807,
                    0.272143421341403,
                    0.2806015334643787,
                    0.2891986990115733,
                    0.297931706958899,
                    0.3067970715784281,
                    0.3157910302004301,
                    0.32490954150967827,
                    0.33414828439635885,
                    0.3435026573808298,
                    0.3529677786302944,
                    0.3625384865841727,
                    0.3722093412035799,
                    0.38197462585885494,
                    0.3918283498675225,
                    0.4017642516934353,
                    0.4117758028161187,
                    0.4218562122775435,
                    0.4319984319116792,
                    0.4421951622602478,
                    0.4524388591761029,
                    0.4627217411136028,
                    0.4730357971032581,
                    0.4833727954057919,
                    0.4937242928385818,
                    0.5040816447652622,
                    0.5144360157370463,
                    0.5247783907721187,
                    0.5350995872572146,
                    0.545390267453304,
                    0.5556409515850924,
                    0.5658420314918886,
                    0.5759837848152514,
                    0.5860563896967383,
                    0.5960499399570443,
                    0.6059544607258387,
                    0.6157599244897063,
                    0.6254562675237748,
                    0.6350334066708673,
                    0.6444812564303815,
                    0.6537897463175576,
                    0.6629488384523677,
                    0.6719485453359547,
                    0.6807789477713653,
                    0.6894302128842695,
                    0.6978926121984496,
                    0.7061565397200693,
                    0.7142125299841168,
                    0.7220512760159434,
                    0.7296636471605101,
                    0.7370407067318039,
                    0.7441737294348881,
                    0.7510542185132374,
                    0.757673922574329,
                    0.7640248520469812,
                    0.770099295224588,
                    0.7758898338492328,
                    0.7813893581926625,
                    0.7865910815912505,
                    0.7914885543933883,
                    0.7960756772792167,
                    0.8003467139142024,
                    0.8042963028998343,
                    0.8079194689865972,
                    0.8112116335164008,
                    0.814168624063792,
                    0.8167866832475319,
                    0.819062476686494,
                    0.8209931000763011,
                    0.8225760853656802,
                    0.8238094060141467,
                    0.8246914813153431,
                    0.8252211797731202,
                    0.8253978215202639,
                    0.8252211797726382,
                    0.8246914813143799,
                    0.8238094060127034,
                    0.8225760853637586,
                    0.8209931000739041,
                    0.8190624766836241,
                    0.816786683244193,
                    0.8141686240599882,
                    0.8112116335121372,
                    0.807919468981879,
                    0.8042963028946679,
                    0.8003467139085936,
                    0.7960756772731731,
                    0.7914885543869173,
                    0.78659108158436,
                    0.7813893581853616,
                    0.77588983384153,
                    0.770099295216493,
                    0.7640248520385039,
                    0.7576739225654797,
                    0.7510542185040268,
                    0.7441737294253273,
                    0.7370407067219041,
                    0.7296636471502836,
                    0.7220512760054018,
                    0.7142125299732724,
                    0.706156539708935,
                    0.697892612187038,
                    0.6894302128725937,
                    0.6807789477594385,
                    0.6719485453237903,
                    0.662948838439979,
                    0.6537897463049582,
                    0.644481256417585,
                    0.6350334066578875,
                    0.6254562675106258,
                    0.6157599244764015,
                    0.6059544607123917,
                    0.5960499399434692,
                    0.5860563896830485,
                    0.5759837848014604,
                    0.5658420314780102,
                    0.5556409515711396,
                    0.5453902674392901,
                    0.5350995872431527,
                    0.5247783907580215,
                    0.5144360157229266,
                    0.5040816447511322,
                    0.49372429282445385,
                    0.4833727953916778,
                    0.4730357970891697,
                    0.46272174109955133,
                    0.4524388591620995,
                    0.4421951622463031,
                    0.43199843189780374,
                    0.4218562122637476,
                    0.41177580280241205,
                    0.40176425167982716,
                    0.3918283498540221,
                    0.38197462584547104,
                    0.3722093411903208,
                    0.3625384865710462,
                    0.3529677786173085,
                    0.34350265736799157,
                    0.3341482843836749,
                    0.32490954149715534,
                    0.31579103018807425,
                    0.306797071566245,
                    0.297931706946894,
                    0.2891986989997512,
                    0.2806015334527443,
                    0.2721434213299603,
                    0.26382730170256,
                    0.25565584493044036,
                    0.24763145637166145,
                    0.2397562805359699,
                    0.2320322056581686,
                    0.22446086866660542,
                    0.2170436605216629,
                    0.20978173189885096,
                    0.20267599919091,
                    0.19572715080323116,
                    0.1889356537168936,
                    0.1823017602936939,
                    0.17582551529770374,
                    0.16950676310813356,
                    0.16334515509859593,
                    0.1573401571582542,
                    0.15149105733079837,
                    0.1457969735477142,
                    0.14025686143289431,
                    0.13486952215627943,
                    0.1296336103149042,
                    0.12454764182046484,
                    0.11961000177329756,
                    0.11481895230347758,
                    0.11017264036059661,
                    0.10566910543465335,
                    0.1013062871913947,
                    0.09708203300636789,
                    0.09299410538287692,
                    0.0890401892399922,
                    0.08521789905770984,
                    0.08152478586732369,
                    0.07795834407602638,
                    0.07451601811571398,
                    0.07119520890691497,
                    0.06799328012970003,
                    0.0649075642943548,
                    0.06193536860550156,
                    0.059073980614244445,
                    0.05632067365377771,
                    0.05367271205473888,
                    0.051127356137401846,
                    0.04868186697859546,
                    0.046333510951988136,
                    0.04407956404110739,
                    0.041917315925156705,
                    0.039844073838353755,
                    0.037857166204140154,
                    0.035953946046204506,
                    0.03413179417881748,
                    0.03238812217949705,
                    0.030720375147506748,
                    0.029126034252138312,
                    0.02760261907514216,
                    0.026147689752045775,
                    0.024758848917442646,
                    0.02343374345963995,
                    0.02217006609032716,
                    0.020965556735167073,
                    0.019818003751417894,
                    0.018725244978871423,
                    0.01768516863053694,
                    0.016695714029617614,
                    0.015754872199413572,
                    0.014860686312846882,
                    0.014011252008339506,
                    0.01320471757878621,
                    0.012439284040351885,
                    0.011713205087790111,
                    0.011024786942924887,
                    0.01037238810286481,
                    0.009754418994428523,
                    0.009169341541153257
                  ],
                  "yaxis": "y2"
                },
                {
                  "legendgroup": "f",
                  "line": {
                    "color": "#19D3F3",
                    "width": 2
                  },
                  "marker": {
                    "size": [
                      0,
                      10
                    ]
                  },
                  "mode": "lines+markers+text",
                  "name": "f",
                  "text": [
                    "",
                    "5: f Bearing Sleeve +20 ± 0.026"
                  ],
                  "textposition": "bottom center",
                  "type": "scatter",
                  "x": [
                    3.25,
                    23.25
                  ],
                  "y": [
                    "f",
                    "f"
                  ]
                },
                {
                  "legendgroup": "f",
                  "line": {
                    "color": "black"
                  },
                  "marker": {
                    "line": {
                      "color": "black",
                      "width": 2
                    },
                    "size": [
                      0,
                      10
                    ],
                    "symbol": "line-ns"
                  },
                  "mode": "lines+markers+text",
                  "name": "f Upper Tol",
                  "opacity": 0.5,
                  "type": "scatter",
                  "x": [
                    23.25,
                    23.224
                  ],
                  "y": [
                    "f",
                    "f"
                  ]
                },
                {
                  "legendgroup": "f",
                  "line": {
                    "color": "black"
                  },
                  "marker": {
                    "line": {
                      "color": "black",
                      "width": 2
                    },
                    "size": [
                      0,
                      10
                    ],
                    "symbol": "line-ns"
                  },
                  "mode": "lines+markers+text",
                  "name": "f Lower Tol",
                  "opacity": 0.5,
                  "type": "scatter",
                  "x": [
                    23.25,
                    23.276
                  ],
                  "y": [
                    "f",
                    "f"
                  ]
                },
                {
                  "legendgroup": "f",
                  "line": {
                    "color": "#19D3F3",
                    "width": 1
                  },
                  "name": "f Distribution",
                  "type": "scatter",
                  "x": [
                    23.224,
                    23.225,
                    23.226000000000003,
                    23.227000000000004,
                    23.228000000000005,
                    23.229000000000006,
                    23.230000000000008,
                    23.23100000000001,
                    23.23200000000001,
                    23.23300000000001,
                    23.234000000000012,
                    23.235000000000014,
                    23.236000000000015,
                    23.237000000000016,
                    23.238000000000017,
                    23.23900000000002,
                    23.24000000000002,
                    23.24100000000002,
                    23.242000000000022,
                    23.243000000000023,
                    23.244000000000025,
                    23.245000000000026,
                    23.246000000000027,
                    23.24700000000003,
                    23.24800000000003,
                    23.24900000000003,
                    23.250000000000032,
                    23.251000000000033,
                    23.252000000000034,
                    23.253000000000036,
                    23.254000000000037,
                    23.255000000000038,
                    23.25600000000004,
                    23.25700000000004,
                    23.25800000000004,
                    23.259000000000043,
                    23.260000000000044,
                    23.261000000000045,
                    23.262000000000047,
                    23.263000000000048,
                    23.26400000000005,
                    23.26500000000005,
                    23.26600000000005,
                    23.267000000000053,
                    23.268000000000054,
                    23.269000000000055,
                    23.270000000000056,
                    23.271000000000058,
                    23.27200000000006,
                    23.27300000000006,
                    23.27400000000006,
                    23.275000000000063
                  ],
                  "xaxis": "x",
                  "y": [
                    1.923076923076938,
                    1.923076923076938,
                    1.923076923076938,
                    1.923076923076938,
                    1.923076923076938,
                    1.923076923076938,
                    1.923076923076938,
                    1.923076923076938,
                    1.923076923076938,
                    1.923076923076938,
                    1.923076923076938,
                    1.923076923076938,
                    1.923076923076938,
                    1.923076923076938,
                    1.923076923076938,
                    1.923076923076938,
                    1.923076923076938,
                    1.923076923076938,
                    1.923076923076938,
                    1.923076923076938,
                    1.923076923076938,
                    1.923076923076938,
                    1.923076923076938,
                    1.923076923076938,
                    1.923076923076938,
                    1.923076923076938,
                    1.923076923076938,
                    1.923076923076938,
                    1.923076923076938,
                    1.923076923076938,
                    1.923076923076938,
                    1.923076923076938,
                    1.923076923076938,
                    1.923076923076938,
                    1.923076923076938,
                    1.923076923076938,
                    1.923076923076938,
                    1.923076923076938,
                    1.923076923076938,
                    1.923076923076938,
                    1.923076923076938,
                    1.923076923076938,
                    1.923076923076938,
                    1.923076923076938,
                    1.923076923076938,
                    1.923076923076938,
                    1.923076923076938,
                    1.923076923076938,
                    1.923076923076938,
                    1.923076923076938,
                    1.923076923076938,
                    1.923076923076938
                  ],
                  "yaxis": "y2"
                },
                {
                  "legendgroup": "g",
                  "line": {
                    "color": "#FF6692",
                    "width": 2
                  },
                  "marker": {
                    "size": [
                      0,
                      10
                    ]
                  },
                  "mode": "lines+markers+text",
                  "name": "g",
                  "text": [
                    "",
                    "6: g Bearing -23 + 0 / - 0.12 @ ± 3σ & k=0"
                  ],
                  "textposition": "bottom center",
                  "type": "scatter",
                  "x": [
                    23.25,
                    0.25
                  ],
                  "y": [
                    "g",
                    "g"
                  ]
                },
                {
                  "legendgroup": "g",
                  "line": {
                    "color": "black"
                  },
                  "marker": {
                    "line": {
                      "color": "black",
                      "width": 2
                    },
                    "size": [
                      0,
                      10
                    ],
                    "symbol": "line-ns"
                  },
                  "mode": "lines+markers+text",
                  "name": "g Upper Tol",
                  "opacity": 0.5,
                  "type": "scatter",
                  "x": [
                    0.25,
                    0.25
                  ],
                  "y": [
                    "g",
                    "g"
                  ]
                },
                {
                  "legendgroup": "g",
                  "line": {
                    "color": "black"
                  },
                  "marker": {
                    "line": {
                      "color": "black",
                      "width": 2
                    },
                    "size": [
                      0,
                      10
                    ],
                    "symbol": "line-ns"
                  },
                  "mode": "lines+markers+text",
                  "name": "g Lower Tol",
                  "opacity": 0.5,
                  "type": "scatter",
                  "x": [
                    0.25,
                    0.37
                  ],
                  "y": [
                    "g",
                    "g"
                  ]
                },
                {
                  "legendgroup": "g",
                  "line": {
                    "color": "#FF6692",
                    "width": 1
                  },
                  "name": "g Distribution",
                  "type": "scatter",
                  "x": [
                    0.370000000000001,
                    0.3689999999999998,
                    0.36799999999999855,
                    0.36699999999999733,
                    0.3659999999999961,
                    0.3649999999999949,
                    0.36399999999999366,
                    0.36299999999999244,
                    0.3619999999999912,
                    0.36099999999999,
                    0.3599999999999888,
                    0.35899999999998755,
                    0.35799999999998633,
                    0.3569999999999851,
                    0.3559999999999839,
                    0.35499999999998266,
                    0.35399999999998144,
                    0.3529999999999802,
                    0.351999999999979,
                    0.3509999999999778,
                    0.34999999999997655,
                    0.34899999999997533,
                    0.3479999999999741,
                    0.3469999999999729,
                    0.34599999999997166,
                    0.34499999999997044,
                    0.3439999999999692,
                    0.342999999999968,
                    0.3419999999999668,
                    0.34099999999996555,
                    0.33999999999996433,
                    0.3389999999999631,
                    0.3379999999999619,
                    0.33699999999996066,
                    0.33599999999995944,
                    0.3349999999999582,
                    0.333999999999957,
                    0.3329999999999558,
                    0.33199999999995455,
                    0.33099999999995333,
                    0.3299999999999521,
                    0.3289999999999509,
                    0.32799999999994967,
                    0.32699999999994844,
                    0.3259999999999472,
                    0.324999999999946,
                    0.3239999999999448,
                    0.32299999999994355,
                    0.32199999999994233,
                    0.3209999999999411,
                    0.3199999999999399,
                    0.31899999999993867,
                    0.31799999999993744,
                    0.3169999999999362,
                    0.315999999999935,
                    0.3149999999999338,
                    0.31399999999993256,
                    0.31299999999993133,
                    0.3119999999999301,
                    0.3109999999999289,
                    0.30999999999992767,
                    0.30899999999992644,
                    0.3079999999999252,
                    0.306999999999924,
                    0.3059999999999228,
                    0.30499999999992156,
                    0.30399999999992033,
                    0.3029999999999191,
                    0.3019999999999179,
                    0.30099999999991667,
                    0.29999999999991545,
                    0.2989999999999142,
                    0.297999999999913,
                    0.2969999999999118,
                    0.29599999999991056,
                    0.29499999999990933,
                    0.2939999999999081,
                    0.2929999999999069,
                    0.29199999999990567,
                    0.29099999999990445,
                    0.2899999999999032,
                    0.288999999999902,
                    0.2879999999999008,
                    0.28699999999989956,
                    0.28599999999989834,
                    0.2849999999998971,
                    0.2839999999998959,
                    0.28299999999989467,
                    0.28199999999989345,
                    0.2809999999998922,
                    0.279999999999891,
                    0.2789999999998898,
                    0.27799999999988856,
                    0.27699999999988734,
                    0.2759999999998861,
                    0.2749999999998849,
                    0.27399999999988367,
                    0.27299999999988245,
                    0.2719999999998812,
                    0.27099999999988,
                    0.2699999999998788,
                    0.26899999999987756,
                    0.26799999999987634,
                    0.2669999999998751,
                    0.2659999999998739,
                    0.26499999999987267,
                    0.26399999999987145,
                    0.2629999999998702,
                    0.261999999999869,
                    0.2609999999998678,
                    0.25999999999986656,
                    0.25899999999986534,
                    0.2579999999998641,
                    0.2569999999998629,
                    0.25599999999986167,
                    0.25499999999986045,
                    0.2539999999998592,
                    0.252999999999858,
                    0.2519999999998568,
                    0.25099999999985556,
                    0.24999999999985434
                  ],
                  "xaxis": "x",
                  "y": [
                    0.022159242059698065,
                    0.025713204615283425,
                    0.02976266209890002,
                    0.03436383345309931,
                    0.03957725791493979,
                    0.04546781250800783,
                    0.052104674072180564,
                    0.059561218038111145,
                    0.06791484616853405,
                    0.0772467356721059,
                    0.08764150246800041,
                    0.09918677195916617,
                    0.11197265147444006,
                    0.12609109957623849,
                    0.14163518870831843,
                    0.15869825917870095,
                    0.17737296423157825,
                    0.1977502079473352,
                    0.21991797990268952,
                    0.24396009289654316,
                    0.26995483256665187,
                    0.297973530344881,
                    0.32807907387427915,
                    0.36032437168208814,
                    0.3947507915055772,
                    0.4313865941337782,
                    0.470245386885775,
                    0.5113246228213549,
                    0.5546041733988714,
                    0.6000450034866536,
                    0.6475879783313189,
                    0.6971528322287972,
                    0.7486373281808563,
                    0.8019166367118645,
                    0.856842960241435,
                    0.9132454269476349,
                    0.9709302749187113,
                    1.0296813436026337,
                    1.0892608851656167,
                    1.1494107034241212,
                    1.2098536225987513,
                    1.270295282349043,
                    1.3304262494969183,
                    1.3899244306581544,
                    1.4484577638105924,
                    1.5056871607771856,
                    1.5612696668369315,
                    1.6148617983426334,
                    1.6661230144619719,
                    1.7147192750997784,
                    1.7603266338242145,
                    1.802634812310789,
                    1.841350701518971,
                    1.8762017345868232,
                    1.9069390773045078,
                    1.9333405840158628,
                    1.9552134698786028,
                    1.972396654540453,
                    1.9847627373857333,
                    1.9922195704741434,
                    1.9947114020071206,
                    1.9922195704734,
                    1.9847627373842527,
                    1.9723966545382456,
                    1.955213469875685,
                    1.933340584012257,
                    1.9069390773002397,
                    1.876201734581924,
                    1.8413507015134758,
                    1.802634812304737,
                    1.7603266338176482,
                    1.714719275092742,
                    1.6661230144545136,
                    1.6148617983348021,
                    1.5612696668287775,
                    1.5056871607687605,
                    1.4484577638019474,
                    1.38992443064934,
                    1.3304262494879853,
                    1.2702952823400397,
                    1.209853622589725,
                    1.1494107034151169,
                    1.0892608851566772,
                    1.0296813435937997,
                    0.9709302749100189,
                    0.9132454269391183,
                    0.8568429602331245,
                    0.8019166367037877,
                    0.7486373281730369,
                    0.6971528322212553,
                    0.6475879783240716,
                    0.6000450034797146,
                    0.554604173392251,
                    0.5113246228150603,
                    0.4702453868798109,
                    0.4313865941281459,
                    0.394750791500276,
                    0.36032437167711495,
                    0.32807907386962853,
                    0.2979735303405461,
                    0.2699548325626238,
                    0.24396009289281198,
                    0.21991797989924397,
                    0.19775020794416315,
                    0.17737296422866689,
                    0.15869825917603697,
                    0.141635188705888,
                    0.12609109957402778,
                    0.11197265147243511,
                    0.09918677195735312,
                    0.08764150246636572,
                    0.0772467356706363,
                    0.06791484616721664,
                    0.05956121803693357,
                    0.05210467407113097,
                    0.045467812507074976,
                    0.03957725791411302,
                    0.03436383345236863,
                    0.029762662098256072,
                    0.025713204614717492,
                    0.022159242059202097
                  ],
                  "yaxis": "y2"
                }
              ],
              "layout": {
                "annotations": [
                  {
                    "font": {
                      "size": 16
                    },
                    "showarrow": false,
                    "text": "Distance (mm)",
                    "x": 0.47,
                    "xanchor": "center",
                    "xref": "paper",
                    "y": 0,
                    "yanchor": "top",
                    "yref": "paper",
                    "yshift": -30
                  }
                ],
                "template": {
                  "data": {
                    "bar": [
                      {
                        "error_x": {
                          "color": "#2a3f5f"
                        },
                        "error_y": {
                          "color": "#2a3f5f"
                        },
                        "marker": {
                          "line": {
                            "color": "#E5ECF6",
                            "width": 0.5
                          },
                          "pattern": {
                            "fillmode": "overlay",
                            "size": 10,
                            "solidity": 0.2
                          }
                        },
                        "type": "bar"
                      }
                    ],
                    "barpolar": [
                      {
                        "marker": {
                          "line": {
                            "color": "#E5ECF6",
                            "width": 0.5
                          },
                          "pattern": {
                            "fillmode": "overlay",
                            "size": 10,
                            "solidity": 0.2
                          }
                        },
                        "type": "barpolar"
                      }
                    ],
                    "carpet": [
                      {
                        "aaxis": {
                          "endlinecolor": "#2a3f5f",
                          "gridcolor": "white",
                          "linecolor": "white",
                          "minorgridcolor": "white",
                          "startlinecolor": "#2a3f5f"
                        },
                        "baxis": {
                          "endlinecolor": "#2a3f5f",
                          "gridcolor": "white",
                          "linecolor": "white",
                          "minorgridcolor": "white",
                          "startlinecolor": "#2a3f5f"
                        },
                        "type": "carpet"
                      }
                    ],
                    "choropleth": [
                      {
                        "colorbar": {
                          "outlinewidth": 0,
                          "ticks": ""
                        },
                        "type": "choropleth"
                      }
                    ],
                    "contour": [
                      {
                        "colorbar": {
                          "outlinewidth": 0,
                          "ticks": ""
                        },
                        "colorscale": [
                          [
                            0,
                            "#0d0887"
                          ],
                          [
                            0.1111111111111111,
                            "#46039f"
                          ],
                          [
                            0.2222222222222222,
                            "#7201a8"
                          ],
                          [
                            0.3333333333333333,
                            "#9c179e"
                          ],
                          [
                            0.4444444444444444,
                            "#bd3786"
                          ],
                          [
                            0.5555555555555556,
                            "#d8576b"
                          ],
                          [
                            0.6666666666666666,
                            "#ed7953"
                          ],
                          [
                            0.7777777777777778,
                            "#fb9f3a"
                          ],
                          [
                            0.8888888888888888,
                            "#fdca26"
                          ],
                          [
                            1,
                            "#f0f921"
                          ]
                        ],
                        "type": "contour"
                      }
                    ],
                    "contourcarpet": [
                      {
                        "colorbar": {
                          "outlinewidth": 0,
                          "ticks": ""
                        },
                        "type": "contourcarpet"
                      }
                    ],
                    "heatmap": [
                      {
                        "colorbar": {
                          "outlinewidth": 0,
                          "ticks": ""
                        },
                        "colorscale": [
                          [
                            0,
                            "#0d0887"
                          ],
                          [
                            0.1111111111111111,
                            "#46039f"
                          ],
                          [
                            0.2222222222222222,
                            "#7201a8"
                          ],
                          [
                            0.3333333333333333,
                            "#9c179e"
                          ],
                          [
                            0.4444444444444444,
                            "#bd3786"
                          ],
                          [
                            0.5555555555555556,
                            "#d8576b"
                          ],
                          [
                            0.6666666666666666,
                            "#ed7953"
                          ],
                          [
                            0.7777777777777778,
                            "#fb9f3a"
                          ],
                          [
                            0.8888888888888888,
                            "#fdca26"
                          ],
                          [
                            1,
                            "#f0f921"
                          ]
                        ],
                        "type": "heatmap"
                      }
                    ],
                    "heatmapgl": [
                      {
                        "colorbar": {
                          "outlinewidth": 0,
                          "ticks": ""
                        },
                        "colorscale": [
                          [
                            0,
                            "#0d0887"
                          ],
                          [
                            0.1111111111111111,
                            "#46039f"
                          ],
                          [
                            0.2222222222222222,
                            "#7201a8"
                          ],
                          [
                            0.3333333333333333,
                            "#9c179e"
                          ],
                          [
                            0.4444444444444444,
                            "#bd3786"
                          ],
                          [
                            0.5555555555555556,
                            "#d8576b"
                          ],
                          [
                            0.6666666666666666,
                            "#ed7953"
                          ],
                          [
                            0.7777777777777778,
                            "#fb9f3a"
                          ],
                          [
                            0.8888888888888888,
                            "#fdca26"
                          ],
                          [
                            1,
                            "#f0f921"
                          ]
                        ],
                        "type": "heatmapgl"
                      }
                    ],
                    "histogram": [
                      {
                        "marker": {
                          "pattern": {
                            "fillmode": "overlay",
                            "size": 10,
                            "solidity": 0.2
                          }
                        },
                        "type": "histogram"
                      }
                    ],
                    "histogram2d": [
                      {
                        "colorbar": {
                          "outlinewidth": 0,
                          "ticks": ""
                        },
                        "colorscale": [
                          [
                            0,
                            "#0d0887"
                          ],
                          [
                            0.1111111111111111,
                            "#46039f"
                          ],
                          [
                            0.2222222222222222,
                            "#7201a8"
                          ],
                          [
                            0.3333333333333333,
                            "#9c179e"
                          ],
                          [
                            0.4444444444444444,
                            "#bd3786"
                          ],
                          [
                            0.5555555555555556,
                            "#d8576b"
                          ],
                          [
                            0.6666666666666666,
                            "#ed7953"
                          ],
                          [
                            0.7777777777777778,
                            "#fb9f3a"
                          ],
                          [
                            0.8888888888888888,
                            "#fdca26"
                          ],
                          [
                            1,
                            "#f0f921"
                          ]
                        ],
                        "type": "histogram2d"
                      }
                    ],
                    "histogram2dcontour": [
                      {
                        "colorbar": {
                          "outlinewidth": 0,
                          "ticks": ""
                        },
                        "colorscale": [
                          [
                            0,
                            "#0d0887"
                          ],
                          [
                            0.1111111111111111,
                            "#46039f"
                          ],
                          [
                            0.2222222222222222,
                            "#7201a8"
                          ],
                          [
                            0.3333333333333333,
                            "#9c179e"
                          ],
                          [
                            0.4444444444444444,
                            "#bd3786"
                          ],
                          [
                            0.5555555555555556,
                            "#d8576b"
                          ],
                          [
                            0.6666666666666666,
                            "#ed7953"
                          ],
                          [
                            0.7777777777777778,
                            "#fb9f3a"
                          ],
                          [
                            0.8888888888888888,
                            "#fdca26"
                          ],
                          [
                            1,
                            "#f0f921"
                          ]
                        ],
                        "type": "histogram2dcontour"
                      }
                    ],
                    "mesh3d": [
                      {
                        "colorbar": {
                          "outlinewidth": 0,
                          "ticks": ""
                        },
                        "type": "mesh3d"
                      }
                    ],
                    "parcoords": [
                      {
                        "line": {
                          "colorbar": {
                            "outlinewidth": 0,
                            "ticks": ""
                          }
                        },
                        "type": "parcoords"
                      }
                    ],
                    "pie": [
                      {
                        "automargin": true,
                        "type": "pie"
                      }
                    ],
                    "scatter": [
                      {
                        "fillpattern": {
                          "fillmode": "overlay",
                          "size": 10,
                          "solidity": 0.2
                        },
                        "type": "scatter"
                      }
                    ],
                    "scatter3d": [
                      {
                        "line": {
                          "colorbar": {
                            "outlinewidth": 0,
                            "ticks": ""
                          }
                        },
                        "marker": {
                          "colorbar": {
                            "outlinewidth": 0,
                            "ticks": ""
                          }
                        },
                        "type": "scatter3d"
                      }
                    ],
                    "scattercarpet": [
                      {
                        "marker": {
                          "colorbar": {
                            "outlinewidth": 0,
                            "ticks": ""
                          }
                        },
                        "type": "scattercarpet"
                      }
                    ],
                    "scattergeo": [
                      {
                        "marker": {
                          "colorbar": {
                            "outlinewidth": 0,
                            "ticks": ""
                          }
                        },
                        "type": "scattergeo"
                      }
                    ],
                    "scattergl": [
                      {
                        "marker": {
                          "colorbar": {
                            "outlinewidth": 0,
                            "ticks": ""
                          }
                        },
                        "type": "scattergl"
                      }
                    ],
                    "scattermapbox": [
                      {
                        "marker": {
                          "colorbar": {
                            "outlinewidth": 0,
                            "ticks": ""
                          }
                        },
                        "type": "scattermapbox"
                      }
                    ],
                    "scatterpolar": [
                      {
                        "marker": {
                          "colorbar": {
                            "outlinewidth": 0,
                            "ticks": ""
                          }
                        },
                        "type": "scatterpolar"
                      }
                    ],
                    "scatterpolargl": [
                      {
                        "marker": {
                          "colorbar": {
                            "outlinewidth": 0,
                            "ticks": ""
                          }
                        },
                        "type": "scatterpolargl"
                      }
                    ],
                    "scatterternary": [
                      {
                        "marker": {
                          "colorbar": {
                            "outlinewidth": 0,
                            "ticks": ""
                          }
                        },
                        "type": "scatterternary"
                      }
                    ],
                    "surface": [
                      {
                        "colorbar": {
                          "outlinewidth": 0,
                          "ticks": ""
                        },
                        "colorscale": [
                          [
                            0,
                            "#0d0887"
                          ],
                          [
                            0.1111111111111111,
                            "#46039f"
                          ],
                          [
                            0.2222222222222222,
                            "#7201a8"
                          ],
                          [
                            0.3333333333333333,
                            "#9c179e"
                          ],
                          [
                            0.4444444444444444,
                            "#bd3786"
                          ],
                          [
                            0.5555555555555556,
                            "#d8576b"
                          ],
                          [
                            0.6666666666666666,
                            "#ed7953"
                          ],
                          [
                            0.7777777777777778,
                            "#fb9f3a"
                          ],
                          [
                            0.8888888888888888,
                            "#fdca26"
                          ],
                          [
                            1,
                            "#f0f921"
                          ]
                        ],
                        "type": "surface"
                      }
                    ],
                    "table": [
                      {
                        "cells": {
                          "fill": {
                            "color": "#EBF0F8"
                          },
                          "line": {
                            "color": "white"
                          }
                        },
                        "header": {
                          "fill": {
                            "color": "#C8D4E3"
                          },
                          "line": {
                            "color": "white"
                          }
                        },
                        "type": "table"
                      }
                    ]
                  },
                  "layout": {
                    "annotationdefaults": {
                      "arrowcolor": "#2a3f5f",
                      "arrowhead": 0,
                      "arrowwidth": 1
                    },
                    "autotypenumbers": "strict",
                    "coloraxis": {
                      "colorbar": {
                        "outlinewidth": 0,
                        "ticks": ""
                      }
                    },
                    "colorscale": {
                      "diverging": [
                        [
                          0,
                          "#8e0152"
                        ],
                        [
                          0.1,
                          "#c51b7d"
                        ],
                        [
                          0.2,
                          "#de77ae"
                        ],
                        [
                          0.3,
                          "#f1b6da"
                        ],
                        [
                          0.4,
                          "#fde0ef"
                        ],
                        [
                          0.5,
                          "#f7f7f7"
                        ],
                        [
                          0.6,
                          "#e6f5d0"
                        ],
                        [
                          0.7,
                          "#b8e186"
                        ],
                        [
                          0.8,
                          "#7fbc41"
                        ],
                        [
                          0.9,
                          "#4d9221"
                        ],
                        [
                          1,
                          "#276419"
                        ]
                      ],
                      "sequential": [
                        [
                          0,
                          "#0d0887"
                        ],
                        [
                          0.1111111111111111,
                          "#46039f"
                        ],
                        [
                          0.2222222222222222,
                          "#7201a8"
                        ],
                        [
                          0.3333333333333333,
                          "#9c179e"
                        ],
                        [
                          0.4444444444444444,
                          "#bd3786"
                        ],
                        [
                          0.5555555555555556,
                          "#d8576b"
                        ],
                        [
                          0.6666666666666666,
                          "#ed7953"
                        ],
                        [
                          0.7777777777777778,
                          "#fb9f3a"
                        ],
                        [
                          0.8888888888888888,
                          "#fdca26"
                        ],
                        [
                          1,
                          "#f0f921"
                        ]
                      ],
                      "sequentialminus": [
                        [
                          0,
                          "#0d0887"
                        ],
                        [
                          0.1111111111111111,
                          "#46039f"
                        ],
                        [
                          0.2222222222222222,
                          "#7201a8"
                        ],
                        [
                          0.3333333333333333,
                          "#9c179e"
                        ],
                        [
                          0.4444444444444444,
                          "#bd3786"
                        ],
                        [
                          0.5555555555555556,
                          "#d8576b"
                        ],
                        [
                          0.6666666666666666,
                          "#ed7953"
                        ],
                        [
                          0.7777777777777778,
                          "#fb9f3a"
                        ],
                        [
                          0.8888888888888888,
                          "#fdca26"
                        ],
                        [
                          1,
                          "#f0f921"
                        ]
                      ]
                    },
                    "colorway": [
                      "#636efa",
                      "#EF553B",
                      "#00cc96",
                      "#ab63fa",
                      "#FFA15A",
                      "#19d3f3",
                      "#FF6692",
                      "#B6E880",
                      "#FF97FF",
                      "#FECB52"
                    ],
                    "font": {
                      "color": "#2a3f5f"
                    },
                    "geo": {
                      "bgcolor": "white",
                      "lakecolor": "white",
                      "landcolor": "#E5ECF6",
                      "showlakes": true,
                      "showland": true,
                      "subunitcolor": "white"
                    },
                    "hoverlabel": {
                      "align": "left"
                    },
                    "hovermode": "closest",
                    "mapbox": {
                      "style": "light"
                    },
                    "paper_bgcolor": "white",
                    "plot_bgcolor": "#E5ECF6",
                    "polar": {
                      "angularaxis": {
                        "gridcolor": "white",
                        "linecolor": "white",
                        "ticks": ""
                      },
                      "bgcolor": "#E5ECF6",
                      "radialaxis": {
                        "gridcolor": "white",
                        "linecolor": "white",
                        "ticks": ""
                      }
                    },
                    "scene": {
                      "xaxis": {
                        "backgroundcolor": "#E5ECF6",
                        "gridcolor": "white",
                        "gridwidth": 2,
                        "linecolor": "white",
                        "showbackground": true,
                        "ticks": "",
                        "zerolinecolor": "white"
                      },
                      "yaxis": {
                        "backgroundcolor": "#E5ECF6",
                        "gridcolor": "white",
                        "gridwidth": 2,
                        "linecolor": "white",
                        "showbackground": true,
                        "ticks": "",
                        "zerolinecolor": "white"
                      },
                      "zaxis": {
                        "backgroundcolor": "#E5ECF6",
                        "gridcolor": "white",
                        "gridwidth": 2,
                        "linecolor": "white",
                        "showbackground": true,
                        "ticks": "",
                        "zerolinecolor": "white"
                      }
                    },
                    "shapedefaults": {
                      "line": {
                        "color": "#2a3f5f"
                      }
                    },
                    "ternary": {
                      "aaxis": {
                        "gridcolor": "white",
                        "linecolor": "white",
                        "ticks": ""
                      },
                      "baxis": {
                        "gridcolor": "white",
                        "linecolor": "white",
                        "ticks": ""
                      },
                      "bgcolor": "#E5ECF6",
                      "caxis": {
                        "gridcolor": "white",
                        "linecolor": "white",
                        "ticks": ""
                      }
                    },
                    "title": {
                      "x": 0.05
                    },
                    "xaxis": {
                      "automargin": true,
                      "gridcolor": "white",
                      "linecolor": "white",
                      "ticks": "",
                      "title": {
                        "standoff": 15
                      },
                      "zerolinecolor": "white",
                      "zerolinewidth": 2
                    },
                    "yaxis": {
                      "automargin": true,
                      "gridcolor": "white",
                      "linecolor": "white",
                      "ticks": "",
                      "title": {
                        "standoff": 15
                      },
                      "zerolinecolor": "white",
                      "zerolinewidth": 2
                    }
                  }
                },
                "title": {
                  "text": "Dimension chart of: stacks on stacks"
                },
                "xaxis": {
                  "anchor": "y",
                  "domain": [
                    0,
                    0.94
                  ]
                },
                "yaxis": {
                  "anchor": "x",
                  "domain": [
                    0,
                    1
                  ],
                  "title": {
                    "text": "Dimension"
                  }
                },
                "yaxis2": {
                  "anchor": "x",
                  "overlaying": "y",
                  "side": "right",
                  "title": {
                    "text": "Probability Density"
                  }
                }
              }
            }
          },
          "metadata": {},
          "output_type": "display_data"
        }
      ],
      "source": [
        "ds.plot.plot_stack(stack)"
      ]
    },
    {
      "cell_type": "code",
      "execution_count": 3,
      "metadata": {},
      "outputs": [
        {
          "data": {
            "text/html": [
              "<style type=\"text/css\">\n",
              "</style>\n",
              "<table id=\"T_5b545\">\n",
              "  <caption>Dimension: stacks on stacks - Closed Analysis</caption>\n",
              "  <thead>\n",
              "    <tr>\n",
              "      <th id=\"T_5b545_level0_col0\" class=\"col_heading level0 col0\" >ID</th>\n",
              "      <th id=\"T_5b545_level0_col1\" class=\"col_heading level0 col1\" >Name</th>\n",
              "      <th id=\"T_5b545_level0_col2\" class=\"col_heading level0 col2\" >Description</th>\n",
              "      <th id=\"T_5b545_level0_col3\" class=\"col_heading level0 col3\" >dir</th>\n",
              "      <th id=\"T_5b545_level0_col4\" class=\"col_heading level0 col4\" >Nom.</th>\n",
              "      <th id=\"T_5b545_level0_col5\" class=\"col_heading level0 col5\" >Tol.</th>\n",
              "      <th id=\"T_5b545_level0_col6\" class=\"col_heading level0 col6\" >Sen.</th>\n",
              "      <th id=\"T_5b545_level0_col7\" class=\"col_heading level0 col7\" >Relative Bounds</th>\n",
              "      <th id=\"T_5b545_level0_col8\" class=\"col_heading level0 col8\" >Distribution</th>\n",
              "    </tr>\n",
              "  </thead>\n",
              "  <tbody>\n",
              "    <tr>\n",
              "      <td id=\"T_5b545_row0_col0\" class=\"data row0 col0\" >7</td>\n",
              "      <td id=\"T_5b545_row0_col1\" class=\"data row0 col1\" >stacks on stacks</td>\n",
              "      <td id=\"T_5b545_row0_col2\" class=\"data row0 col2\" >Closed Analysis</td>\n",
              "      <td id=\"T_5b545_row0_col3\" class=\"data row0 col3\" >+</td>\n",
              "      <td id=\"T_5b545_row0_col4\" class=\"data row0 col4\" >0.25</td>\n",
              "      <td id=\"T_5b545_row0_col5\" class=\"data row0 col5\" >+ 0.533 / - 0.233</td>\n",
              "      <td id=\"T_5b545_row0_col6\" class=\"data row0 col6\" >1</td>\n",
              "      <td id=\"T_5b545_row0_col7\" class=\"data row0 col7\" >[0.017, 0.783]</td>\n",
              "      <td id=\"T_5b545_row0_col8\" class=\"data row0 col8\" >Uniform</td>\n",
              "    </tr>\n",
              "  </tbody>\n",
              "</table>\n"
            ],
            "text/plain": [
              "7: stacks on stacks Closed Analysis +0.25 + 0.533 / - 0.233"
            ]
          },
          "metadata": {},
          "output_type": "display_data"
        },
        {
          "data": {
            "text/html": [
              "<style type=\"text/css\">\n",
              "</style>\n",
              "<table id=\"T_4c142\">\n",
              "  <caption>Dimension: stacks on stacks - WC Analysis</caption>\n",
              "  <thead>\n",
              "    <tr>\n",
              "      <th id=\"T_4c142_level0_col0\" class=\"col_heading level0 col0\" >ID</th>\n",
              "      <th id=\"T_4c142_level0_col1\" class=\"col_heading level0 col1\" >Name</th>\n",
              "      <th id=\"T_4c142_level0_col2\" class=\"col_heading level0 col2\" >Description</th>\n",
              "      <th id=\"T_4c142_level0_col3\" class=\"col_heading level0 col3\" >dir</th>\n",
              "      <th id=\"T_4c142_level0_col4\" class=\"col_heading level0 col4\" >Nom.</th>\n",
              "      <th id=\"T_4c142_level0_col5\" class=\"col_heading level0 col5\" >Tol.</th>\n",
              "      <th id=\"T_4c142_level0_col6\" class=\"col_heading level0 col6\" >Sen.</th>\n",
              "      <th id=\"T_4c142_level0_col7\" class=\"col_heading level0 col7\" >Relative Bounds</th>\n",
              "      <th id=\"T_4c142_level0_col8\" class=\"col_heading level0 col8\" >Distribution</th>\n",
              "    </tr>\n",
              "  </thead>\n",
              "  <tbody>\n",
              "    <tr>\n",
              "      <td id=\"T_4c142_row0_col0\" class=\"data row0 col0\" >8</td>\n",
              "      <td id=\"T_4c142_row0_col1\" class=\"data row0 col1\" >stacks on stacks</td>\n",
              "      <td id=\"T_4c142_row0_col2\" class=\"data row0 col2\" >WC Analysis</td>\n",
              "      <td id=\"T_4c142_row0_col3\" class=\"data row0 col3\" >+</td>\n",
              "      <td id=\"T_4c142_row0_col4\" class=\"data row0 col4\" >0.4</td>\n",
              "      <td id=\"T_4c142_row0_col5\" class=\"data row0 col5\" >± 0.383       </td>\n",
              "      <td id=\"T_4c142_row0_col6\" class=\"data row0 col6\" >1</td>\n",
              "      <td id=\"T_4c142_row0_col7\" class=\"data row0 col7\" >[0.017, 0.783]</td>\n",
              "      <td id=\"T_4c142_row0_col8\" class=\"data row0 col8\" >Uniform</td>\n",
              "    </tr>\n",
              "  </tbody>\n",
              "</table>\n"
            ],
            "text/plain": [
              "8: stacks on stacks WC Analysis +0.4 ± 0.383"
            ]
          },
          "metadata": {},
          "output_type": "display_data"
        },
        {
          "name": "stderr",
          "output_type": "stream",
          "text": [
            "WARNING:root:Converting BasicDimension (5: f Bearing Sleeve +20 ± 0.026) to StatisticalDimension\n"
          ]
        },
        {
          "data": {
            "text/html": [
              "<style type=\"text/css\">\n",
              "</style>\n",
              "<table id=\"T_5e115\">\n",
              "  <caption>Dimension: stacks on stacks - RSS Analysis (assuming inputs with Normal Distribution & ± 3σ)</caption>\n",
              "  <thead>\n",
              "    <tr>\n",
              "      <th id=\"T_5e115_level0_col0\" class=\"col_heading level0 col0\" >ID</th>\n",
              "      <th id=\"T_5e115_level0_col1\" class=\"col_heading level0 col1\" >Name</th>\n",
              "      <th id=\"T_5e115_level0_col2\" class=\"col_heading level0 col2\" >Description</th>\n",
              "      <th id=\"T_5e115_level0_col3\" class=\"col_heading level0 col3\" >dir</th>\n",
              "      <th id=\"T_5e115_level0_col4\" class=\"col_heading level0 col4\" >Nom.</th>\n",
              "      <th id=\"T_5e115_level0_col5\" class=\"col_heading level0 col5\" >Tol.</th>\n",
              "      <th id=\"T_5e115_level0_col6\" class=\"col_heading level0 col6\" >Sen.</th>\n",
              "      <th id=\"T_5e115_level0_col7\" class=\"col_heading level0 col7\" >Relative Bounds</th>\n",
              "      <th id=\"T_5e115_level0_col8\" class=\"col_heading level0 col8\" >Distribution</th>\n",
              "      <th id=\"T_5e115_level0_col9\" class=\"col_heading level0 col9\" >Process Sigma</th>\n",
              "      <th id=\"T_5e115_level0_col10\" class=\"col_heading level0 col10\" >k</th>\n",
              "      <th id=\"T_5e115_level0_col11\" class=\"col_heading level0 col11\" >C_p</th>\n",
              "      <th id=\"T_5e115_level0_col12\" class=\"col_heading level0 col12\" >C_pk</th>\n",
              "      <th id=\"T_5e115_level0_col13\" class=\"col_heading level0 col13\" >μ</th>\n",
              "      <th id=\"T_5e115_level0_col14\" class=\"col_heading level0 col14\" >σ</th>\n",
              "      <th id=\"T_5e115_level0_col15\" class=\"col_heading level0 col15\" >μ_eff</th>\n",
              "      <th id=\"T_5e115_level0_col16\" class=\"col_heading level0 col16\" >σ_eff</th>\n",
              "      <th id=\"T_5e115_level0_col17\" class=\"col_heading level0 col17\" >Yield Probability</th>\n",
              "      <th id=\"T_5e115_level0_col18\" class=\"col_heading level0 col18\" >Reject PPM</th>\n",
              "    </tr>\n",
              "  </thead>\n",
              "  <tbody>\n",
              "    <tr>\n",
              "      <td id=\"T_5e115_row0_col0\" class=\"data row0 col0\" >10</td>\n",
              "      <td id=\"T_5e115_row0_col1\" class=\"data row0 col1\" >stacks on stacks</td>\n",
              "      <td id=\"T_5e115_row0_col2\" class=\"data row0 col2\" >RSS Analysis (assuming inputs with Normal Distribution & ± 3σ)</td>\n",
              "      <td id=\"T_5e115_row0_col3\" class=\"data row0 col3\" >+</td>\n",
              "      <td id=\"T_5e115_row0_col4\" class=\"data row0 col4\" >0.4</td>\n",
              "      <td id=\"T_5e115_row0_col5\" class=\"data row0 col5\" >± 0.17825     </td>\n",
              "      <td id=\"T_5e115_row0_col6\" class=\"data row0 col6\" >1</td>\n",
              "      <td id=\"T_5e115_row0_col7\" class=\"data row0 col7\" >[0.22175, 0.57825]</td>\n",
              "      <td id=\"T_5e115_row0_col8\" class=\"data row0 col8\" >Normal</td>\n",
              "      <td id=\"T_5e115_row0_col9\" class=\"data row0 col9\" >± 3σ</td>\n",
              "      <td id=\"T_5e115_row0_col10\" class=\"data row0 col10\" >0</td>\n",
              "      <td id=\"T_5e115_row0_col11\" class=\"data row0 col11\" >1.0</td>\n",
              "      <td id=\"T_5e115_row0_col12\" class=\"data row0 col12\" >1.0</td>\n",
              "      <td id=\"T_5e115_row0_col13\" class=\"data row0 col13\" >0.4</td>\n",
              "      <td id=\"T_5e115_row0_col14\" class=\"data row0 col14\" >0.05942</td>\n",
              "      <td id=\"T_5e115_row0_col15\" class=\"data row0 col15\" >0.4</td>\n",
              "      <td id=\"T_5e115_row0_col16\" class=\"data row0 col16\" >0.05942</td>\n",
              "      <td id=\"T_5e115_row0_col17\" class=\"data row0 col17\" >99.73002039</td>\n",
              "      <td id=\"T_5e115_row0_col18\" class=\"data row0 col18\" >2699.8</td>\n",
              "    </tr>\n",
              "  </tbody>\n",
              "</table>\n"
            ],
            "text/plain": [
              "10: stacks on stacks RSS Analysis (assuming inputs with Normal Distribution & ± 3σ) +0.4 ± 0.17825 @ ± 3σ & k=0"
            ]
          },
          "metadata": {},
          "output_type": "display_data"
        },
        {
          "name": "stderr",
          "output_type": "stream",
          "text": [
            "WARNING:root:Converting BasicDimension (5: f Bearing Sleeve +20 ± 0.026) to StatisticalDimension\n"
          ]
        },
        {
          "data": {
            "text/html": [
              "<style type=\"text/css\">\n",
              "</style>\n",
              "<table id=\"T_e0056\">\n",
              "  <caption>Dimension: stacks on stacks - MRSS Analysis (assuming inputs with Normal Distribution & ± 3σ)</caption>\n",
              "  <thead>\n",
              "    <tr>\n",
              "      <th id=\"T_e0056_level0_col0\" class=\"col_heading level0 col0\" >ID</th>\n",
              "      <th id=\"T_e0056_level0_col1\" class=\"col_heading level0 col1\" >Name</th>\n",
              "      <th id=\"T_e0056_level0_col2\" class=\"col_heading level0 col2\" >Description</th>\n",
              "      <th id=\"T_e0056_level0_col3\" class=\"col_heading level0 col3\" >dir</th>\n",
              "      <th id=\"T_e0056_level0_col4\" class=\"col_heading level0 col4\" >Nom.</th>\n",
              "      <th id=\"T_e0056_level0_col5\" class=\"col_heading level0 col5\" >Tol.</th>\n",
              "      <th id=\"T_e0056_level0_col6\" class=\"col_heading level0 col6\" >Sen.</th>\n",
              "      <th id=\"T_e0056_level0_col7\" class=\"col_heading level0 col7\" >Relative Bounds</th>\n",
              "      <th id=\"T_e0056_level0_col8\" class=\"col_heading level0 col8\" >Distribution</th>\n",
              "      <th id=\"T_e0056_level0_col9\" class=\"col_heading level0 col9\" >Process Sigma</th>\n",
              "      <th id=\"T_e0056_level0_col10\" class=\"col_heading level0 col10\" >k</th>\n",
              "      <th id=\"T_e0056_level0_col11\" class=\"col_heading level0 col11\" >C_p</th>\n",
              "      <th id=\"T_e0056_level0_col12\" class=\"col_heading level0 col12\" >C_pk</th>\n",
              "      <th id=\"T_e0056_level0_col13\" class=\"col_heading level0 col13\" >μ</th>\n",
              "      <th id=\"T_e0056_level0_col14\" class=\"col_heading level0 col14\" >σ</th>\n",
              "      <th id=\"T_e0056_level0_col15\" class=\"col_heading level0 col15\" >μ_eff</th>\n",
              "      <th id=\"T_e0056_level0_col16\" class=\"col_heading level0 col16\" >σ_eff</th>\n",
              "      <th id=\"T_e0056_level0_col17\" class=\"col_heading level0 col17\" >Yield Probability</th>\n",
              "      <th id=\"T_e0056_level0_col18\" class=\"col_heading level0 col18\" >Reject PPM</th>\n",
              "    </tr>\n",
              "  </thead>\n",
              "  <tbody>\n",
              "    <tr>\n",
              "      <td id=\"T_e0056_row0_col0\" class=\"data row0 col0\" >12</td>\n",
              "      <td id=\"T_e0056_row0_col1\" class=\"data row0 col1\" >stacks on stacks</td>\n",
              "      <td id=\"T_e0056_row0_col2\" class=\"data row0 col2\" >MRSS Analysis (assuming inputs with Normal Distribution & ± 3σ)</td>\n",
              "      <td id=\"T_e0056_row0_col3\" class=\"data row0 col3\" >+</td>\n",
              "      <td id=\"T_e0056_row0_col4\" class=\"data row0 col4\" >0.4</td>\n",
              "      <td id=\"T_e0056_row0_col5\" class=\"data row0 col5\" >± 0.24046     </td>\n",
              "      <td id=\"T_e0056_row0_col6\" class=\"data row0 col6\" >1</td>\n",
              "      <td id=\"T_e0056_row0_col7\" class=\"data row0 col7\" >[0.15954, 0.64046]</td>\n",
              "      <td id=\"T_e0056_row0_col8\" class=\"data row0 col8\" >Normal</td>\n",
              "      <td id=\"T_e0056_row0_col9\" class=\"data row0 col9\" >± 3.76693σ</td>\n",
              "      <td id=\"T_e0056_row0_col10\" class=\"data row0 col10\" >0</td>\n",
              "      <td id=\"T_e0056_row0_col11\" class=\"data row0 col11\" >1.25564</td>\n",
              "      <td id=\"T_e0056_row0_col12\" class=\"data row0 col12\" >1.25564</td>\n",
              "      <td id=\"T_e0056_row0_col13\" class=\"data row0 col13\" >0.4</td>\n",
              "      <td id=\"T_e0056_row0_col14\" class=\"data row0 col14\" >0.06383</td>\n",
              "      <td id=\"T_e0056_row0_col15\" class=\"data row0 col15\" >0.4</td>\n",
              "      <td id=\"T_e0056_row0_col16\" class=\"data row0 col16\" >0.06383</td>\n",
              "      <td id=\"T_e0056_row0_col17\" class=\"data row0 col17\" >99.98347307</td>\n",
              "      <td id=\"T_e0056_row0_col18\" class=\"data row0 col18\" >165.27</td>\n",
              "    </tr>\n",
              "  </tbody>\n",
              "</table>\n"
            ],
            "text/plain": [
              "12: stacks on stacks MRSS Analysis (assuming inputs with Normal Distribution & ± 3σ) +0.4 ± 0.24046 @ ± 3.7669270447909926σ & k=0"
            ]
          },
          "metadata": {},
          "output_type": "display_data"
        },
        {
          "name": "stderr",
          "output_type": "stream",
          "text": [
            "WARNING:root:Converting BasicDimension (5: f Bearing Sleeve +20 ± 0.026) to StatisticalDimension\n"
          ]
        },
        {
          "data": {
            "text/html": [
              "<style type=\"text/css\">\n",
              "</style>\n",
              "<table id=\"T_2e57b\">\n",
              "  <caption>Dimension: stacks on stacks - '6 Sigma' Analysis (assuming inputs with Normal Distribution)</caption>\n",
              "  <thead>\n",
              "    <tr>\n",
              "      <th id=\"T_2e57b_level0_col0\" class=\"col_heading level0 col0\" >ID</th>\n",
              "      <th id=\"T_2e57b_level0_col1\" class=\"col_heading level0 col1\" >Name</th>\n",
              "      <th id=\"T_2e57b_level0_col2\" class=\"col_heading level0 col2\" >Description</th>\n",
              "      <th id=\"T_2e57b_level0_col3\" class=\"col_heading level0 col3\" >dir</th>\n",
              "      <th id=\"T_2e57b_level0_col4\" class=\"col_heading level0 col4\" >Nom.</th>\n",
              "      <th id=\"T_2e57b_level0_col5\" class=\"col_heading level0 col5\" >Tol.</th>\n",
              "      <th id=\"T_2e57b_level0_col6\" class=\"col_heading level0 col6\" >Sen.</th>\n",
              "      <th id=\"T_2e57b_level0_col7\" class=\"col_heading level0 col7\" >Relative Bounds</th>\n",
              "      <th id=\"T_2e57b_level0_col8\" class=\"col_heading level0 col8\" >Distribution</th>\n",
              "      <th id=\"T_2e57b_level0_col9\" class=\"col_heading level0 col9\" >Process Sigma</th>\n",
              "      <th id=\"T_2e57b_level0_col10\" class=\"col_heading level0 col10\" >k</th>\n",
              "      <th id=\"T_2e57b_level0_col11\" class=\"col_heading level0 col11\" >C_p</th>\n",
              "      <th id=\"T_2e57b_level0_col12\" class=\"col_heading level0 col12\" >C_pk</th>\n",
              "      <th id=\"T_2e57b_level0_col13\" class=\"col_heading level0 col13\" >μ</th>\n",
              "      <th id=\"T_2e57b_level0_col14\" class=\"col_heading level0 col14\" >σ</th>\n",
              "      <th id=\"T_2e57b_level0_col15\" class=\"col_heading level0 col15\" >μ_eff</th>\n",
              "      <th id=\"T_2e57b_level0_col16\" class=\"col_heading level0 col16\" >σ_eff</th>\n",
              "      <th id=\"T_2e57b_level0_col17\" class=\"col_heading level0 col17\" >Yield Probability</th>\n",
              "      <th id=\"T_2e57b_level0_col18\" class=\"col_heading level0 col18\" >Reject PPM</th>\n",
              "    </tr>\n",
              "  </thead>\n",
              "  <tbody>\n",
              "    <tr>\n",
              "      <td id=\"T_2e57b_row0_col0\" class=\"data row0 col0\" >14</td>\n",
              "      <td id=\"T_2e57b_row0_col1\" class=\"data row0 col1\" >stacks on stacks</td>\n",
              "      <td id=\"T_2e57b_row0_col2\" class=\"data row0 col2\" >'6 Sigma' Analysis (assuming inputs with Normal Distribution)</td>\n",
              "      <td id=\"T_2e57b_row0_col3\" class=\"data row0 col3\" >+</td>\n",
              "      <td id=\"T_2e57b_row0_col4\" class=\"data row0 col4\" >0.4</td>\n",
              "      <td id=\"T_2e57b_row0_col5\" class=\"data row0 col5\" >± 0.26433     </td>\n",
              "      <td id=\"T_2e57b_row0_col6\" class=\"data row0 col6\" >1</td>\n",
              "      <td id=\"T_2e57b_row0_col7\" class=\"data row0 col7\" >[0.13567, 0.66433]</td>\n",
              "      <td id=\"T_2e57b_row0_col8\" class=\"data row0 col8\" >Normal</td>\n",
              "      <td id=\"T_2e57b_row0_col9\" class=\"data row0 col9\" >± 4.5σ</td>\n",
              "      <td id=\"T_2e57b_row0_col10\" class=\"data row0 col10\" >0</td>\n",
              "      <td id=\"T_2e57b_row0_col11\" class=\"data row0 col11\" >1.5</td>\n",
              "      <td id=\"T_2e57b_row0_col12\" class=\"data row0 col12\" >1.5</td>\n",
              "      <td id=\"T_2e57b_row0_col13\" class=\"data row0 col13\" >0.4</td>\n",
              "      <td id=\"T_2e57b_row0_col14\" class=\"data row0 col14\" >0.05874</td>\n",
              "      <td id=\"T_2e57b_row0_col15\" class=\"data row0 col15\" >0.4</td>\n",
              "      <td id=\"T_2e57b_row0_col16\" class=\"data row0 col16\" >0.05874</td>\n",
              "      <td id=\"T_2e57b_row0_col17\" class=\"data row0 col17\" >99.99932047</td>\n",
              "      <td id=\"T_2e57b_row0_col18\" class=\"data row0 col18\" >6.8</td>\n",
              "    </tr>\n",
              "  </tbody>\n",
              "</table>\n"
            ],
            "text/plain": [
              "14: stacks on stacks '6 Sigma' Analysis (assuming inputs with Normal Distribution) +0.4 ± 0.26433 @ ± 4.5σ & k=0"
            ]
          },
          "metadata": {},
          "output_type": "display_data"
        }
      ],
      "source": [
        "display(stack.Closed)\n",
        "display(stack.WC)\n",
        "display(stack.RSS)\n",
        "display(stack.MRSS)\n",
        "display(stack.SixSigma(at=4.5))"
      ]
    },
    {
      "cell_type": "code",
      "execution_count": 4,
      "metadata": {},
      "outputs": [
        {
          "name": "stderr",
          "output_type": "stream",
          "text": [
            "WARNING:root:Converting BasicDimension (5: f Bearing Sleeve +20 ± 0.026) to StatisticalDimension\n"
          ]
        },
        {
          "data": {
            "text/html": [
              "<style type=\"text/css\">\n",
              "</style>\n",
              "<table id=\"T_6dbb5\">\n",
              "  <caption>Spec: stack spec</caption>\n",
              "  <thead>\n",
              "    <tr>\n",
              "      <th id=\"T_6dbb5_level0_col0\" class=\"col_heading level0 col0\" >Name</th>\n",
              "      <th id=\"T_6dbb5_level0_col1\" class=\"col_heading level0 col1\" >Description</th>\n",
              "      <th id=\"T_6dbb5_level0_col2\" class=\"col_heading level0 col2\" >Dimension</th>\n",
              "      <th id=\"T_6dbb5_level0_col3\" class=\"col_heading level0 col3\" >Spec. Limits</th>\n",
              "      <th id=\"T_6dbb5_level0_col4\" class=\"col_heading level0 col4\" >Median</th>\n",
              "      <th id=\"T_6dbb5_level0_col5\" class=\"col_heading level0 col5\" >k</th>\n",
              "      <th id=\"T_6dbb5_level0_col6\" class=\"col_heading level0 col6\" >C_p</th>\n",
              "      <th id=\"T_6dbb5_level0_col7\" class=\"col_heading level0 col7\" >C_pk</th>\n",
              "      <th id=\"T_6dbb5_level0_col8\" class=\"col_heading level0 col8\" >Yield Probability</th>\n",
              "      <th id=\"T_6dbb5_level0_col9\" class=\"col_heading level0 col9\" >Reject PPM</th>\n",
              "    </tr>\n",
              "  </thead>\n",
              "  <tbody>\n",
              "    <tr>\n",
              "      <td id=\"T_6dbb5_row0_col0\" class=\"data row0 col0\" >stack spec</td>\n",
              "      <td id=\"T_6dbb5_row0_col1\" class=\"data row0 col1\" ></td>\n",
              "      <td id=\"T_6dbb5_row0_col2\" class=\"data row0 col2\" >16: stacks on stacks '6 Sigma' Analysis (assuming inputs with Normal Distribution) +0.4 ± 0.26433 @ ± 4.5σ & k=0</td>\n",
              "      <td id=\"T_6dbb5_row0_col3\" class=\"data row0 col3\" >[0.05, 0.8]</td>\n",
              "      <td id=\"T_6dbb5_row0_col4\" class=\"data row0 col4\" >0.425</td>\n",
              "      <td id=\"T_6dbb5_row0_col5\" class=\"data row0 col5\" >0.06667</td>\n",
              "      <td id=\"T_6dbb5_row0_col6\" class=\"data row0 col6\" >2.12804</td>\n",
              "      <td id=\"T_6dbb5_row0_col7\" class=\"data row0 col7\" >1.98617</td>\n",
              "      <td id=\"T_6dbb5_row0_col8\" class=\"data row0 col8\" >100</td>\n",
              "      <td id=\"T_6dbb5_row0_col9\" class=\"data row0 col9\" >0</td>\n",
              "    </tr>\n",
              "  </tbody>\n",
              "</table>\n"
            ],
            "text/plain": [
              "Spec: stack spec"
            ]
          },
          "execution_count": 4,
          "metadata": {},
          "output_type": "execute_result"
        }
      ],
      "source": [
        "spec = ds.Spec(\"stack spec\", \"\", dim=stack.SixSigma(at=4.5), LL=0.05, UL=0.8)\n",
        "spec"
      ]
    }
  ],
  "metadata": {
    "kernelspec": {
      "display_name": ".venv",
      "language": "python",
      "name": "python3"
    },
    "language_info": {
      "codemirror_mode": {
        "name": "ipython",
        "version": 3
      },
      "file_extension": ".py",
      "mimetype": "text/x-python",
      "name": "python",
      "nbconvert_exporter": "python",
      "pygments_lexer": "ipython3",
      "version": "3.8.3"
    },
    "orig_nbformat": 4,
    "vscode": {
      "interpreter": {
        "hash": "5bfb56689b638d8d30b38bea412290d873fd42bedb5432d9308bdce226930289"
      }
    }
  },
  "nbformat": 4,
  "nbformat_minor": 2
}
